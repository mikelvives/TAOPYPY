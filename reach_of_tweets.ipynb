{
  "nbformat": 4,
  "nbformat_minor": 0,
  "metadata": {
    "colab": {
      "name": "reach of tweets.ipynb",
      "version": "0.3.2",
      "views": {},
      "default_view": {},
      "provenance": []
    },
    "kernelspec": {
      "display_name": "Python 3",
      "language": "python",
      "name": "python3"
    }
  },
  "cells": [
    {
      "metadata": {
        "id": "D2bZHCczrK95",
        "colab_type": "code",
        "colab": {
          "autoexec": {
            "startup": false,
            "wait_interval": 0
          }
        }
      },
      "cell_type": "code",
      "source": [
        "import pandas as pd, numpy as np"
      ],
      "execution_count": 0,
      "outputs": []
    },
    {
      "metadata": {
        "id": "lt2KFsNfrK98",
        "colab_type": "code",
        "colab": {
          "autoexec": {
            "startup": false,
            "wait_interval": 0
          }
        }
      },
      "cell_type": "code",
      "source": [
        "df = pd.read_csv('tweets_public.csv', encoding='utf-16', index_col='tweet_id', sep=',')"
      ],
      "execution_count": 0,
      "outputs": []
    },
    {
      "metadata": {
        "id": "rix5OkVyrK9_",
        "colab_type": "code",
        "colab": {
          "autoexec": {
            "startup": false,
            "wait_interval": 0
          }
        }
      },
      "cell_type": "code",
      "source": [
        "tweet_IDs=df.index.tolist()"
      ],
      "execution_count": 0,
      "outputs": []
    },
    {
      "metadata": {
        "id": "VWaJlStYrK-A",
        "colab_type": "code",
        "colab": {
          "autoexec": {
            "startup": false,
            "wait_interval": 0
          }
        }
      },
      "cell_type": "code",
      "source": [
        "import json\n",
        "import tweepy\n",
        "\n",
        "consumer_key = \"[SPII Redacted]\"\n",
        "consumer_secret = \"[SPII Redacted]\"\n",
        "\n",
        "access_key = \"[SPII Redacted]\"\n",
        "access_secret = \"[SPII Redacted]\"\n",
        "\n",
        "#Authentication\n",
        "auth = tweepy.OAuthHandler(consumer_key, consumer_secret)\n",
        "auth.set_access_token(access_key, access_secret)\n",
        "#api = tweepy.API(auth)\n",
        "api = tweepy.API(auth, wait_on_rate_limit=True, wait_on_rate_limit_notify=True)"
      ],
      "execution_count": 0,
      "outputs": []
    },
    {
      "metadata": {
        "id": "5afOFyPgrK-D",
        "colab_type": "code",
        "colab": {
          "autoexec": {
            "startup": false,
            "wait_interval": 0
          }
        },
        "outputId": "b867436b-690a-4327-ac57-807940a34a9a"
      },
      "cell_type": "code",
      "source": [
        "len(tweet_IDs)"
      ],
      "execution_count": 0,
      "outputs": [
        {
          "output_type": "execute_result",
          "data": {
            "text/plain": [
              "7867"
            ]
          },
          "metadata": {
            "tags": []
          },
          "execution_count": 66
        }
      ]
    },
    {
      "metadata": {
        "id": "kT_x8Y1trK-H",
        "colab_type": "code",
        "colab": {
          "autoexec": {
            "startup": false,
            "wait_interval": 0
          }
        },
        "outputId": "da07b7eb-ae02-4eb3-a91b-7a8c356dadf3"
      },
      "cell_type": "code",
      "source": [
        "user_followers = []\n",
        "for i in tweet_IDs:\n",
        "    #print(api.get_status(i).author.followers_count)\n",
        "    try:\n",
        "        user_followers.append(api.get_status(i).author.followers_count)\n",
        "    except:\n",
        "        user_followers.append(0)"
      ],
      "execution_count": 0,
      "outputs": [
        {
          "output_type": "stream",
          "text": [
            "Rate limit reached. Sleeping for: 535\n",
            "Rate limit reached. Sleeping for: 532\n",
            "Rate limit reached. Sleeping for: 533\n",
            "Rate limit reached. Sleeping for: 527\n",
            "Rate limit reached. Sleeping for: 533\n",
            "Rate limit reached. Sleeping for: 528\n",
            "Rate limit reached. Sleeping for: 535\n",
            "Rate limit reached. Sleeping for: 535\n"
          ],
          "name": "stderr"
        }
      ]
    },
    {
      "metadata": {
        "id": "a8qwMEw2rK-K",
        "colab_type": "code",
        "colab": {
          "autoexec": {
            "startup": false,
            "wait_interval": 0
          }
        },
        "outputId": "96e38080-55ba-4702-c4df-056a7ac28598"
      },
      "cell_type": "code",
      "source": [
        "len(user_followers)"
      ],
      "execution_count": 0,
      "outputs": [
        {
          "output_type": "execute_result",
          "data": {
            "text/plain": [
              "7867"
            ]
          },
          "metadata": {
            "tags": []
          },
          "execution_count": 71
        }
      ]
    },
    {
      "metadata": {
        "id": "F3zsD0NRrK-N",
        "colab_type": "code",
        "colab": {
          "autoexec": {
            "startup": false,
            "wait_interval": 0
          }
        }
      },
      "cell_type": "code",
      "source": [
        "reach_tweets = pd.DataFrame(\n",
        "    {'tweet_IDs':tweet_IDs,\n",
        "     'user_followers':user_followers})"
      ],
      "execution_count": 0,
      "outputs": []
    },
    {
      "metadata": {
        "id": "NCAAAWMdrK-P",
        "colab_type": "code",
        "colab": {
          "autoexec": {
            "startup": false,
            "wait_interval": 0
          }
        },
        "outputId": "89749d7f-365c-47dc-b524-5808d5140f3c"
      },
      "cell_type": "code",
      "source": [
        "reach_tweets['user_followers'].sum()"
      ],
      "execution_count": 0,
      "outputs": [
        {
          "output_type": "execute_result",
          "data": {
            "text/plain": [
              "58525886"
            ]
          },
          "metadata": {
            "tags": []
          },
          "execution_count": 79
        }
      ]
    },
    {
      "metadata": {
        "id": "siCZUNuDrK-T",
        "colab_type": "code",
        "colab": {
          "autoexec": {
            "startup": false,
            "wait_interval": 0
          }
        }
      },
      "cell_type": "code",
      "source": [
        "reach_tweets.to_csv('reach_tweets.csv')"
      ],
      "execution_count": 0,
      "outputs": []
    }
  ]
}