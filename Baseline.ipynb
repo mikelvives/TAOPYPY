{
 "cells": [
  {
   "cell_type": "markdown",
   "metadata": {},
   "source": [
    "# Baseline model\n",
    "\n",
    "This is the entrypoint for the competition, it:\n",
    "\n",
    "* Reads data from tweets' CSV files\n",
    "* Computes Bag of Words (BoW) from textual representations (tweets text)\n",
    "* Tests two models to find out which performs better\n",
    "* Predicts classes for the submission/benchmark tweets\n",
    "* Generates a suitable CSV for Kaggle InClass"
   ]
  },
  {
   "cell_type": "markdown",
   "metadata": {},
   "source": [
    "## Data representation\n",
    "\n",
    "The function `obtain_data_representation` performs the BoW transformation over the training set and applies it to both the train and test set.\n",
    "\n",
    "If no test set is provided, the input DataFrame is split into both train and test, 75% and 25% of the data respectively. This is done so as to be able to obtain an accuracy score, which will be the evaluation metric on Kaggle.\n",
    "\n",
    "BoW is computed through `CountVectorizer` class of `sklearn`, restricting it to at most 200 features. The process of finding the best words is done by the `fit` method, whereas transforming the text to numerical vectors (using the learnt features) is done by `transform`. Lastly, `fit_transform` does in a single step the learning and transforming process."
   ]
  },
  {
   "cell_type": "code",
   "execution_count": 43,
   "metadata": {},
   "outputs": [],
   "source": [
    "from sklearn.feature_extraction.text import CountVectorizer\n",
    "from sklearn.model_selection import train_test_split\n",
    "\n",
    "\n",
    "def obtain_data_representation(df, test=None):\n",
    "    # If there is no test data, split the input\n",
    "    if test is None:\n",
    "        # Divide data in train and test\n",
    "        train, test = train_test_split(df, test_size=0.25)\n",
    "        df.airline_sentiment = pd.Categorical(df.airline_sentiment)\n",
    "    else:\n",
    "        # Otherwise, all is train\n",
    "        train = df\n",
    "        \n",
    "    # Create a Bag of Words (BoW), by using train data only\n",
    "    cv = CountVectorizer(max_features=200)#, token_pattern=r'[A-Za-z]{3,}|no')\n",
    "    \n",
    "    #x_train = cv.fit_transform(train['text'])\n",
    "    #--\n",
    "    vectonizer = cv.fit(train['text'])\n",
    "    print(cv.vocabulary_)\n",
    "    x_train = vectonizer.transform(train['text'])\n",
    "    #--\n",
    "    \n",
    "    y_train = train['airline_sentiment'].values\n",
    "    \n",
    "    #print(cv.get_feature_names())\n",
    "    print(\"vector shape: \", x_train.shape)\n",
    "    print(type(x_train))\n",
    "    print(x_train.toarray())\n",
    "    \n",
    "    # Obtain BoW for the test data, using the previously fitted one\n",
    "    x_test = cv.transform(test['text'])\n",
    "    try:\n",
    "        y_test = test['airline_sentiment'].values\n",
    "    except:\n",
    "        # It might be the submision file, where we don't have target values\n",
    "        y_test = None\n",
    "        \n",
    "    return {\n",
    "        'train': {\n",
    "            'x': x_train,\n",
    "            'y': y_train\n",
    "        },\n",
    "        'test': {\n",
    "            'x': x_test,\n",
    "            'y': y_test\n",
    "        }\n",
    "    }"
   ]
  },
  {
   "cell_type": "markdown",
   "metadata": {},
   "source": [
    "## Model training\n",
    "\n",
    "Thought this function might seem strange at first, the only thing to know is that training an `sklearn` model is always done the same way:\n",
    "\n",
    "```python\n",
    "# 1. Create the model\n",
    "model = BernoulliNB()\n",
    "\n",
    "# 2. Train with some data, where `x` are features and\n",
    "#    `y` is the target category\n",
    "model.fit(x, y)\n",
    "\n",
    "# 3. Predict new categories for test data (with which we\n",
    "#    have not trained!)\n",
    "y_pred = model.predict(test_x)\n",
    "```\n",
    "\n",
    "We might also obtain the accuracy score by using the function `accuracy_score`"
   ]
  },
  {
   "cell_type": "code",
   "execution_count": null,
   "metadata": {
    "collapsed": true
   },
   "outputs": [],
   "source": []
  },
  {
   "cell_type": "code",
   "execution_count": 44,
   "metadata": {
    "collapsed": true
   },
   "outputs": [],
   "source": [
    "from sklearn.metrics import accuracy_score\n",
    "\n",
    "def train_model(dataset, dmodel, *model_args, **model_kwargs):\n",
    "    # Create a Naive Bayes model\n",
    "    model = dmodel(*model_args, **model_kwargs)\n",
    "    \n",
    "    # Train it\n",
    "    model.fit(dataset['train']['x'], dataset['train']['y'])\n",
    "    \n",
    "    # Predict new values for test\n",
    "    y_pred = model.predict(dataset['test']['x'])\n",
    "    \n",
    "    # Print accuracy score unless its the submission dataset\n",
    "    if dataset['test']['y'] is not None:\n",
    "        score = accuracy_score(dataset['test']['y'], y_pred)\n",
    "        print(\"Model score is: {}\".format(score))\n",
    "\n",
    "    # Done\n",
    "    return model, y_pred"
   ]
  },
  {
   "cell_type": "code",
   "execution_count": 45,
   "metadata": {},
   "outputs": [
    {
     "name": "stdout",
     "output_type": "stream",
     "text": [
      "{'virginamerica': 178, 'seats': 138, 'in': 89, 'don': 52, 'should': 142, 'that': 152, 'on': 120, 'your': 199, 'americanair': 11, 'thanks': 151, 'by': 33, 'can': 35, 'get': 68, 'back': 20, 'to': 163, 'flight': 59, 'out': 126, 'of': 118, 'so': 143, 'had': 76, 'be': 25, 'southwestair': 146, 'any': 16, 'me': 105, 'amp': 12, 'need': 110, 'know': 95, 'united': 172, 'not': 115, 'my': 109, 'but': 32, 'bag': 22, 'seat': 137, 'why': 191, 'is': 90, 'it': 91, 'for': 65, 'thank': 150, 'you': 198, 'much': 108, 'like': 99, 'great': 74, 'way': 183, 'do': 51, 'please': 132, 'the': 153, 'phone': 130, 'usairways': 175, 'what': 187, 'bags': 24, 'are': 17, 'would': 196, 'there': 157, 'next': 113, 'now': 116, 'got': 73, 'help': 79, 'dm': 50, 'been': 27, 'hold': 81, 'with': 193, 'customer': 42, 'service': 140, 'very': 177, 'time': 162, 'and': 14, 'getting': 69, 'jetblue': 92, 'we': 184, 'all': 8, 'at': 19, 'gate': 67, 'delay': 46, 'this': 159, 'http': 87, 'co': 39, 'let': 98, 'if': 88, 'number': 117, 'want': 181, 'have': 78, 'new': 112, 'just': 94, 'no': 114, 'when': 188, 'will': 192, 'two': 171, 'tomorrow': 166, 'they': 158, 'check': 38, 'airport': 7, 'did': 48, 'or': 124, 'passengers': 128, 'us': 174, 'from': 66, 'hour': 83, 'jfk': 93, 'even': 55, 'over': 127, 'travel': 168, 're': 134, 'still': 147, 'about': 2, 'ticket': 161, 'how': 85, 'our': 125, 'plane': 131, 'after': 3, 'hrs': 86, 'baggage': 23, 'email': 54, 'was': 182, 'change': 37, 'one': 121, 'told': 165, 'day': 44, 'people': 129, 'more': 107, 'll': 100, 'call': 34, 'aa': 1, 'make': 104, 'up': 173, 'too': 167, 'luggage': 103, 've': 176, 'response': 136, 'work': 194, 'then': 156, 'late': 97, 'today': 164, 'better': 30, 'off': 119, 'am': 10, 'lost': 101, 'trip': 169, 'cancelled': 36, 'an': 13, 'someone': 145, 'flying': 64, 'first': 58, 'waiting': 180, 'hours': 84, 'online': 122, 'problems': 133, 'here': 80, 'flights': 62, 'has': 77, 'customers': 43, 'experience': 57, 'trying': 170, 'book': 31, 'take': 148, 'another': 15, 'airline': 6, 'never': 111, 'worst': 195, 'their': 154, 'as': 18, 'see': 139, 'best': 29, 'guys': 75, 'love': 102, 'them': 155, 'bad': 21, 'agent': 5, 'some': 144, 'good': 72, 'going': 71, 'again': 4, 'flightled': 61, 'through': 160, 'wait': 179, 'could': 40, 'before': 28, 'go': 70, 'were': 186, 'delayed': 47, 'home': 82, 'only': 123, 'ever': 56, 'crew': 41, 'didn': 49, 'fly': 63, 'last': 96, '10': 0, 'really': 135, 'days': 45, 'flighted': 60, 'weather': 185, 'because': 26, 'already': 9, 'due': 53, 'where': 189, 'than': 149, 'minutes': 106, 'who': 190, 'she': 141, 'yes': 197}\n",
      "vector shape:  (6588, 200)\n",
      "<class 'scipy.sparse.csr.csr_matrix'>\n",
      "[[0 0 0 ..., 0 0 1]\n",
      " [0 0 0 ..., 0 0 0]\n",
      " [0 0 0 ..., 0 0 0]\n",
      " ..., \n",
      " [0 0 0 ..., 0 0 1]\n",
      " [0 0 0 ..., 0 0 0]\n",
      " [0 0 0 ..., 0 0 0]]\n",
      "Model score is: 0.73816029143898\n",
      "Model score is: 0.5801457194899818\n"
     ]
    }
   ],
   "source": [
    "import pandas as pd\n",
    "import numpy as np\n",
    "from sklearn.naive_bayes import BernoulliNB\n",
    "from sklearn.neighbors import KNeighborsClassifier\n",
    "\n",
    "\n",
    "df = pd.read_csv('tweets_public.csv', index_col='tweet_id')\n",
    "#df = df.loc[df.airline_sentiment_confidence > .5]\n",
    "dataset = obtain_data_representation(df)\n",
    "\n",
    "# Train a Bernoulli Naive Bayes\n",
    "modelNB, _ = train_model(dataset, BernoulliNB)\n",
    "\n",
    "# Train a K Nearest Neighbors Classifier\n",
    "modelKN, _ = train_model(dataset, KNeighborsClassifier)"
   ]
  },
  {
   "cell_type": "markdown",
   "metadata": {},
   "source": [
    "## Submit file\n",
    "\n",
    "Once we have found the best model (BernoulliNB for the above simple test), we can train it with all the data (that is, avoid doing a train/test split) and predict sentiments for the real submission data.\n",
    "\n",
    "This cell below performs exactly this."
   ]
  },
  {
   "cell_type": "code",
   "execution_count": 26,
   "metadata": {},
   "outputs": [
    {
     "name": "stdout",
     "output_type": "stream",
     "text": [
      "Submission file created: submission_11_14_2017-19_47_49.csv\n",
      "Upload it to Kaggle InClass\n"
     ]
    }
   ],
   "source": [
    "import datetime\n",
    "\n",
    "def create_submit_file(df_submission, ypred):\n",
    "    date = datetime.datetime.now().strftime(\"%m_%d_%Y-%H_%M_%S\")\n",
    "    filename = 'submission_' + date + '.csv'\n",
    "    \n",
    "    df_submission['airline_sentiment'] = ypred\n",
    "    df_submission[['airline_sentiment']].to_csv(filename)\n",
    "    \n",
    "    print('Submission file created: {}'.format(filename))\n",
    "    print('Upload it to Kaggle InClass')\n",
    "\n",
    "    \n",
    "# Read submission and retrain with whole data\n",
    "df_submission = pd.read_csv('tweets_submission.csv', index_col='tweet_id')\n",
    "# We use df_submision as test, otherwise it would split df in train/test\n",
    "submission_dataset = obtain_data_representation(df, df_submission)\n",
    "# Predict for df_submission\n",
    "_, y_pred = train_model(submission_dataset, BernoulliNB)\n",
    "\n",
    "# Create submission file with obtained y_pred\n",
    "create_submit_file(df_submission, y_pred)"
   ]
  },
  {
   "cell_type": "code",
   "execution_count": null,
   "metadata": {
    "collapsed": true
   },
   "outputs": [],
   "source": []
  }
 ],
 "metadata": {
  "kernelspec": {
   "display_name": "Python 3",
   "language": "python",
   "name": "python3"
  },
  "language_info": {
   "codemirror_mode": {
    "name": "ipython",
    "version": 3
   },
   "file_extension": ".py",
   "mimetype": "text/x-python",
   "name": "python",
   "nbconvert_exporter": "python",
   "pygments_lexer": "ipython3",
   "version": "3.6.2"
  }
 },
 "nbformat": 4,
 "nbformat_minor": 2
}
