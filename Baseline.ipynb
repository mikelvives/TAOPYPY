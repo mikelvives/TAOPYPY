{
 "cells": [
  {
   "cell_type": "markdown",
   "metadata": {},
   "source": [
    "<img src=https://pre00.deviantart.net/4547/th/pre/f/2017/180/1/0/tao_pai_pai_by_wandertof-d9xtmm9.jpg height=\"500\" width=\"500\">"
   ]
  },
  {
   "cell_type": "markdown",
   "metadata": {},
   "source": [
    "# Baseline model\n",
    "\n",
    "This is the entrypoint for the competition, it:\n",
    "\n",
    "* Reads data from tweets' CSV files\n",
    "* Computes Bag of Words (BoW) from textual representations (tweets text)\n",
    "* Tests two models to find out which performs better\n",
    "* Predicts classes for the submission/benchmark tweets\n",
    "* Generates a suitable CSV for Kaggle InClass"
   ]
  },
  {
   "cell_type": "markdown",
   "metadata": {},
   "source": [
    "## Data representation\n",
    "\n",
    "The function `obtain_data_representation` performs the BoW transformation over the training set and applies it to both the train and test set.\n",
    "\n",
    "If no test set is provided, the input DataFrame is split into both train and test, 75% and 25% of the data respectively. This is done so as to be able to obtain an accuracy score, which will be the evaluation metric on Kaggle.\n",
    "\n",
    "BoW is computed through `CountVectorizer` class of `sklearn`, restricting it to at most 200 features. The process of finding the best words is done by the `fit` method, whereas transforming the text to numerical vectors (using the learnt features) is done by `transform`. Lastly, `fit_transform` does in a single step the learning and transforming process."
   ]
  },
  {
   "cell_type": "code",
   "execution_count": 47,
   "metadata": {
    "collapsed": true
   },
   "outputs": [],
   "source": [
    "from sklearn.feature_extraction.text import CountVectorizer\n",
    "from sklearn.model_selection import train_test_split\n",
    "\n",
    "\n",
    "def obtain_data_representation(df, test=None):\n",
    "    # If there is no test data, split the input\n",
    "    if test is None:\n",
    "        # Divide data in train and test\n",
    "        train, test = train_test_split(df, test_size=0.25)\n",
    "        df.airline_sentiment = pd.Categorical(df.airline_sentiment)\n",
    "    else:\n",
    "        # Otherwise, all is train\n",
    "        train = df\n",
    "        \n",
    "    # Create a Bag of Words (BoW), by using train data only\n",
    "    #cv = CountVectorizer(max_features=200)#, token_pattern=r'[A-Za-z]{3,}|no')\n",
    "    cv = CountVectorizer(max_features=300,token_pattern=r'[A-Za-z@#]{3,}|no|yes|wtf|hrs|jfk', min_df = 5)\n",
    "    \n",
    "    #max_df=100)\n",
    "    \n",
    "    \n",
    "    #x_train = cv.fit_transform(train['text'])\n",
    "    #--\n",
    "    vectonizer = cv.fit(train['text'])\n",
    "    \n",
    "    print(cv.vocabulary_)\n",
    "    x_train = vectonizer.transform(train['text'])\n",
    "    #--\n",
    "    \n",
    "    y_train = train['airline_sentiment'].values\n",
    "    \n",
    "    #print(cv.get_feature_names())\n",
    "    print(\"vector shape: \", x_train.shape)\n",
    "    print(type(x_train))\n",
    "    print(x_train.toarray())\n",
    "    \n",
    "    # Obtain BoW for the test data, using the previously fitted one\n",
    "    x_test = cv.transform(test['text'])\n",
    "    try:\n",
    "        y_test = test['airline_sentiment'].values\n",
    "    except:\n",
    "        # It might be the submision file, where we don't have target values\n",
    "        y_test = None\n",
    "        \n",
    "    return {\n",
    "        'train': {\n",
    "            'x': x_train,\n",
    "            'y': y_train\n",
    "        },\n",
    "        'test': {\n",
    "            'x': x_test,\n",
    "            'y': y_test\n",
    "        }\n",
    "    }"
   ]
  },
  {
   "cell_type": "markdown",
   "metadata": {},
   "source": [
    "## Model training\n",
    "\n",
    "Thought this function might seem strange at first, the only thing to know is that training an `sklearn` model is always done the same way:\n",
    "\n",
    "```python\n",
    "# 1. Create the model\n",
    "model = BernoulliNB()\n",
    "\n",
    "# 2. Train with some data, where `x` are features and\n",
    "#    `y` is the target category\n",
    "model.fit(x, y)\n",
    "\n",
    "# 3. Predict new categories for test data (with which we\n",
    "#    have not trained!)\n",
    "y_pred = model.predict(test_x)\n",
    "```\n",
    "\n",
    "We might also obtain the accuracy score by using the function `accuracy_score`"
   ]
  },
  {
   "cell_type": "code",
   "execution_count": 48,
   "metadata": {
    "collapsed": true
   },
   "outputs": [],
   "source": [
    "from sklearn.metrics import accuracy_score\n",
    "\n",
    "def train_model(dataset, dmodel, *model_args, **model_kwargs):\n",
    "    # Create a Naive Bayes model\n",
    "    model = dmodel(*model_args, **model_kwargs)\n",
    "    \n",
    "    # Train it\n",
    "    model.fit(dataset['train']['x'], dataset['train']['y'])\n",
    "    \n",
    "    # Predict new values for test\n",
    "    y_pred = model.predict(dataset['test']['x'])\n",
    "    \n",
    "    # Print accuracy score unless its the submission dataset\n",
    "    if dataset['test']['y'] is not None:\n",
    "        score = accuracy_score(dataset['test']['y'], y_pred)\n",
    "        print(\"Model score is: {}\".format(score))\n",
    "\n",
    "    # Done\n",
    "    return model, y_pred"
   ]
  },
  {
   "cell_type": "code",
   "execution_count": 49,
   "metadata": {},
   "outputs": [
    {
     "name": "stdout",
     "output_type": "stream",
     "text": [
      "{'@united': 3, 'well': 279, 'you': 298, 'can': 50, 'fix': 90, 'missing': 163, 'because': 36, 'but': 47, 'make': 155, 'for': 100, '@usairways': 4, 'are': 28, 'people': 191, 'this': 251, 'has': 114, 'two': 265, 'with': 288, 'and': 21, 'airport': 15, '@southwestair': 2, 'all': 16, 'know': 141, 'when': 282, 'the': 244, 'new': 170, 'from': 102, 'amp': 20, 'will': 287, 'care': 52, 'about': 6, 'person': 192, 'was': 274, 'lax': 144, 'more': 165, 'now': 177, 'have': 115, 'cancelled': 51, 'flightled': 93, 'flt': 96, 'what': 281, 'going': 108, 'follow': 99, 'stranded': 232, 'flights': 95, 'flighted': 92, 'flight': 91, 'today': 256, 'again': 8, 'never': 169, '@americanair': 0, 'change': 53, 'not': 175, 'issue': 134, 'how': 128, 'customer': 65, 'service': 218, '@jetblue': 1, 'thank': 241, 'that': 243, 'didn': 75, 'help': 118, 'work': 291, 'there': 248, 'attendant': 29, 'http': 130, 'one': 180, 'got': 110, 'nothing': 176, 'out': 186, 'very': 269, 'your': 299, 'delay': 70, 'why': 285, 'tomorrow': 258, 'rebook': 202, 'been': 37, 'hold': 122, 'minutes': 160, 'terrible': 239, 'reservation': 206, 'did': 74, 'also': 18, 'called': 49, 'could': 61, 'guys': 112, 'email': 82, 'please': 197, 'thanks': 242, 'min': 158, 'still': 231, 'travel': 261, 'business': 46, 'made': 154, 'stuck': 233, 'dca': 69, 'air': 12, 'system': 236, 'they': 249, 'say': 212, 'no': 174, 'don': 78, 'get': 105, 'paid': 188, 'money': 164, 'hrs': 129, 'waiting': 272, 'someone': 226, 'answer': 23, 'time': 254, 'any': 24, 'here': 121, 'hour': 126, 'our': 185, 'phone': 194, 'wifi': 286, 'bag': 33, 'over': 187, 'hours': 127, 'ago': 11, 'then': 247, 'ticket': 253, 'even': 83, 'fly': 97, 'airline': 13, 'does': 76, 'late': 143, 'wait': 271, 'baggage': 34, 'claim': 56, 'were': 280, 'into': 133, 'some': 225, 'much': 167, 'better': 41, '@virginamerica': 5, 'hope': 124, 'next': 171, 'since': 222, 'sure': 235, 'right': 208, 'want': 273, 'home': 123, 'back': 31, 'same': 211, 'yes': 295, 'just': 139, 'gate': 104, 'agent': 9, 'way': 275, 'speak': 228, 'day': 67, 'delayed': 71, 'trying': 264, 'find': 88, 'her': 120, 'seat': 214, 'online': 181, 'after': 7, 'great': 111, 'crew': 64, 'delays': 72, 'where': 283, 'booked': 44, 'need': 168, 'tried': 262, 'doesn': 77, 'rude': 209, 'bad': 32, 'had': 113, 'pilot': 195, 'off': 179, 'bags': 35, 'she': 220, 'info': 132, 'couldn': 62, 'boarding': 42, 'free': 101, 'customers': 66, 'them': 246, 'anything': 26, 'like': 148, 'worst': 293, 'experience': 86, 'ever': 84, 'should': 221, 'call': 48, 'let': 147, 'seats': 215, 'line': 149, 'times': 255, 'being': 39, 'anyone': 25, 'would': 294, 'flightr': 94, 'good': 109, 'another': 22, 'plane': 196, 'too': 260, 'nice': 172, 'see': 216, 'take': 237, 'put': 200, 'other': 184, 'miss': 161, 'told': 257, 'before': 38, 'appreciate': 27, 'days': 68, 'first': 89, 'night': 173, 'awesome': 30, 'weather': 276, 'tonight': 259, 'helpful': 119, 'united': 267, 'trip': 263, 'only': 182, 'love': 152, 'passengers': 189, 'yesterday': 296, 'flying': 98, 'rep': 205, 'who': 284, 'mins': 159, 'phl': 193, 'connecting': 59, 'every': 85, 'having': 117, 'booking': 45, 'problems': 199, 'says': 213, 'really': 201, 'keep': 140, 'down': 80, 'come': 58, 'haven': 116, 'jfk': 138, 'than': 240, 'best': 40, 'sitting': 224, 'without': 289, 'due': 81, 'checked': 55, 'book': 43, 'check': 54, 'long': 150, 'number': 178, 'airlines': 14, 'their': 245, 'week': 278, 'always': 19, 'working': 292, 'miles': 157, 'unacceptable': 266, 'issues': 135, 'lost': 151, 'left': 146, 'staff': 229, 'tell': 238, 'response': 207, 'credit': 63, 'yet': 297, 'status': 230, 'said': 210, 'luggage': 153, 'finally': 87, 'getting': 106, 'already': 17, 'through': 252, 'agents': 10, 'website': 277, 'hung': 131, 'done': 79, 'pay': 190, 'hotel': 125, 'give': 107, 'connection': 60, 'least': 145, 'last': 142, 'making': 156, 'dfw': 73, 'class': 57, 'sfo': 219, 'missed': 162, 'site': 223, 'think': 250, 'its': 136, 'won': 290, 'morning': 166, 'ord': 183, 'supposed': 234, 'sent': 217, 'refund': 204, 'full': 103, 'problem': 198, 'voucher': 270, 'use': 268, 'southwest': 227, 'jetblue': 137, 'rebooked': 203}\n",
      "vector shape:  (4680, 300)\n",
      "<class 'scipy.sparse.csr.csr_matrix'>\n",
      "[[0 0 0 ..., 0 2 0]\n",
      " [0 0 0 ..., 0 2 0]\n",
      " [0 0 1 ..., 0 0 0]\n",
      " ..., \n",
      " [0 0 0 ..., 0 0 0]\n",
      " [1 0 0 ..., 0 0 0]\n",
      " [0 0 0 ..., 0 0 0]]\n",
      "Model score is: 0.8275641025641025\n",
      "Model score is: 0.6153846153846154\n"
     ]
    }
   ],
   "source": [
    "import pandas as pd\n",
    "import numpy as np\n",
    "from sklearn.naive_bayes import BernoulliNB\n",
    "from sklearn.neighbors import KNeighborsClassifier\n",
    "\n",
    "\n",
    "df = pd.read_csv('tweets_public.csv', index_col='tweet_id')\n",
    "df = df.loc[df.airline_sentiment_confidence > .99]\n",
    "dataset = obtain_data_representation(df)\n",
    "\n",
    "# Train a Bernoulli Naive Bayes\n",
    "modelNB, _ = train_model(dataset, BernoulliNB)\n",
    "\n",
    "# Train a K Nearest Neighbors Classifier\n",
    "modelKN, _ = train_model(dataset, KNeighborsClassifier)"
   ]
  },
  {
   "cell_type": "markdown",
   "metadata": {},
   "source": [
    "## Submit file\n",
    "\n",
    "Once we have found the best model (BernoulliNB for the above simple test), we can train it with all the data (that is, avoid doing a train/test split) and predict sentiments for the real submission data.\n",
    "\n",
    "This cell below performs exactly this."
   ]
  },
  {
   "cell_type": "code",
   "execution_count": 26,
   "metadata": {},
   "outputs": [
    {
     "name": "stdout",
     "output_type": "stream",
     "text": [
      "Submission file created: submission_11_14_2017-19_47_49.csv\n",
      "Upload it to Kaggle InClass\n"
     ]
    }
   ],
   "source": [
    "import datetime\n",
    "\n",
    "def create_submit_file(df_submission, ypred):\n",
    "    date = datetime.datetime.now().strftime(\"%m_%d_%Y-%H_%M_%S\")\n",
    "    filename = 'submission_' + date + '.csv'\n",
    "    \n",
    "    df_submission['airline_sentiment'] = ypred\n",
    "    df_submission[['airline_sentiment']].to_csv(filename)\n",
    "    \n",
    "    print('Submission file created: {}'.format(filename))\n",
    "    print('Upload it to Kaggle InClass')\n",
    "\n",
    "    \n",
    "# Read submission and retrain with whole data\n",
    "df_submission = pd.read_csv('tweets_submission.csv', index_col='tweet_id')\n",
    "# We use df_submision as test, otherwise it would split df in train/test\n",
    "submission_dataset = obtain_data_representation(df, df_submission)\n",
    "# Predict for df_submission\n",
    "_, y_pred = train_model(submission_dataset, BernoulliNB)\n",
    "\n",
    "# Create submission file with obtained y_pred\n",
    "create_submit_file(df_submission, y_pred)"
   ]
  },
  {
   "cell_type": "code",
   "execution_count": null,
   "metadata": {
    "collapsed": true
   },
   "outputs": [],
   "source": []
  }
 ],
 "metadata": {
  "kernelspec": {
   "display_name": "Python 3",
   "language": "python",
   "name": "python3"
  },
  "language_info": {
   "codemirror_mode": {
    "name": "ipython",
    "version": 3
   },
   "file_extension": ".py",
   "mimetype": "text/x-python",
   "name": "python",
   "nbconvert_exporter": "python",
   "pygments_lexer": "ipython3",
   "version": "3.6.1"
  }
 },
 "nbformat": 4,
 "nbformat_minor": 2
}
