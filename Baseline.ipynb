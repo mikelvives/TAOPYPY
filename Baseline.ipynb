{
 "cells": [
  {
   "cell_type": "markdown",
   "metadata": {},
   "source": [
    "# Baseline model\n",
    "\n",
    "This is the entrypoint for the competition, it:\n",
    "\n",
    "* Reads data from tweets' CSV files\n",
    "* Computes Bag of Words (BoW) from textual representations (tweets text)\n",
    "* Tests two models to find out which performs better\n",
    "* Predicts classes for the submission/benchmark tweets\n",
    "* Generates a suitable CSV for Kaggle InClass"
   ]
  },
  {
   "cell_type": "markdown",
   "metadata": {},
   "source": [
    "## Data representation\n",
    "\n",
    "The function `obtain_data_representation` performs the BoW transformation over the training set and applies it to both the train and test set.\n",
    "\n",
    "If no test set is provided, the input DataFrame is split into both train and test, 75% and 25% of the data respectively. This is done so as to be able to obtain an accuracy score, which will be the evaluation metric on Kaggle.\n",
    "\n",
    "BoW is computed through `CountVectorizer` class of `sklearn`, restricting it to at most 200 features. The process of finding the best words is done by the `fit` method, whereas transforming the text to numerical vectors (using the learnt features) is done by `transform`. Lastly, `fit_transform` does in a single step the learning and transforming process."
   ]
  },
  {
   "cell_type": "code",
   "execution_count": null,
   "metadata": {
    "collapsed": true
   },
   "outputs": [],
   "source": []
  },
  {
   "cell_type": "code",
   "execution_count": 8,
   "metadata": {
    "collapsed": true
   },
   "outputs": [],
   "source": [
    "from sklearn.feature_extraction.text import CountVectorizer\n",
    "from sklearn.model_selection import train_test_split\n",
    "\n",
    "\n",
    "def obtain_data_representation(df, test=None):\n",
    "    # If there is no test data, split the input\n",
    "    if test is None:\n",
    "        # Divide data in train and test\n",
    "        train, test = train_test_split(df, test_size=0.25)\n",
    "        df.airline_sentiment = pd.Categorical(df.airline_sentiment)\n",
    "    else:\n",
    "        # Otherwise, all is train\n",
    "        train = df\n",
    "        \n",
    "    # Create a Bag of Words (BoW), by using train data only\n",
    "    #cv = CountVectorizer(max_features=200)#, token_pattern=r'[A-Za-z]{3,}|no')\n",
    "    cv = CountVectorizer(max_features=300,token_pattern=r'[A-Za-z@#]{3,}|no|yes|wtf|hrs|jfk', min_df = 0.005,max_df=0.99)\n",
    "    \n",
    "    #x_train = cv.fit_transform(train['text'])\n",
    "    #--\n",
    "    vectonizer = cv.fit(train['text'])\n",
    "    print(cv.vocabulary_)\n",
    "    x_train = vectonizer.transform(train['text'])\n",
    "    #--\n",
    "    \n",
    "    y_train = train['airline_sentiment'].values\n",
    "    \n",
    "    #print(cv.get_feature_names())\n",
    "    print(\"vector shape: \", x_train.shape)\n",
    "    print(type(x_train))\n",
    "    print(x_train.toarray())\n",
    "    \n",
    "    # Obtain BoW for the test data, using the previously fitted one\n",
    "    x_test = cv.transform(test['text'])\n",
    "    try:\n",
    "        y_test = test['airline_sentiment'].values\n",
    "    except:\n",
    "        # It might be the submision file, where we don't have target values\n",
    "        y_test = None\n",
    "        \n",
    "    return {\n",
    "        'train': {\n",
    "            'x': x_train,\n",
    "            'y': y_train\n",
    "        },\n",
    "        'test': {\n",
    "            'x': x_test,\n",
    "            'y': y_test\n",
    "        }\n",
    "    }"
   ]
  },
  {
   "cell_type": "markdown",
   "metadata": {},
   "source": [
    "## Model training\n",
    "\n",
    "Thought this function might seem strange at first, the only thing to know is that training an `sklearn` model is always done the same way:\n",
    "\n",
    "```python\n",
    "# 1. Create the model\n",
    "model = BernoulliNB()\n",
    "\n",
    "# 2. Train with some data, where `x` are features and\n",
    "#    `y` is the target category\n",
    "model.fit(x, y)\n",
    "\n",
    "# 3. Predict new categories for test data (with which we\n",
    "#    have not trained!)\n",
    "y_pred = model.predict(test_x)\n",
    "```\n",
    "\n",
    "We might also obtain the accuracy score by using the function `accuracy_score`"
   ]
  },
  {
   "cell_type": "code",
   "execution_count": 9,
   "metadata": {
    "collapsed": true
   },
   "outputs": [],
   "source": [
    "from sklearn.metrics import accuracy_score\n",
    "\n",
    "def train_model(dataset, dmodel, *model_args, **model_kwargs):\n",
    "    # Create a Naive Bayes model\n",
    "    model = dmodel(*model_args, **model_kwargs)\n",
    "    \n",
    "    # Train it\n",
    "    model.fit(dataset['train']['x'], dataset['train']['y'])\n",
    "    \n",
    "    # Predict new values for test\n",
    "    y_pred = model.predict(dataset['test']['x'])\n",
    "    \n",
    "    # Print accuracy score unless its the submission dataset\n",
    "    if dataset['test']['y'] is not None:\n",
    "        score = accuracy_score(dataset['test']['y'], y_pred)\n",
    "        print(\"Model score is: {}\".format(score))\n",
    "\n",
    "    # Done\n",
    "    return model, y_pred"
   ]
  },
  {
   "cell_type": "code",
   "execution_count": 11,
   "metadata": {},
   "outputs": [
    {
     "name": "stdout",
     "output_type": "stream",
     "text": [
      "{'@americanair': 0, 'that': 242, 'unacceptable': 266, 'they': 248, 'should': 225, 'wait': 271, 'hold': 126, 'take': 236, 'number': 182, 'and': 23, 'call': 51, '@united': 3, 'flight': 96, 'not': 179, 'due': 84, 'the': 243, 'plane': 199, 'long': 154, 'would': 294, '@usairways': 4, 'didn': 76, 'was': 274, 'last': 146, 'night': 177, 'than': 239, 'today': 256, 'get': 110, 'done': 82, 'need': 172, 'someone': 229, 'from': 107, 'flying': 103, 'won': 290, 'make': 159, 'now': 181, 'want': 273, 'pay': 194, 'which': 284, 'told': 257, 'have': 120, 'voucher': 270, 'because': 39, 'sent': 221, 'after': 8, 'back': 34, 'nothing': 180, 'but': 50, 'care': 55, 'already': 19, 'come': 60, 'this': 250, 'horrible': 129, 'service': 222, 'you': 298, 'time': 254, 'again': 9, '@jetblue': 1, 'she': 224, 'staff': 231, 'got': 115, 'just': 143, 'out': 190, 'being': 42, 'air': 13, 'with': 289, 'who': 285, 'gate': 109, 'agent': 10, 'awesome': 33, 'her': 124, 'thanks': 241, 'for': 106, 'always': 21, 'airlines': 15, 'bags': 38, 'left': 150, 'great': 116, 'minutes': 164, 'no': 178, 'info': 136, 'why': 286, 'travel': 261, 'tomorrow': 258, 'its': 140, 'delayed': 72, 'connection': 63, 'since': 226, 'late': 147, 'think': 249, 'can': 53, 'please': 200, 'says': 216, 'are': 30, 'best': 43, 'follow': 104, 'new': 174, 'wifi': 287, 'working': 292, 'seats': 218, 'really': 204, 'when': 282, 'paid': 192, 'lax': 148, 'more': 169, 'hrs': 134, 'crew': 65, 'cancelled': 54, 'flighted': 97, 'amp': 22, 'still': 232, 'getting': 111, 'find': 93, 'http': 135, 'bag': 36, 'day': 68, 'sfo': 223, 'how': 133, 'don': 81, 'flightr': 99, 'miles': 161, 'over': 191, '@southwestair': 2, 'weather': 276, 'home': 127, 'nice': 176, 'work': 291, 'help': 122, 'your': 299, 'customer': 66, 'hour': 131, 'morning': 170, 'lost': 155, 'like': 152, 'first': 94, 'class': 59, 'flights': 100, 'times': 255, 'then': 246, 'here': 125, 'too': 260, 'thank': 240, 'same': 214, 'sitting': 227, 'been': 40, 'all': 17, 'change': 56, 'trip': 263, 'able': 6, 'through': 251, 'before': 41, 'fly': 102, 'problems': 202, '@virginamerica': 5, 'trying': 264, 'book': 46, 'down': 83, 'connecting': 62, 'ewr': 90, 'where': 283, 'will': 288, 'see': 219, 'very': 269, 'experience': 91, 'delay': 71, 'next': 175, 'one': 184, 'online': 185, 'min': 162, 'ago': 12, 'refund': 207, 'hotel': 130, 'guys': 117, 'almost': 18, 'boarding': 45, 'has': 119, 'two': 265, 'days': 69, 'seat': 217, 'hours': 132, 'never': 173, 'tonight': 259, 'what': 281, 'our': 189, 'way': 275, 'tried': 262, 'anything': 28, 'said': 213, 'about': 7, 'does': 79, 'delays': 73, 'them': 245, 'website': 277, 'right': 211, 'money': 168, 'response': 210, 'better': 44, 'yet': 297, 'could': 64, 'called': 52, 'had': 118, 'rebook': 205, 'line': 153, 'going': 113, 'waiting': 272, 'other': 188, 'their': 244, 'luggage': 157, 'mins': 163, 'making': 160, 'people': 195, 'customers': 67, 'made': 158, 'know': 145, 'there': 247, 'phone': 198, 'worst': 293, 'good': 114, 'flt': 101, 'agents': 11, 'send': 220, 'full': 108, 'were': 280, 'keep': 144, 'stuck': 233, 'answer': 25, 'missed': 166, 'did': 75, 'put': 203, 'attendant': 31, 'jfk': 142, 'tell': 237, 'booked': 47, 'into': 137, 'check': 57, 'phl': 197, 'let': 151, 'issues': 139, 'system': 235, 'company': 61, 'airport': 16, 'helpful': 123, 'email': 85, 'fix': 95, 'love': 156, 'jetblue': 141, 'rude': 212, 'every': 89, 'baggage': 37, 'united': 267, 'reservation': 209, 'flightled': 98, 'much': 171, 'disappointed': 78, 'finally': 92, 'sure': 234, 'booking': 48, 'some': 228, 'rebooked': 206, 'off': 183, 'any': 26, 'different': 77, 'give': 112, 'bad': 35, 'missing': 167, 'hope': 128, 'another': 24, 'tickets': 253, 'ever': 88, 'airline': 14, 'also': 20, 'checked': 58, 'having': 121, 'dfw': 74, 'passengers': 193, 'only': 186, 'ord': 187, 'ticket': 252, 'employees': 86, 'use': 268, 'food': 105, 'doesn': 80, 'terrible': 238, 'problem': 201, 'yesterday': 296, 'rep': 208, 'week': 278, 'appreciate': 29, 'even': 87, 'issue': 138, 'well': 279, 'dca': 70, 'speak': 230, 'miss': 165, 'person': 196, 'yes': 295, 'business': 49, 'least': 149, 'say': 215, 'anyone': 27, 'available': 32}\n",
      "vector shape:  (4682, 300)\n",
      "<class 'scipy.sparse.csr.csr_matrix'>\n",
      "[[1 0 0 ..., 0 0 0]\n",
      " [0 0 0 ..., 0 0 0]\n",
      " [0 0 0 ..., 0 0 0]\n",
      " ..., \n",
      " [0 1 0 ..., 0 0 0]\n",
      " [0 0 0 ..., 0 0 0]\n",
      " [1 0 0 ..., 0 2 0]]\n",
      "Model score is: 0.8270339525944908\n",
      "Model score is: 0.5906470211402947\n"
     ]
    }
   ],
   "source": [
    "import pandas as pd\n",
    "import numpy as np\n",
    "from sklearn.naive_bayes import BernoulliNB\n",
    "from sklearn.neighbors import KNeighborsClassifier\n",
    "\n",
    "\n",
    "df = pd.read_csv('tweets_public.csv', index_col='tweet_id')\n",
    "df = df.loc[df.airline_sentiment_confidence > .95]\n",
    "dataset = obtain_data_representation(df)\n",
    "\n",
    "# Train a Bernoulli Naive Bayes\n",
    "modelNB, _ = train_model(dataset, BernoulliNB)\n",
    "\n",
    "# Train a K Nearest Neighbors Classifier\n",
    "modelKN, _ = train_model(dataset, KNeighborsClassifier)"
   ]
  },
  {
   "cell_type": "markdown",
   "metadata": {},
   "source": [
    "## Submit file\n",
    "\n",
    "Once we have found the best model (BernoulliNB for the above simple test), we can train it with all the data (that is, avoid doing a train/test split) and predict sentiments for the real submission data.\n",
    "\n",
    "This cell below performs exactly this."
   ]
  },
  {
   "cell_type": "code",
   "execution_count": 26,
   "metadata": {},
   "outputs": [
    {
     "name": "stdout",
     "output_type": "stream",
     "text": [
      "Submission file created: submission_11_14_2017-19_47_49.csv\n",
      "Upload it to Kaggle InClass\n"
     ]
    }
   ],
   "source": [
    "import datetime\n",
    "\n",
    "def create_submit_file(df_submission, ypred):\n",
    "    date = datetime.datetime.now().strftime(\"%m_%d_%Y-%H_%M_%S\")\n",
    "    filename = 'submission_' + date + '.csv'\n",
    "    \n",
    "    df_submission['airline_sentiment'] = ypred\n",
    "    df_submission[['airline_sentiment']].to_csv(filename)\n",
    "    \n",
    "    print('Submission file created: {}'.format(filename))\n",
    "    print('Upload it to Kaggle InClass')\n",
    "\n",
    "    \n",
    "# Read submission and retrain with whole data\n",
    "df_submission = pd.read_csv('tweets_submission.csv', index_col='tweet_id')\n",
    "# We use df_submision as test, otherwise it would split df in train/test\n",
    "submission_dataset = obtain_data_representation(df, df_submission)\n",
    "# Predict for df_submission\n",
    "_, y_pred = train_model(submission_dataset, BernoulliNB)\n",
    "\n",
    "# Create submission file with obtained y_pred\n",
    "create_submit_file(df_submission, y_pred)"
   ]
  },
  {
   "cell_type": "code",
   "execution_count": null,
   "metadata": {
    "collapsed": true
   },
   "outputs": [],
   "source": []
  }
 ],
 "metadata": {
  "kernelspec": {
   "display_name": "Python 3",
   "language": "python",
   "name": "python3"
  },
  "language_info": {
   "codemirror_mode": {
    "name": "ipython",
    "version": 3
   },
   "file_extension": ".py",
   "mimetype": "text/x-python",
   "name": "python",
   "nbconvert_exporter": "python",
   "pygments_lexer": "ipython3",
   "version": "3.6.1"
  }
 },
 "nbformat": 4,
 "nbformat_minor": 2
}
