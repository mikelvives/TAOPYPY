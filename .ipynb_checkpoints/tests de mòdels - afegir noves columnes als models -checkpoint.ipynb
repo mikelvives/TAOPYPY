{
 "cells": [
  {
   "cell_type": "markdown",
   "metadata": {},
   "source": [
    "# cosetes meves\n"
   ]
  },
  {
   "cell_type": "code",
   "execution_count": 1,
   "metadata": {},
   "outputs": [
    {
     "name": "stdout",
     "output_type": "stream",
     "text": [
      "importada matriu de piulades en brut:  (8784, 14)\n"
     ]
    }
   ],
   "source": [
    "#importem tota la col.lecció de piulades\n",
    "\n",
    "import pandas as pd\n",
    "\n",
    "df = pd.read_csv('tweets_public.csv', index_col='tweet_id')\n",
    "\n",
    "#print(\"df en brut: \",df.shape) #dimensió de la matriu pandas\n",
    "print(\"importada matriu de piulades en brut: \",df.shape) #dimensió de la matriu pandas\n"
   ]
  },
  {
   "cell_type": "code",
   "execution_count": 2,
   "metadata": {},
   "outputs": [
    {
     "name": "stdout",
     "output_type": "stream",
     "text": [
      "matriu de piulades netejades:  (8784, 14)\n"
     ]
    }
   ],
   "source": [
    "#netejar dades\n",
    "#df = df.loc[df.airline_sentiment_confidence > .99] #buidem aquells que tenen confidence < 0.95 \n",
    "#print(\"df amb confidència: \",df.shape) #dimensió matriu. \n",
    "print(\"matriu de piulades netejades: \",df.shape) #dimensió matriu. "
   ]
  },
  {
   "cell_type": "code",
   "execution_count": 3,
   "metadata": {
    "collapsed": true
   },
   "outputs": [],
   "source": [
    "from sklearn.feature_extraction.text import CountVectorizer\n",
    "from sklearn.model_selection import train_test_split\n",
    "\n",
    "\n",
    "def obtain_data_representation(df, test=None):\n",
    "    # If there is no test data, split the input\n",
    "    if test is None:\n",
    "        # Divide data in train and test\n",
    "        train, test = train_test_split(df, test_size=0.25) #dividim el df en 2, 75% i 25%. \n",
    "        #print(\"train shape: \",train.shape) #==> dataframe de test\n",
    "        #print(train.head())\n",
    "        df_train = train.loc\n",
    "        #print(\"test shape: \",test.shape)\n",
    "        #df.airline_sentiment = pd.Categorical(df.airline_sentiment) # mikel: que està fent aqui? \n",
    "        #print(df.shape)\n",
    "    else:\n",
    "        # Otherwise, all is train\n",
    "        train = df\n",
    "        \n",
    "    # Create a Bag of Words (BoW), by using train data only\n",
    "    cv = CountVectorizer(max_features=2000,stop_words='english', token_pattern=r'[A-Za-z@#]{2,}', min_df = 5)\n",
    "\n",
    "    vectonizer = cv.fit(train['text'])\n",
    "    #print(\"BoW: \",cv.vocabulary_) \n",
    "    #print(\"bloquejats : \",cv.stop_words_) \n",
    "        \n",
    "    x_train = vectonizer.transform(train['text']).toarray() #==> matriu piuladesXparaules, i les dades son el nombre de cops que apareix una paraula\n",
    "    y_train = train['airline_sentiment'].values #==> matriu amb resultat sentiment (Px1)\n",
    "    x_train_retuits = train['retweet_count'].values\n",
    "    x_train_amb_retuits = np.c_[ x_train, x_train_retuits] \n",
    "    x_train_airline = train['airline'].values\n",
    "    x_train_amb_airline = np.c_[ x_train, x_train_airline]\n",
    "    x_train_confidence = train['airline_sentiment_confidence'].values\n",
    "        \n",
    "    # Obtain BoW for the test data, using the previously fitted one\n",
    "    x_test = cv.transform(test['text']).toarray()\n",
    "    y_test = test['airline_sentiment'].values\n",
    "    x_test_retuits = test['retweet_count'].values\n",
    "    x_test_amb_retuits = np.c_[ x_test, x_test_retuits] \n",
    "    x_test_airline = test['airline'].values\n",
    "    x_test_amb_airline = np.c_[ x_test, x_test_airline]\n",
    "    x_test_confidence = test['airline_sentiment_confidence'].values\n",
    "    \n",
    "    \n",
    "    \n",
    "    return {\n",
    "        'train': {\n",
    "            'x': x_train,\n",
    "            'y': y_train,\n",
    "            'z': x_train_retuits, #retuis\n",
    "            'x_amb_retuits': x_train_amb_retuits,\n",
    "            'x_airline': x_train_airline,\n",
    "            'x_amb_airline': x_train_amb_airline,\n",
    "            'confidence': x_train_confidence\n",
    "        },\n",
    "        'test': {\n",
    "            'x': x_test,\n",
    "            'y': y_test,\n",
    "            'z': x_test_retuits, \n",
    "            'x_amb_retuits': x_test_amb_retuits,\n",
    "            'x_airline': x_test_airline,\n",
    "            'x_amb_airline': x_test_amb_airline,\n",
    "            'confidence': x_test_confidence\n",
    "        }\n",
    "    #return {\n",
    "    #    'train': {\n",
    "    #        'x': x_train,\n",
    "    #        'y': y_train\n",
    "    #    },\n",
    "    #    'test': {\n",
    "    #        'x': x_test,\n",
    "    #        'y': y_test\n",
    "    #    }\n",
    "    }"
   ]
  },
  {
   "cell_type": "code",
   "execution_count": 10,
   "metadata": {},
   "outputs": [
    {
     "name": "stdout",
     "output_type": "stream",
     "text": [
      "(6588, 1591)\n",
      "------------------------------\n",
      "[[0 0 0 ..., 0 0 0]\n",
      " [0 0 0 ..., 0 0 0]]\n",
      "------------------------------\n",
      "[[ 0.  0.  0. ...,  0.  0.  1.]\n",
      " [ 0.  0.  0. ...,  0.  0.  1.]]\n",
      "------------------------------\n",
      "[0 0]\n",
      "------------------------------\n",
      "mikel\n",
      "0.0\n",
      "Model BernoulliNB score is: 0.7518214936247724\n",
      "Model LogisticRegression score is: 0.7650273224043715\n"
     ]
    }
   ],
   "source": [
    "import pandas as pd\n",
    "import numpy as np\n",
    "from sklearn.naive_bayes import BernoulliNB\n",
    "#from sklearn.neighbors import KNeighborsClassifier\n",
    "from sklearn.linear_model import LogisticRegression\n",
    "\n",
    "\n",
    "\n",
    "df = pd.read_csv('tweets_public.csv', index_col='tweet_id')\n",
    "#df = df.loc[df.airline_sentiment_confidence > .99]\n",
    "dataset = obtain_data_representation(df)\n",
    "\n",
    "#df.head(1)\n",
    "print(dataset['train']['x'].shape)\n",
    "print(\"------------------------------\")\n",
    "print(dataset['train']['x'][0:2])\n",
    "print(\"------------------------------\")\n",
    "dataset['train']['x'] = np.c_[ dataset['train']['x'], dataset['train']['confidence']] \n",
    "dataset['test']['x'] = np.c_[ dataset['test']['x'], dataset['test']['confidence']] \n",
    "print(dataset['train']['x'][0:2])\n",
    "\n",
    "print(\"------------------------------\")\n",
    "print(dataset['train']['z'][0:2])\n",
    "print(\"------------------------------\")\n",
    "\n",
    "\n",
    "#print(dataset['train']['x'][2].groupby('x'))\n",
    "print(\"mikel\")\n",
    "mikel=dataset['test']['x'][2,0]\n",
    "\n",
    "print(mikel)\n",
    "\n",
    "\n",
    "\n",
    "# Train a Bernoulli Naive Bayes\n",
    "modelNB, _ = train_model(dataset, BernoulliNB, \"BernoulliNB\",alpha=.20,binarize=0.0,fit_prior=True)\n",
    "#BernoulliNB(alpha=.20,binarize=0.0,fit_prior=True)\n",
    "\n",
    "# Train \n",
    "#modelKN, _ = train_model(dataset, KNeighborsClassifier, \"KNeighborsClassifier\")\n",
    "\n",
    "modelLR, _ = train_model(dataset, LogisticRegression, \"LogisticRegression\", solver='liblinear')\n",
    "#LogisticRegression(solver='liblinear')"
   ]
  },
  {
   "cell_type": "code",
   "execution_count": 5,
   "metadata": {
    "collapsed": true
   },
   "outputs": [],
   "source": [
    "#provar els models. #aquesta part és la de la classe. això no cal llençar-ho. a sorta hi ha la meva rutina. :P \n",
    "from sklearn.metrics import accuracy_score\n",
    "\n",
    "def train_model(dataset, dmodel, nom_model, *model_args, **model_kwargs):\n",
    "    # Create a Naive Bayes model\n",
    "    model = dmodel(*model_args, **model_kwargs)\n",
    "    \n",
    "    # Train it\n",
    "    model.fit(dataset['train']['x'], dataset['train']['y'])\n",
    "    \n",
    "    # Predict new values for test\n",
    "    y_pred = model.predict(dataset['test']['x'])\n",
    "    \n",
    "    # Print accuracy score unless its the submission dataset\n",
    "    if dataset['test']['y'] is not None:\n",
    "        score = accuracy_score(dataset['test']['y'], y_pred)\n",
    "        print(\"Model\", nom_model, \"score is: {}\".format(score))\n",
    "\n",
    "    # Done\n",
    "    return model, y_pred"
   ]
  },
  {
   "cell_type": "code",
   "execution_count": 6,
   "metadata": {},
   "outputs": [
    {
     "name": "stdout",
     "output_type": "stream",
     "text": [
      "-- [0] [0]\n",
      "-- [1] [0]\n",
      "-- [2] [0]\n",
      "-- [3] [0]\n",
      "-- [4] [0]\n",
      "-- [5] [0]\n",
      "-- [6] [0]\n",
      "-- [7] [0]\n",
      "-- [8] [0]\n",
      "-- [9] [0]\n"
     ]
    },
    {
     "data": {
      "text/plain": [
       "[<matplotlib.text.Text at 0xe9b6e70>,\n",
       " <matplotlib.text.Text at 0xe9c8e30>,\n",
       " <matplotlib.text.Text at 0xddf7f70>,\n",
       " <matplotlib.text.Text at 0xddfd610>,\n",
       " <matplotlib.text.Text at 0xddfdc90>,\n",
       " <matplotlib.text.Text at 0xde02330>,\n",
       " <matplotlib.text.Text at 0xde029b0>,\n",
       " <matplotlib.text.Text at 0xde09050>]"
      ]
     },
     "execution_count": 6,
     "metadata": {},
     "output_type": "execute_result"
    },
    {
     "data": {
      "image/png": "[encoded data removed]",
      "text/plain": [
       "<matplotlib.figure.Figure at 0xefc97b0>"
      ]
     },
     "metadata": {},
     "output_type": "display_data"
    }
   ],
   "source": [
    "#intento provar els models de un altre forma, que jo pugui entrendre. :P \n",
    "\n",
    "%matplotlib inline \n",
    "#això es elque faltava per a pintar la gràfica!!!\n",
    "\n",
    "import pandas as pd\n",
    "import numpy as np\n",
    "import matplotlib.pyplot as plt\n",
    "from sklearn.naive_bayes import BernoulliNB\n",
    "from sklearn.naive_bayes import GaussianNB\n",
    "from sklearn.naive_bayes import MultinomialNB\n",
    "from sklearn.neighbors import KNeighborsClassifier\n",
    "from sklearn import neighbors\n",
    "from sklearn import metrics\n",
    "from sklearn import model_selection\n",
    "from sklearn import tree\n",
    "from sklearn import svm\n",
    "from sklearn import ensemble\n",
    "\n",
    "\n",
    "df = pd.read_csv('tweets_public.csv', index_col='tweet_id')\n",
    "#df = df.loc[df.airline_sentiment_confidence > .99]\n",
    "#dataset = obtain_data_representation(df)\n",
    "\n",
    "tests = 8\n",
    "valor_per_defecte = 0.80\n",
    "\n",
    "acc_r=np.zeros((10,tests))\n",
    "\n",
    "for i in range(10):\n",
    "    dataset = obtain_data_representation(df) #això és una mcia marrano, però crec que funciona. \n",
    "    \n",
    "    dataset['train']['x'] = np.c_[ dataset['train']['x'], dataset['train']['z']] \n",
    "    dataset['test']['x'] = np.c_[ dataset['test']['x'], dataset['test']['z']] \n",
    "    \n",
    "    print (\"--\",[i],\"[0]\")\n",
    "    bern = BernoulliNB(alpha=.20,binarize=0.0,fit_prior=True)\n",
    "    bern.fit(dataset['train']['x'], dataset['train']['y'])\n",
    "    yhat_bern=bern.predict(dataset['test']['x'])\n",
    "    acc_r[i][0] = metrics.accuracy_score(yhat_bern, dataset['test']['y'])\n",
    "    \n",
    "\n",
    "    if 0 is 1:\n",
    "        print (\"--\",[i],\"[1]\")\n",
    "        nn1 = neighbors.KNeighborsClassifier(n_neighbors=1)\n",
    "        nn1.fit(dataset['train']['x'], dataset['train']['y'])\n",
    "        yhat_nn1=nn1.predict(dataset['test']['x'])\n",
    "        acc_r[i][1] = metrics.accuracy_score(yhat_nn1, dataset['test']['y'])\n",
    "    else:\n",
    "        acc_r[i][1] = valor_per_defecte #per no escaxarrar la grfica. \n",
    "    \n",
    "\n",
    "    if 0 is 1:\n",
    "        print (\"--\",[i],\"[1]\")\n",
    "        nn1 = ensemble.GradientBoostingClassifier()\n",
    "        nn1.fit(dataset['train']['x'], dataset['train']['y'])\n",
    "        yhat_nn1=nn1.predict(dataset['test']['x'])\n",
    "        acc_r[i][1] = metrics.accuracy_score(yhat_nn1, dataset['test']['y'])\n",
    "    else:\n",
    "        acc_r[i][1] = valor_per_defecte #per no escaxarrar la grfica.        \n",
    "    \n",
    "\n",
    "    if 0 is 1:\n",
    "        print (\"--\",[i],\"[2]\")\n",
    "        nn3 = neighbors.KNeighborsClassifier(n_neighbors=3)\n",
    "        nn3.fit(dataset['train']['x'], dataset['train']['y'])\n",
    "        yhat_nn3=nn3.predict(dataset['test']['x'])\n",
    "        acc_r[i][2] = metrics.accuracy_score(yhat_nn3, dataset['test']['y'])\n",
    "    else:\n",
    "        acc_r[i][2] = valor_per_defecte #per no escaxarrar la grfica. \n",
    "    \n",
    "\n",
    "    if 0 is 1:\n",
    "        print (\"--\",[i],\"[3]\")\n",
    "        svc = svm.SVC()\n",
    "        svc.fit(dataset['train']['x'], dataset['train']['y'])\n",
    "        yhat_svc=svc.predict(dataset['test']['x'])\n",
    "        acc_r[i][3] = metrics.accuracy_score(yhat_svc, dataset['test']['y'])\n",
    "    else:\n",
    "        acc_r[i][3] = valor_per_defecte #per no escaxarrar la grfica. \n",
    "    \n",
    "\n",
    "    if 0 is 1:\n",
    "        print (\"--\",[i],\"[4]\")\n",
    "        dt = tree.DecisionTreeClassifier()\n",
    "        dt.fit(dataset['train']['x'], dataset['train']['y'])\n",
    "        yhat_dt=dt.predict(dataset['test']['x'])\n",
    "        acc_r[i][4] = metrics.accuracy_score(yhat_dt, dataset['test']['y'])\n",
    "    else:\n",
    "        acc_r[i][4] = valor_per_defecte #per no escaxarrar la grfica. \n",
    "    \n",
    "\n",
    "    if 0 is 1:\n",
    "        print (\"--\",[i],\"[5]\")\n",
    "        Gaussian = GaussianNB()\n",
    "        Gaussian.fit(dataset['train']['x'], dataset['train']['y'])\n",
    "        yhat_Gaussian=Gaussian.predict(dataset['test']['x'])\n",
    "        acc_r[i][5] = metrics.accuracy_score(yhat_Gaussian, dataset['test']['y'])\n",
    "    else:\n",
    "        acc_r[i][5] = valor_per_defecte #joder, per no escaxarrar la gràfica\n",
    "    \n",
    "\n",
    "    if 0 is 1:\n",
    "        print (\"--\",[i],\"[6]\")\n",
    "        Multinomial = MultinomialNB(alpha=.10,fit_prior=True)\n",
    "        Multinomial.fit(dataset['train']['x'], dataset['train']['y'])\n",
    "        yhat_Multinomial=Multinomial.predict(dataset['test']['x'])\n",
    "        acc_r[i][6] = metrics.accuracy_score(yhat_Multinomial, dataset['test']['y'])\n",
    "    else:\n",
    "        acc_r[i][6] = valor_per_defecte #joder, per no escaxarrar la gràfica\n",
    "    \n",
    "\n",
    "    if 0 is 1:\n",
    "        print (\"--\",[i],\"[7]\")\n",
    "        svcLinear = svm.LinearSVC()\n",
    "        svcLinear.fit(dataset['train']['x'], dataset['train']['y'])\n",
    "        yhat_svcLinear=svcLinear.predict(dataset['test']['x'])\n",
    "        acc_r[i][7] = metrics.accuracy_score(yhat_svcLinear, dataset['test']['y'])\n",
    "    else:\n",
    "        acc_r[i][7] = valor_per_defecte #joder, per no escaxarrar la gràfica\n",
    "    \n",
    "plt.boxplot(acc_r);\n",
    "for i in range(tests):\n",
    "    xderiv = (i+1)*np.ones(acc_r[:,i].shape)+(np.random.rand(10,)-0.5)*0.1\n",
    "    plt.plot(xderiv,acc_r[:,i],'ro',alpha=0.3)\n",
    "    \n",
    "ax = plt.gca()\n",
    "ax.set_xticklabels(['bern','1-NN','3-NN','svc','tree','Gaussian','Multinomial','svcLinear'])\n"
   ]
  },
  {
   "cell_type": "code",
   "execution_count": 7,
   "metadata": {},
   "outputs": [
    {
     "name": "stdout",
     "output_type": "stream",
     "text": [
      "-- [0] [0]\n",
      "-- [0] [1]\n",
      "-- [1] [0]\n",
      "-- [1] [1]\n",
      "-- [2] [0]\n",
      "-- [2] [1]\n",
      "-- [3] [0]\n",
      "-- [3] [1]\n",
      "-- [4] [0]\n",
      "-- [4] [1]\n",
      "-- [5] [0]\n",
      "-- [5] [1]\n",
      "-- [6] [0]\n",
      "-- [6] [1]\n",
      "-- [7] [0]\n",
      "-- [7] [1]\n",
      "-- [8] [0]\n",
      "-- [8] [1]\n",
      "-- [9] [0]\n",
      "-- [9] [1]\n"
     ]
    },
    {
     "data": {
      "text/plain": [
       "[<matplotlib.text.Text at 0xb90ded0>,\n",
       " <matplotlib.text.Text at 0xc09d230>,\n",
       " <matplotlib.text.Text at 0xcee5290>,\n",
       " <matplotlib.text.Text at 0xcee5910>,\n",
       " <matplotlib.text.Text at 0xcee5f90>,\n",
       " <matplotlib.text.Text at 0xcee0630>]"
      ]
     },
     "execution_count": 7,
     "metadata": {},
     "output_type": "execute_result"
    },
    {
     "data": {
      "image/png": "[encoded data removed]",
      "text/plain": [
       "<matplotlib.figure.Figure at 0xb90e9f0>"
      ]
     },
     "metadata": {},
     "output_type": "display_data"
    }
   ],
   "source": [
    "#test de un model en concret, per a tocar els parametres. \n",
    "\n",
    "%matplotlib inline \n",
    "#això es elque faltava per a pintar la gràfica!!!\n",
    "\n",
    "import pandas as pd\n",
    "import numpy as np\n",
    "import matplotlib.pyplot as plt\n",
    "from sklearn.naive_bayes import BernoulliNB\n",
    "from sklearn.naive_bayes import GaussianNB\n",
    "from sklearn.naive_bayes import MultinomialNB\n",
    "from sklearn.neighbors import KNeighborsClassifier\n",
    "from sklearn import neighbors\n",
    "from sklearn import metrics\n",
    "from sklearn import model_selection\n",
    "from sklearn import tree\n",
    "from sklearn import svm\n",
    "from sklearn import linear_model\n",
    "from sklearn.linear_model import LogisticRegression\n",
    "\n",
    "\n",
    "df = pd.read_csv('tweets_public.csv', index_col='tweet_id')\n",
    "#df = df.loc[df.airline_sentiment_confidence > .99]\n",
    "#dataset = obtain_data_representation(df)\n",
    "\n",
    "tests = 6\n",
    "valor_per_defecte = 0.85\n",
    "\n",
    "acc_r=np.zeros((10,tests))\n",
    "\n",
    "for i in range(10):\n",
    "    dataset = obtain_data_representation(df) #això és una mcia marrano, però crec que funciona. \n",
    "    \n",
    "    dataset['train']['x'] = np.c_[ dataset['train']['x'], dataset['train']['z']] \n",
    "    dataset['test']['x'] = np.c_[ dataset['test']['x'], dataset['test']['z']] \n",
    "    \n",
    "    print (\"--\",[i],\"[0]\")\n",
    "    bern = BernoulliNB(alpha=.20,binarize=0.0,fit_prior=True)\n",
    "    bern.fit(dataset['train']['x'], dataset['train']['y'])\n",
    "    yhat_bern=bern.predict(dataset['test']['x'])\n",
    "    acc_r[i][0] = metrics.accuracy_score(yhat_bern, dataset['test']['y'])\n",
    "    \n",
    "    print (\"--\",[i],\"[1]\")\n",
    "    bern = LogisticRegression(solver='liblinear')\n",
    "    bern.fit(dataset['train']['x'], dataset['train']['y'])\n",
    "    yhat_bern=bern.predict(dataset['test']['x'])\n",
    "    acc_r[i][1] = metrics.accuracy_score(yhat_bern, dataset['test']['y'])\n",
    " \n",
    "    acc_r[i][2] = valor_per_defecte #per no escaxarrar la grfica. \n",
    "    acc_r[i][3] = valor_per_defecte #per no escaxarrar la grfica. \n",
    "    acc_r[i][4] = valor_per_defecte #per no escaxarrar la grfica\n",
    "    acc_r[i][5] = valor_per_defecte #per no escaxarrar la grfica. \n",
    " \n",
    "\n",
    "    \n",
    "plt.boxplot(acc_r);\n",
    "for i in range(tests):\n",
    "    xderiv = (i+1)*np.ones(acc_r[:,i].shape)+(np.random.rand(10,)-0.5)*0.1\n",
    "    plt.plot(xderiv,acc_r[:,i],'ro',alpha=0.3)\n",
    "    \n",
    "ax = plt.gca()\n",
    "ax.set_xticklabels(['1','2','3','4','5','6','7','8'])\n",
    "\n"
   ]
  },
  {
   "cell_type": "code",
   "execution_count": 8,
   "metadata": {},
   "outputs": [
    {
     "data": {
      "text/plain": [
       "[<matplotlib.text.Text at 0xc2c0350>,\n",
       " <matplotlib.text.Text at 0xc2c03d0>,\n",
       " <matplotlib.text.Text at 0xc753870>,\n",
       " <matplotlib.text.Text at 0xc753ef0>,\n",
       " <matplotlib.text.Text at 0xc764590>,\n",
       " <matplotlib.text.Text at 0xc764c10>,\n",
       " <matplotlib.text.Text at 0xc76a2b0>,\n",
       " <matplotlib.text.Text at 0xc76a930>]"
      ]
     },
     "execution_count": 8,
     "metadata": {},
     "output_type": "execute_result"
    },
    {
     "data": {
      "image/png": "[encoded data removed]",
      "text/plain": [
       "<matplotlib.figure.Figure at 0xc93a5b0>"
      ]
     },
     "metadata": {},
     "output_type": "display_data"
    }
   ],
   "source": [
    "#intento provar els models de un altre forma, que jo pugui entrendre. :P \n",
    "# SEGON INTENT\n",
    "\n",
    "%matplotlib inline \n",
    "#això es elque faltava per a pintar la gràfica!!!\n",
    "\n",
    "import pandas as pd\n",
    "import numpy as np\n",
    "import matplotlib.pyplot as plt\n",
    "from sklearn.svm import LinearSVC\n",
    "from sklearn.ensemble import AdaBoostClassifier\n",
    "from sklearn.naive_bayes import MultinomialNB, BernoulliNB\n",
    "from sklearn.linear_model import RidgeClassifier\n",
    "from sklearn.linear_model import PassiveAggressiveClassifier\n",
    "from sklearn.linear_model import Perceptron\n",
    "from sklearn.neighbors import NearestCentroid\n",
    "from sklearn.feature_selection import SelectFromModel\n",
    "from sklearn.linear_model import LogisticRegression\n",
    "\n",
    "\n",
    "df = pd.read_csv('tweets_public.csv', index_col='tweet_id')\n",
    "#df = df.loc[df.airline_sentiment_confidence > .99]\n",
    "#dataset = obtain_data_representation(df)\n",
    "\n",
    "tests = 8\n",
    "valor_per_defecte = 0.85\n",
    "\n",
    "acc_r=np.zeros((10,tests))\n",
    "\n",
    "for i in range(10):\n",
    "    dataset = obtain_data_representation(df) #això és una mcia marrano, però crec que funciona. \n",
    "    \n",
    "    bern = BernoulliNB(alpha=.20,binarize=0.0,fit_prior=True)\n",
    "    bern.fit(dataset['train']['x'], dataset['train']['y'])\n",
    "    yhat_bern=bern.predict(dataset['test']['x'])\n",
    "    acc_r[i][0] = metrics.accuracy_score(yhat_bern, dataset['test']['y'])\n",
    "    \n",
    "    if 0 is 0:\n",
    "        xx1 = LogisticRegression(solver='liblinear')\n",
    "        xx1.fit(dataset['train']['x'], dataset['train']['y'])\n",
    "        yhat_xx1=xx1.predict(dataset['test']['x'])\n",
    "        acc_r[i][1] = metrics.accuracy_score(yhat_xx1, dataset['test']['y'])\n",
    "    else:\n",
    "        acc_r[i][1] = valor_per_defecte #per no escaxarrar la grfica. \n",
    "    \n",
    "    if 0 is 0:\n",
    "        xx2 = LinearSVC()\n",
    "        xx2.fit(dataset['train']['x'], dataset['train']['y'])\n",
    "        yhat_xx2=xx2.predict(dataset['test']['x'])\n",
    "        acc_r[i][2] = metrics.accuracy_score(yhat_xx2, dataset['test']['y'])\n",
    "    else:\n",
    "        acc_r[i][2] = valor_per_defecte #per no escaxarrar la grfica. \n",
    "    \n",
    "    if 0 is 0:\n",
    "        xx3 = MultinomialNB()\n",
    "        xx3.fit(dataset['train']['x'], dataset['train']['y'])\n",
    "        yhat_xx3=xx3.predict(dataset['test']['x'])\n",
    "        acc_r[i][3] = metrics.accuracy_score(yhat_xx3, dataset['test']['y'])\n",
    "    else:\n",
    "        acc_r[i][3] = valor_per_defecte #per no escaxarrar la grfica. \n",
    "    \n",
    "    if 0 is 0:\n",
    "        xx4 = RidgeClassifier()\n",
    "        xx4.fit(dataset['train']['x'], dataset['train']['y'])\n",
    "        yhat_xx4=xx4.predict(dataset['test']['x'])\n",
    "        acc_r[i][4] = metrics.accuracy_score(yhat_xx4, dataset['test']['y'])\n",
    "    else:\n",
    "        acc_r[i][4] = valor_per_defecte #per no escaxarrar la grfica. \n",
    "    \n",
    "    acc_r[i][5] = valor_per_defecte #per no escaxarrar la grfica. \n",
    "    acc_r[i][6] = valor_per_defecte #per no escaxarrar la grfica. \n",
    "    acc_r[i][7] = valor_per_defecte #per no escaxarrar la grfica. \n",
    "        \n",
    "\n",
    "plt.boxplot(acc_r);\n",
    "for i in range(tests):\n",
    "    xderiv = (i+1)*np.ones(acc_r[:,i].shape)+(np.random.rand(10,)-0.5)*0.1\n",
    "    plt.plot(xderiv,acc_r[:,i],'ro',alpha=0.3)\n",
    "    \n",
    "ax = plt.gca()\n",
    "ax.set_xticklabels(['bern','1-NN','3-NN','svc','tree','Gaussian','Multinomial','svcLinear'])\n"
   ]
  },
  {
   "cell_type": "code",
   "execution_count": 9,
   "metadata": {},
   "outputs": [
    {
     "name": "stdout",
     "output_type": "stream",
     "text": [
      "Model BernoulliNB score is: 0.7468123861566485\n",
      "Model KNeighborsClassifier score is: 0.5132058287795993\n"
     ]
    }
   ],
   "source": [
    "import pandas as pd\n",
    "import numpy as np\n",
    "from sklearn.naive_bayes import BernoulliNB\n",
    "from sklearn.neighbors import KNeighborsClassifier\n",
    "\n",
    "\n",
    "\n",
    "df = pd.read_csv('tweets_public.csv', index_col='tweet_id')\n",
    "#df = df.loc[df.airline_sentiment_confidence > .99]\n",
    "dataset = obtain_data_representation(df)\n",
    "\n",
    "# Train a Bernoulli Naive Bayes\n",
    "modelNB, _ = train_model(dataset, BernoulliNB, \"BernoulliNB\")\n",
    "\n",
    "# Train a K Nearest Neighbors Classifier\n",
    "modelKN, _ = train_model(dataset, KNeighborsClassifier, \"KNeighborsClassifier\")"
   ]
  },
  {
   "cell_type": "code",
   "execution_count": null,
   "metadata": {
    "collapsed": true
   },
   "outputs": [],
   "source": []
  },
  {
   "cell_type": "markdown",
   "metadata": {},
   "source": [
    "## a partir d'aqui son merdes meves. "
   ]
  },
  {
   "cell_type": "code",
   "execution_count": null,
   "metadata": {
    "collapsed": true
   },
   "outputs": [],
   "source": [
    "df.head()\n",
    "print(dataset['train']['x'].shape)\n",
    "print(dataset['train']['y'].shape)\n",
    "print(\"------------------------------\")\n",
    "#print(dataset['train']['x'][2][0,8])\n",
    "print(dataset['train']['x'][2][0,])\n",
    "print(\"------------------------------\")\n",
    "print(dataset['train']['x'][0])\n",
    "print(\"------------------------------\")\n",
    "\n",
    "#print(dataset['train']['x'][2].groupby('x'))\n",
    "print(\"mikel\")\n",
    "mikel=dataset['train']['x'][2,0]\n",
    "\n",
    "print(mikel)\n",
    "\n",
    "\n",
    "\n",
    "\n",
    "#print(dataset['train']['x'][].colsum())\n",
    "#print(dataset['train']['x'])"
   ]
  },
  {
   "cell_type": "code",
   "execution_count": null,
   "metadata": {
    "collapsed": true
   },
   "outputs": [],
   "source": [
    "dataset = obtain_data_representation(df) #obtenim el nostre dataset. \n",
    "print(\"mikel:    \")\n",
    "#print(dataset['train']['x'])\n",
    "print(dataset['train']['x'][0])\n",
    "print(dataset['train']['y'][0])\n",
    "print(dataset)"
   ]
  },
  {
   "cell_type": "code",
   "execution_count": null,
   "metadata": {
    "collapsed": true
   },
   "outputs": [],
   "source": [
    "df.head()\n",
    "#df[0:1]\n",
    "#df.loc[0:1,['text']]\n"
   ]
  },
  {
   "cell_type": "code",
   "execution_count": null,
   "metadata": {
    "collapsed": true
   },
   "outputs": [],
   "source": []
  }
 ],
 "metadata": {
  "kernelspec": {
   "display_name": "Python 2",
   "language": "python",
   "name": "python2"
  },
  "language_info": {
   "codemirror_mode": {
    "name": "ipython",
    "version": 2
   },
   "file_extension": ".py",
   "mimetype": "text/x-python",
   "name": "python",
   "nbconvert_exporter": "python",
   "pygments_lexer": "ipython2",
   "version": "2.7.14"
  }
 },
 "nbformat": 4,
 "nbformat_minor": 2
}
