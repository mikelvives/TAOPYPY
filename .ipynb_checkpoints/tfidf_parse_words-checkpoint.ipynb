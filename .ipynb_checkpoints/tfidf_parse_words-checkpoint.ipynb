{
 "cells": [
  {
   "cell_type": "markdown",
   "metadata": {},
   "source": [
    "# Model using XGBoost, TF-IDF and grabbing more than one feature"
   ]
  },
  {
   "cell_type": "markdown",
   "metadata": {},
   "source": [
    "## Import all the necessary libraries"
   ]
  },
  {
   "cell_type": "code",
   "execution_count": 1,
   "metadata": {
    "collapsed": true
   },
   "outputs": [],
   "source": [
    "import pandas as pd, numpy as np\n",
    "import datetime\n",
    "import re\n",
    "import itertools\n",
    "import matplotlib.pyplot as plt\n",
    "import sys\n",
    "'''default_stdout = sys.stdout\n",
    "default_stderr = sys.stderr\n",
    "reload(sys)\n",
    "sys.stdout = default_stdout\n",
    "sys.stderr = default_stderr\n",
    "\n",
    "sys.setdefaultencoding('UTF8')\n",
    "'''\n",
    "sys.path.insert(0, '../../TAOPYPY/')\n",
    "import parser_data_cleaning as p\n",
    "from sklearn.feature_extraction.text import TfidfVectorizer, ENGLISH_STOP_WORDS, CountVectorizer\n",
    "from sklearn.model_selection import train_test_split\n",
    "from scipy.sparse import hstack\n",
    "from sklearn.metrics import accuracy_score, confusion_matrix\n",
    "from sklearn.preprocessing import LabelEncoder\n",
    "from sklearn.feature_extraction import DictVectorizer\n",
    "from collections import Counter\n",
    "# En el caso de querer probar con un CountVectorizer, descomentar el TF-IDF y cambiar lineas.\n",
    "# from sklearn.feature_extraction.text import CountVectorizer\n",
    "\n",
    "my_stop_words = list(ENGLISH_STOP_WORDS)\n",
    "my_stop_words.extend(['yes', 'won', 'way', 'trip', 'travel', 'think', \n",
    "                      'sent', 'said', 'says', 'right', 'new', 'need', \n",
    "                      'morning', 'make', 'line', 'let', 'lax', \n",
    "                      'jfk', 'http', 'got', 'getting', 'flightr', 'fly',\n",
    "                      'flt', 'flights', 'flight', 'flighted', 'dfw', 'did', 'does', 'amp'])"
   ]
  },
  {
   "cell_type": "markdown",
   "metadata": {},
   "source": [
    "## Functions"
   ]
  },
  {
   "cell_type": "markdown",
   "metadata": {},
   "source": [
    "##### Get training and testing data"
   ]
  },
  {
   "cell_type": "code",
   "execution_count": 2,
   "metadata": {
    "collapsed": true
   },
   "outputs": [],
   "source": [
    "def obtain_data_representation(df, test=None, show_modelwords = False, show_modelparams = False):\n",
    "    'A function to obtain a good data format to feed into our ML algorithms'\n",
    "    # If there is no test data, split the input\n",
    "    if test is None:\n",
    "        # Divide data in train and test\n",
    "        train, test = train_test_split(df, test_size=0.25)\n",
    "        df.airline_sentiment = pd.Categorical(df.airline_sentiment)\n",
    "    \n",
    "    else:\n",
    "        # Otherwise, all is train. This is done for the case when we want to use the algorithm for prediction.\n",
    "        # The function will prepare the data to be given to the model in the correct format\n",
    "        train = df\n",
    "        \n",
    "    # Create 3 Bag of Words (BoW), by using train data only. \n",
    "    # We don't have the negativereason in the submission dataset, so we can't include it in our results!\n",
    "    tfidf_1 = TfidfVectorizer(max_features=150, token_pattern = r'([A-Za-z]{3,}|no)', strip_accents = 'unicode', stop_words = my_stop_words, min_df = 0.01, max_df = 0.7)\n",
    "    cvec = CountVectorizer(max_features=150, token_pattern = r'([A-Za-z]{3,}|no)', strip_accents = 'unicode', stop_words = my_stop_words, min_df = 0.01, max_df = 0.7)\n",
    "    #tfidf_3 = TfidfVectorizer(max_features = 100, token_pattern = r'[A-Za-z]{3,}|no', strip_accents = 'unicode', stop_words = 'english', min_df = 0.1, max_df = 0.7)\n",
    "    \n",
    "    # We'll use 3 categories: the text of the tweet (main one), the name of the airline and the negativereason as well \n",
    "    x_train_1 = tfidf_1.fit_transform(train['text'])\n",
    "    #x_train_2 = cvec.fit_transform(train['text'])\n",
    "    #x_train_3 = tfidf_3.fit_transform(train['negativereason'])\n",
    "    y_train = train['airline_sentiment'].values\n",
    "    \n",
    "    # Con el countVectorizer:\n",
    "    # cv = CountVectorizer(max_features=200, token_pattern = r'[A-Za-z]{3,}|no')\n",
    "    # x_train = cv.fit_transform(train['text'])\n",
    "    x_train = x_train_1\n",
    "    #x_train = hstack([x_train_1, x_train_2], format='csr')\n",
    "    \n",
    "    # Obtain both BoWs for the test data, using the previously fitted BoWs\n",
    "    x_test_1 = tfidf_1.transform(test['text'])\n",
    "    #x_test_2 = cvec.transform(test['text'])\n",
    "    #x_test_3 = tfidf_3.transform(test['negativereason'])\n",
    "    \n",
    "    #x_test = hstack([x_test_1, x_test_2], format='csr')\n",
    "    x_test = x_test_1\n",
    "    \n",
    "    # Before returning the processed data, we will give the option to print parameters and word values in our tf_idf models\n",
    "    if show_modelwords:\n",
    "        print ('Words for the first model (Text of the tweet) are: ', tfidf_1.get_feature_names())\n",
    "        print ('--------------------')\n",
    "        print ('Words for the second model (Name of the airline) are: ', tfidf_2.get_feature_names())\n",
    "        # print('--------------------')\n",
    "        # print ('Words for the third model (Negativereason) are: ', tfidf_3.get_feature_names())\n",
    "\n",
    "    \n",
    "    if show_modelparams:\n",
    "        print ('Parameters for the first model (Text of the tweet) are: ', tfidf_1.get_params())\n",
    "        print ('--------------------')\n",
    "        print ('Parameters for the second model (Name of the airline) are: ', tfidf_2.get_params())\n",
    "        # print ('--------------------')\n",
    "        # print ('Parameters for the third model (Negative_reason) are: ', tfidf_3.get_params()) \n",
    "   \n",
    "    try:\n",
    "        y_test = test['airline_sentiment'].values\n",
    "    except:\n",
    "        # It might be the submision file, where we don't have target values\n",
    "        y_test = None\n",
    "        \n",
    "    return {\n",
    "        'train': {\n",
    "            'x': x_train,\n",
    "            'y': y_train\n",
    "        },\n",
    "        'test': {\n",
    "            'x': x_test,\n",
    "            'y': y_test\n",
    "        }\n",
    "    } # tfidf_1, tfidf_2"
   ]
  },
  {
   "cell_type": "code",
   "execution_count": 3,
   "metadata": {
    "collapsed": true
   },
   "outputs": [],
   "source": [
    "def obtain_data_representation_emojis(df, test = None, show_modelwords = False, show_modelparams = False):\n",
    "    'A function to obtain emojis from a text field. We will use this emojis perform sentiment analysis of a given set of tweets'\n",
    "    # A regular expression to get standard emojis from text\n",
    "    \n",
    "    # En teoria esta parte funciona para python 3, pero no lo hace para python 2\n",
    "    # re_prep = re.compile(r'[^\\u263a-\\U0001f645]')\n",
    "    # def prep_func(s):\n",
    "    #     'A preprocessing function to return only the emojis, and remove the plain text'\n",
    "    #     return re_prep.sub('', s)\n",
    "    \n",
    "    # Esto debería funcionar para python 2:\n",
    "    '''em = re.compile(r'(\\xf0\\S*)')\n",
    "    rep = re.compile(\"[\\uD800-\\uDFFF]\", re.UNICODE)\n",
    "    def prep_func(s):\n",
    "        aux = []\n",
    "        emojis = em.findall(s)\n",
    "        for elem in emojis:\n",
    "            elem = rep.sub('', elem)\n",
    "            while len(elem) > 4:\n",
    "                aux.append(elem[0:4])\n",
    "                elem = elem[4:]\n",
    "            aux.append(elem)\n",
    "        return ','.join(aux)'''\n",
    "    \n",
    "    # If there is no test data, split the input\n",
    "    if test is None:\n",
    "        train, test = train_test_split(df, test_size=0.25)\n",
    "        df.airline_sentiment = pd.Categorical(df.airline_sentiment)\n",
    "    \n",
    "    else:\n",
    "        train = df\n",
    "    \n",
    "    # All sentences will be a vector with the full text that will serve us to identify all the emojis present in our text\n",
    "    all_sentences = df['text']\n",
    "    \n",
    "    tfidf = TfidfVectorizer(max_features=150, token_pattern = r'([A-Za-z]{3,}|no)', strip_accents = 'unicode', stop_words = my_stop_words, min_df = 0.01, max_df = 0.7)\n",
    "    '''vec = CountVectorizer(preprocessor=prep_func, \n",
    "                      analyzer = 'char', \n",
    "                     binary = True)\n",
    "    '''\n",
    "    dvec = DictVectorizer()\n",
    "    #vec.fit(all_sentences)\n",
    "    \n",
    "    # We have created a user defined function to deal with emojis, as we couldn't find a way to include them into \n",
    "    # the predefined vectorizers from sklearn.\n",
    "    \n",
    "    x_train_txt = tfidf.fit_transform(train['text'])\n",
    "    x_train_emojis = dvec.fit_transform(Counter(s.split(',')) for s in train['emojis'])\n",
    "    \n",
    "    x_test_txt = tfidf.transform(test['text'])\n",
    "    x_test_emojis = dvec.transform(Counter(s.split()) for s in test['emojis'])\n",
    "    \n",
    "    x_train = hstack([x_train_txt, x_train_emojis], format = 'csr')\n",
    "    x_test = hstack([x_test_txt, x_test_emojis], format = 'csr')    \n",
    "    \n",
    "    # Before returning the processed data, we will give the option to print parameters and word values in our tf_idf models\n",
    "    if show_modelwords:\n",
    "        print ('Words for the model are: ', tfidf.get_feature_names())\n",
    "        print('Emojis foung are: ', dvec.vocabulary_)\n",
    "\n",
    "    if show_modelparams:\n",
    "        print ('Parameters for the model are: ', tfidf.get_params())\n",
    "\n",
    "\n",
    "    y_train = train['airline_sentiment'].values \n",
    "   \n",
    "    try:\n",
    "        y_test = test['airline_sentiment'].values\n",
    "    except:\n",
    "        # It might be the submision file, where we don't have target values\n",
    "        y_test = None\n",
    "        \n",
    "    return {\n",
    "            'train': {\n",
    "                    'x': x_train,\n",
    "                    'y': y_train\n",
    "            },\n",
    "            'test': {\n",
    "                'x': x_test,\n",
    "                'y': y_test\n",
    "            }\n",
    "           }"
   ]
  },
  {
   "cell_type": "code",
   "execution_count": 4,
   "metadata": {
    "collapsed": true
   },
   "outputs": [],
   "source": [
    "def dealwith_dates(df):\n",
    "    'A function to perform feature engineering with some of the dates'\n",
    "    aux = df\n",
    "    df['tweet_created'] = pd.to_datetime(df.tweet_created)\n",
    "    aux['day_of_month'] = df.apply(lambda x: x.tweet_created.day, axis = 1)\n",
    "    aux['day_of_week'] = df.tweet_created.dt.dayofweek\n",
    "    aux['day_of_year'] = df.tweet_created.dt.dayofyear\n",
    "    aux['is_23rd_feb'] = df.apply(lambda x: 1 if x.tweet_created.date() == '2015-02-23' else 0 , axis = 1)\n",
    "    aux['text_length'] = df.apply(lambda x: len(x.text), axis = 1)\n",
    "    return aux\n"
   ]
  },
  {
   "cell_type": "code",
   "execution_count": 5,
   "metadata": {
    "collapsed": true
   },
   "outputs": [],
   "source": [
    "def obtain_data_representation2(df, test=None, show_modelwords = False, show_modelparams = False):\n",
    "    'A function to obtain a good data format to feed into our ML algorithms'\n",
    "    # If there is no test data, split the input\n",
    "    if test is None:\n",
    "        train, test = train_test_split(df, test_size=0.25)\n",
    "        df.airline_sentiment = pd.Categorical(df.airline_sentiment)\n",
    "    \n",
    "    else:\n",
    "        train = df\n",
    "        \n",
    "    tfidf = TfidfVectorizer(max_features=150, token_pattern = r'([A-Za-z]{3,}|no)', strip_accents = 'unicode', stop_words = my_stop_words, min_df = 0.01, max_df = 0.7)\n",
    "\n",
    "    x_train_txt = tfidf.fit_transform(train['words_parsed'])\n",
    "\n",
    "    # Con el countVectorizer:\n",
    "    # cv = CountVectorizer(max_features=200, token_pattern = r'[A-Za-z]{3,}|no')\n",
    "    # x_train = cv.fit_transform(train['text'])\n",
    "    x_test_txt = tfidf.transform(test['words_parsed'])\n",
    "    # Before returning the processed data, we will give the option to print parameters and word values in our tf_idf models\n",
    "    if show_modelwords:\n",
    "        print ('Words for the model are: ', tfidf.get_feature_names())\n",
    "\n",
    "    if show_modelparams:\n",
    "        print ('Parameters for the model are: ', tfidf.get_params())\n",
    "\n",
    "\n",
    "    y_train = train['airline_sentiment'].values \n",
    "   \n",
    "    try:\n",
    "        y_test = test['airline_sentiment'].values\n",
    "    except:\n",
    "        # It might be the submision file, where we don't have target values\n",
    "        y_test = None\n",
    "        \n",
    "    return {\n",
    "            'train': {\n",
    "                    'x': x_train_txt,\n",
    "                    'y': y_train\n",
    "            },\n",
    "            'test': {\n",
    "                'x': x_test_txt,\n",
    "                'y': y_test\n",
    "            }\n",
    "           }"
   ]
  },
  {
   "cell_type": "code",
   "execution_count": 6,
   "metadata": {
    "collapsed": true
   },
   "outputs": [],
   "source": [
    "def plot_confusion_matrix(cm, classes,\n",
    "                          normalize=False,\n",
    "                          title='Confusion matrix',\n",
    "                          cmap=plt.cm.Blues):\n",
    "    \"\"\"\n",
    "    This function prints and plots the confusion matrix.\n",
    "    Normalization can be applied by setting `normalize=True`.\n",
    "    \"\"\"\n",
    "    if normalize:\n",
    "        cm = cm.astype('float') / cm.sum(axis=1)[:, np.newaxis]\n",
    "\n",
    "    print(cm)\n",
    "\n",
    "    plt.imshow(cm, interpolation='nearest', cmap=cmap)\n",
    "    plt.title(title)\n",
    "    plt.colorbar()\n",
    "    tick_marks = np.arange(len(classes))\n",
    "    plt.xticks(tick_marks, classes, rotation=45)\n",
    "    plt.yticks(tick_marks, classes)\n",
    "\n",
    "    fmt = '.2f' if normalize else 'd'\n",
    "    thresh = cm.max() / 2.\n",
    "    for i, j in itertools.product(range(cm.shape[0]), range(cm.shape[1])):\n",
    "        plt.text(j, i, format(cm[i, j], fmt),\n",
    "                 horizontalalignment=\"center\",\n",
    "                 color=\"white\" if cm[i, j] > thresh else \"black\")\n",
    "\n",
    "    plt.tight_layout()\n",
    "    plt.ylabel('True label')\n",
    "    plt.xlabel('Predicted label')\n",
    "    "
   ]
  },
  {
   "cell_type": "markdown",
   "metadata": {},
   "source": [
    "## Read and Preprocess data"
   ]
  },
  {
   "cell_type": "code",
   "execution_count": 7,
   "metadata": {},
   "outputs": [
    {
     "data": {
      "text/html": [
       "<div>\n",
       "<style scoped>\n",
       "    .dataframe tbody tr th:only-of-type {\n",
       "        vertical-align: middle;\n",
       "    }\n",
       "\n",
       "    .dataframe tbody tr th {\n",
       "        vertical-align: top;\n",
       "    }\n",
       "\n",
       "    .dataframe thead th {\n",
       "        text-align: right;\n",
       "    }\n",
       "</style>\n",
       "<table border=\"1\" class=\"dataframe\">\n",
       "  <thead>\n",
       "    <tr style=\"text-align: right;\">\n",
       "      <th></th>\n",
       "      <th>airline_sentiment</th>\n",
       "      <th>airline_sentiment_confidence</th>\n",
       "      <th>negativereason</th>\n",
       "      <th>negativereason_confidence</th>\n",
       "      <th>airline</th>\n",
       "      <th>airline_sentiment_gold</th>\n",
       "      <th>name</th>\n",
       "      <th>negativereason_gold</th>\n",
       "      <th>retweet_count</th>\n",
       "      <th>text</th>\n",
       "      <th>tweet_coord</th>\n",
       "      <th>tweet_created</th>\n",
       "      <th>tweet_location</th>\n",
       "      <th>user_timezone</th>\n",
       "    </tr>\n",
       "    <tr>\n",
       "      <th>tweet_id</th>\n",
       "      <th></th>\n",
       "      <th></th>\n",
       "      <th></th>\n",
       "      <th></th>\n",
       "      <th></th>\n",
       "      <th></th>\n",
       "      <th></th>\n",
       "      <th></th>\n",
       "      <th></th>\n",
       "      <th></th>\n",
       "      <th></th>\n",
       "      <th></th>\n",
       "      <th></th>\n",
       "      <th></th>\n",
       "    </tr>\n",
       "  </thead>\n",
       "  <tbody>\n",
       "    <tr>\n",
       "      <th>569237160886276096</th>\n",
       "      <td>negative</td>\n",
       "      <td>1.0000</td>\n",
       "      <td>Can't Tell</td>\n",
       "      <td>0.6543</td>\n",
       "      <td>Delta</td>\n",
       "      <td>NaN</td>\n",
       "      <td>venkatesh_cr</td>\n",
       "      <td>NaN</td>\n",
       "      <td>0</td>\n",
       "      <td>@JetBlue I've been in pricing for 8 years to k...</td>\n",
       "      <td>NaN</td>\n",
       "      <td>2015-02-21 12:48:09 -0800</td>\n",
       "      <td>Austin Texas</td>\n",
       "      <td>Central Time (US &amp; Canada)</td>\n",
       "    </tr>\n",
       "    <tr>\n",
       "      <th>569267194028298241</th>\n",
       "      <td>negative</td>\n",
       "      <td>1.0000</td>\n",
       "      <td>Customer Service Issue</td>\n",
       "      <td>1.0000</td>\n",
       "      <td>Southwest</td>\n",
       "      <td>NaN</td>\n",
       "      <td>ChristineFlores</td>\n",
       "      <td>NaN</td>\n",
       "      <td>0</td>\n",
       "      <td>@SouthwestAir AH - did DM, no reply. On hold n...</td>\n",
       "      <td>NaN</td>\n",
       "      <td>2015-02-21 14:47:30 -0800</td>\n",
       "      <td>NaN</td>\n",
       "      <td>Central Time (US &amp; Canada)</td>\n",
       "    </tr>\n",
       "    <tr>\n",
       "      <th>569506670189137920</th>\n",
       "      <td>negative</td>\n",
       "      <td>0.6473</td>\n",
       "      <td>Lost Luggage</td>\n",
       "      <td>0.6473</td>\n",
       "      <td>United</td>\n",
       "      <td>NaN</td>\n",
       "      <td>szymanski_t</td>\n",
       "      <td>NaN</td>\n",
       "      <td>0</td>\n",
       "      <td>@united if you lost my belongings then BE HONEST!</td>\n",
       "      <td>NaN</td>\n",
       "      <td>2015-02-22 06:39:05 -0800</td>\n",
       "      <td>NaN</td>\n",
       "      <td>Eastern Time (US &amp; Canada)</td>\n",
       "    </tr>\n",
       "    <tr>\n",
       "      <th>570293957739081728</th>\n",
       "      <td>negative</td>\n",
       "      <td>1.0000</td>\n",
       "      <td>Customer Service Issue</td>\n",
       "      <td>1.0000</td>\n",
       "      <td>United</td>\n",
       "      <td>NaN</td>\n",
       "      <td>nate2482</td>\n",
       "      <td>NaN</td>\n",
       "      <td>0</td>\n",
       "      <td>@United the internet is a great thing.  I am e...</td>\n",
       "      <td>NaN</td>\n",
       "      <td>2015-02-24 10:47:29 -0800</td>\n",
       "      <td>Parkersburg, WV</td>\n",
       "      <td>Eastern Time (US &amp; Canada)</td>\n",
       "    </tr>\n",
       "    <tr>\n",
       "      <th>570212129313316864</th>\n",
       "      <td>neutral</td>\n",
       "      <td>1.0000</td>\n",
       "      <td>NaN</td>\n",
       "      <td>NaN</td>\n",
       "      <td>Delta</td>\n",
       "      <td>NaN</td>\n",
       "      <td>elias_rubin</td>\n",
       "      <td>NaN</td>\n",
       "      <td>0</td>\n",
       "      <td>@JetBlue I believe that the website said I cou...</td>\n",
       "      <td>NaN</td>\n",
       "      <td>2015-02-24 05:22:20 -0800</td>\n",
       "      <td>New York, NY</td>\n",
       "      <td>Pacific Time (US &amp; Canada)</td>\n",
       "    </tr>\n",
       "  </tbody>\n",
       "</table>\n",
       "</div>"
      ],
      "text/plain": [
       "                   airline_sentiment  airline_sentiment_confidence  \\\n",
       "tweet_id                                                             \n",
       "569237160886276096          negative                        1.0000   \n",
       "569267194028298241          negative                        1.0000   \n",
       "569506670189137920          negative                        0.6473   \n",
       "570293957739081728          negative                        1.0000   \n",
       "570212129313316864           neutral                        1.0000   \n",
       "\n",
       "                            negativereason  negativereason_confidence  \\\n",
       "tweet_id                                                                \n",
       "569237160886276096              Can't Tell                     0.6543   \n",
       "569267194028298241  Customer Service Issue                     1.0000   \n",
       "569506670189137920            Lost Luggage                     0.6473   \n",
       "570293957739081728  Customer Service Issue                     1.0000   \n",
       "570212129313316864                     NaN                        NaN   \n",
       "\n",
       "                      airline airline_sentiment_gold             name  \\\n",
       "tweet_id                                                                \n",
       "569237160886276096      Delta                    NaN     venkatesh_cr   \n",
       "569267194028298241  Southwest                    NaN  ChristineFlores   \n",
       "569506670189137920     United                    NaN      szymanski_t   \n",
       "570293957739081728     United                    NaN         nate2482   \n",
       "570212129313316864      Delta                    NaN      elias_rubin   \n",
       "\n",
       "                   negativereason_gold  retweet_count  \\\n",
       "tweet_id                                                \n",
       "569237160886276096                 NaN              0   \n",
       "569267194028298241                 NaN              0   \n",
       "569506670189137920                 NaN              0   \n",
       "570293957739081728                 NaN              0   \n",
       "570212129313316864                 NaN              0   \n",
       "\n",
       "                                                                 text  \\\n",
       "tweet_id                                                                \n",
       "569237160886276096  @JetBlue I've been in pricing for 8 years to k...   \n",
       "569267194028298241  @SouthwestAir AH - did DM, no reply. On hold n...   \n",
       "569506670189137920  @united if you lost my belongings then BE HONEST!   \n",
       "570293957739081728  @United the internet is a great thing.  I am e...   \n",
       "570212129313316864  @JetBlue I believe that the website said I cou...   \n",
       "\n",
       "                   tweet_coord              tweet_created   tweet_location  \\\n",
       "tweet_id                                                                     \n",
       "569237160886276096         NaN  2015-02-21 12:48:09 -0800     Austin Texas   \n",
       "569267194028298241         NaN  2015-02-21 14:47:30 -0800              NaN   \n",
       "569506670189137920         NaN  2015-02-22 06:39:05 -0800              NaN   \n",
       "570293957739081728         NaN  2015-02-24 10:47:29 -0800  Parkersburg, WV   \n",
       "570212129313316864         NaN  2015-02-24 05:22:20 -0800     New York, NY   \n",
       "\n",
       "                                 user_timezone  \n",
       "tweet_id                                        \n",
       "569237160886276096  Central Time (US & Canada)  \n",
       "569267194028298241  Central Time (US & Canada)  \n",
       "569506670189137920  Eastern Time (US & Canada)  \n",
       "570293957739081728  Eastern Time (US & Canada)  \n",
       "570212129313316864  Pacific Time (US & Canada)  "
      ]
     },
     "execution_count": 7,
     "metadata": {},
     "output_type": "execute_result"
    }
   ],
   "source": [
    "# Read the data and see how it looks like. Treat it a little bit to keep what is interesting for us\n",
    "df = pd.read_csv('./tweets_public.csv', index_col='tweet_id')#.reset_index()\n",
    "df.head()"
   ]
  },
  {
   "cell_type": "markdown",
   "metadata": {},
   "source": [
    "Let's explore the data to see what can we do with it and what columns may be useful for us"
   ]
  },
  {
   "cell_type": "code",
   "execution_count": 8,
   "metadata": {},
   "outputs": [
    {
     "name": "stdout",
     "output_type": "stream",
     "text": [
      "The number of NULL values per column name are: \n",
      "airline_sentiment                  0\n",
      "airline_sentiment_confidence       0\n",
      "negativereason                  3253\n",
      "negativereason_confidence       2459\n",
      "airline                            0\n",
      "airline_sentiment_gold          8760\n",
      "name                               0\n",
      "negativereason_gold             8764\n",
      "retweet_count                      0\n",
      "text                               0\n",
      "tweet_coord                     8176\n",
      "tweet_created                      0\n",
      "tweet_location                  2848\n",
      "user_timezone                   2811\n",
      "dtype: int64\n",
      "The number of positive, negative and neutral valorations in the training dataset are: \n",
      "negative    5531\n",
      "neutral     1846\n",
      "positive    1407\n",
      "Name: airline_sentiment, dtype: int64\n"
     ]
    }
   ],
   "source": [
    "# Check the number of null values in the dataset:\n",
    "print('The number of NULL values per column name are: ')\n",
    "print(df.isnull().sum())\n",
    "\n",
    "# It is interesting to notice that exactly the amount of values that have the negativereason null is the same as the sum of the \n",
    "# neutral and positive sentiments! Can we use that info?\n",
    "print ('The number of positive, negative and neutral valorations in the training dataset are: ')\n",
    "print(df.airline_sentiment.value_counts())"
   ]
  },
  {
   "cell_type": "markdown",
   "metadata": {},
   "source": [
    "There are several columns that seem to have been predicted because we don't have them in the testing dataset. Therefore, we will remove them from our training dataset, as using them will result in probably overfitting our model. Those columns are *negativereason*, *negativereason_confidence*, *negativereason_gold*."
   ]
  },
  {
   "cell_type": "code",
   "execution_count": 9,
   "metadata": {
    "collapsed": true
   },
   "outputs": [],
   "source": [
    "df.drop(['negativereason', 'negativereason_gold', 'negativereason_confidence'], axis = 1, inplace = True)"
   ]
  },
  {
   "cell_type": "code",
   "execution_count": 10,
   "metadata": {},
   "outputs": [
    {
     "name": "stdout",
     "output_type": "stream",
     "text": [
      "-------------- \n",
      "\n",
      "Amount of initial training data (unprocessed): 8784 rows, 11 columns.\n",
      "Dataset with outliers removed:\n",
      "Amount of training data after removing some data based on the airline sentiment confidence: 6250 rows, 11 colums.\n"
     ]
    },
    {
     "name": "stderr",
     "output_type": "stream",
     "text": [
      "/Users/carlos/anaconda2/lib/python2.7/site-packages/pandas/core/generic.py:3643: SettingWithCopyWarning: \n",
      "A value is trying to be set on a copy of a slice from a DataFrame.\n",
      "Try using .loc[row_indexer,col_indexer] = value instead\n",
      "\n",
      "See the caveats in the documentation: http://pandas.pydata.org/pandas-docs/stable/indexing.html#indexing-view-versus-copy\n",
      "  self[name] = value\n"
     ]
    }
   ],
   "source": [
    "# Some statistical data can be calculated as well:\n",
    "# print(df.describe())\n",
    "\n",
    "print ('-------------- \\n')\n",
    "print('Amount of initial training data (unprocessed): %i rows, %i columns.' % (df.shape))\n",
    "\n",
    "# We'll keep, for now, airline_sentiment as the target, text, airline and negativereason. Changes applied in the function defined above\n",
    "dfaux = df.loc[df.airline_sentiment_confidence > (df.describe()['airline_sentiment_confidence']['mean'] - df.describe()['airline_sentiment_confidence']['std'])]\n",
    "main_dataset = obtain_data_representation(df)#, show_modelwords=True)\n",
    "print('Dataset with outliers removed:')\n",
    "aux_dataset = obtain_data_representation(dfaux)# ,show_modelwords=True)\n",
    "print ('Amount of training data after removing some data based on the airline sentiment confidence: %i rows, %i colums.' % (dfaux.shape))"
   ]
  },
  {
   "cell_type": "markdown",
   "metadata": {},
   "source": [
    "We will try to use our own parser to normalize the words in each tweet, and then use this parse words to feed the Count vectorizer"
   ]
  },
  {
   "cell_type": "code",
   "execution_count": 11,
   "metadata": {},
   "outputs": [
    {
     "name": "stderr",
     "output_type": "stream",
     "text": [
      "/Users/carlos/anaconda2/lib/python2.7/site-packages/unidecode/__init__.py:50: RuntimeWarning: Surrogate character u'\\ud83d' will be ignored. You might be using a narrow Python build.\n",
      "  return _unidecode(string)\n",
      "/Users/carlos/anaconda2/lib/python2.7/site-packages/unidecode/__init__.py:50: RuntimeWarning: Surrogate character u'\\udc4d' will be ignored. You might be using a narrow Python build.\n",
      "  return _unidecode(string)\n",
      "/Users/carlos/anaconda2/lib/python2.7/site-packages/unidecode/__init__.py:50: RuntimeWarning: Surrogate character u'\\ude2d' will be ignored. You might be using a narrow Python build.\n",
      "  return _unidecode(string)\n",
      "/Users/carlos/anaconda2/lib/python2.7/site-packages/unidecode/__init__.py:50: RuntimeWarning: Surrogate character u'\\ude12' will be ignored. You might be using a narrow Python build.\n",
      "  return _unidecode(string)\n",
      "/Users/carlos/anaconda2/lib/python2.7/site-packages/unidecode/__init__.py:50: RuntimeWarning: Surrogate character u'\\ude10' will be ignored. You might be using a narrow Python build.\n",
      "  return _unidecode(string)\n",
      "/Users/carlos/anaconda2/lib/python2.7/site-packages/unidecode/__init__.py:50: RuntimeWarning: Surrogate character u'\\ude22' will be ignored. You might be using a narrow Python build.\n",
      "  return _unidecode(string)\n",
      "/Users/carlos/anaconda2/lib/python2.7/site-packages/unidecode/__init__.py:50: RuntimeWarning: Surrogate character u'\\ude29' will be ignored. You might be using a narrow Python build.\n",
      "  return _unidecode(string)\n",
      "/Users/carlos/anaconda2/lib/python2.7/site-packages/unidecode/__init__.py:50: RuntimeWarning: Surrogate character u'\\udc4f' will be ignored. You might be using a narrow Python build.\n",
      "  return _unidecode(string)\n",
      "/Users/carlos/anaconda2/lib/python2.7/site-packages/unidecode/__init__.py:50: RuntimeWarning: Surrogate character u'\\ude11' will be ignored. You might be using a narrow Python build.\n",
      "  return _unidecode(string)\n",
      "/Users/carlos/anaconda2/lib/python2.7/site-packages/unidecode/__init__.py:50: RuntimeWarning: Surrogate character u'\\ude0a' will be ignored. You might be using a narrow Python build.\n",
      "  return _unidecode(string)\n",
      "/Users/carlos/anaconda2/lib/python2.7/site-packages/unidecode/__init__.py:50: RuntimeWarning: Surrogate character u'\\ude06' will be ignored. You might be using a narrow Python build.\n",
      "  return _unidecode(string)\n",
      "/Users/carlos/anaconda2/lib/python2.7/site-packages/unidecode/__init__.py:50: RuntimeWarning: Surrogate character u'\\ude01' will be ignored. You might be using a narrow Python build.\n",
      "  return _unidecode(string)\n",
      "/Users/carlos/anaconda2/lib/python2.7/site-packages/unidecode/__init__.py:50: RuntimeWarning: Surrogate character u'\\ud83c' will be ignored. You might be using a narrow Python build.\n",
      "  return _unidecode(string)\n",
      "/Users/carlos/anaconda2/lib/python2.7/site-packages/unidecode/__init__.py:50: RuntimeWarning: Surrogate character u'\\udf89' will be ignored. You might be using a narrow Python build.\n",
      "  return _unidecode(string)\n",
      "/Users/carlos/anaconda2/lib/python2.7/site-packages/unidecode/__init__.py:50: RuntimeWarning: Surrogate character u'\\udd35' will be ignored. You might be using a narrow Python build.\n",
      "  return _unidecode(string)\n",
      "/Users/carlos/anaconda2/lib/python2.7/site-packages/unidecode/__init__.py:50: RuntimeWarning: Surrogate character u'\\ude21' will be ignored. You might be using a narrow Python build.\n",
      "  return _unidecode(string)\n",
      "/Users/carlos/anaconda2/lib/python2.7/site-packages/unidecode/__init__.py:50: RuntimeWarning: Surrogate character u'\\ude02' will be ignored. You might be using a narrow Python build.\n",
      "  return _unidecode(string)\n",
      "/Users/carlos/anaconda2/lib/python2.7/site-packages/unidecode/__init__.py:50: RuntimeWarning: Surrogate character u'\\udc97' will be ignored. You might be using a narrow Python build.\n",
      "  return _unidecode(string)\n",
      "/Users/carlos/anaconda2/lib/python2.7/site-packages/unidecode/__init__.py:50: RuntimeWarning: Surrogate character u'\\ude0f' will be ignored. You might be using a narrow Python build.\n",
      "  return _unidecode(string)\n",
      "/Users/carlos/anaconda2/lib/python2.7/site-packages/unidecode/__init__.py:50: RuntimeWarning: Surrogate character u'\\ude04' will be ignored. You might be using a narrow Python build.\n",
      "  return _unidecode(string)\n",
      "/Users/carlos/anaconda2/lib/python2.7/site-packages/unidecode/__init__.py:50: RuntimeWarning: Surrogate character u'\\ude0d' will be ignored. You might be using a narrow Python build.\n",
      "  return _unidecode(string)\n",
      "/Users/carlos/anaconda2/lib/python2.7/site-packages/unidecode/__init__.py:50: RuntimeWarning: Surrogate character u'\\uddec' will be ignored. You might be using a narrow Python build.\n",
      "  return _unidecode(string)\n",
      "/Users/carlos/anaconda2/lib/python2.7/site-packages/unidecode/__init__.py:50: RuntimeWarning: Surrogate character u'\\udde7' will be ignored. You might be using a narrow Python build.\n",
      "  return _unidecode(string)\n",
      "/Users/carlos/anaconda2/lib/python2.7/site-packages/unidecode/__init__.py:50: RuntimeWarning: Surrogate character u'\\uddfa' will be ignored. You might be using a narrow Python build.\n",
      "  return _unidecode(string)\n",
      "/Users/carlos/anaconda2/lib/python2.7/site-packages/unidecode/__init__.py:50: RuntimeWarning: Surrogate character u'\\uddf8' will be ignored. You might be using a narrow Python build.\n",
      "  return _unidecode(string)\n",
      "/Users/carlos/anaconda2/lib/python2.7/site-packages/unidecode/__init__.py:50: RuntimeWarning: Surrogate character u'\\udf80' will be ignored. You might be using a narrow Python build.\n",
      "  return _unidecode(string)\n",
      "/Users/carlos/anaconda2/lib/python2.7/site-packages/unidecode/__init__.py:50: RuntimeWarning: Surrogate character u'\\udf0f' will be ignored. You might be using a narrow Python build.\n",
      "  return _unidecode(string)\n",
      "/Users/carlos/anaconda2/lib/python2.7/site-packages/unidecode/__init__.py:50: RuntimeWarning: Surrogate character u'\\udc4a' will be ignored. You might be using a narrow Python build.\n",
      "  return _unidecode(string)\n",
      "/Users/carlos/anaconda2/lib/python2.7/site-packages/unidecode/__init__.py:50: RuntimeWarning: Surrogate character u'\\ude15' will be ignored. You might be using a narrow Python build.\n",
      "  return _unidecode(string)\n",
      "/Users/carlos/anaconda2/lib/python2.7/site-packages/unidecode/__init__.py:50: RuntimeWarning: Surrogate character u'\\ude1e' will be ignored. You might be using a narrow Python build.\n",
      "  return _unidecode(string)\n",
      "/Users/carlos/anaconda2/lib/python2.7/site-packages/unidecode/__init__.py:50: RuntimeWarning: Surrogate character u'\\udf34' will be ignored. You might be using a narrow Python build.\n",
      "  return _unidecode(string)\n",
      "/Users/carlos/anaconda2/lib/python2.7/site-packages/unidecode/__init__.py:50: RuntimeWarning: Surrogate character u'\\udf78' will be ignored. You might be using a narrow Python build.\n",
      "  return _unidecode(string)\n",
      "/Users/carlos/anaconda2/lib/python2.7/site-packages/unidecode/__init__.py:50: RuntimeWarning: Surrogate character u'\\udfb2' will be ignored. You might be using a narrow Python build.\n",
      "  return _unidecode(string)\n",
      "/Users/carlos/anaconda2/lib/python2.7/site-packages/unidecode/__init__.py:50: RuntimeWarning: Surrogate character u'\\udc7a' will be ignored. You might be using a narrow Python build.\n",
      "  return _unidecode(string)\n",
      "/Users/carlos/anaconda2/lib/python2.7/site-packages/unidecode/__init__.py:50: RuntimeWarning: Surrogate character u'\\ude03' will be ignored. You might be using a narrow Python build.\n",
      "  return _unidecode(string)\n",
      "/Users/carlos/anaconda2/lib/python2.7/site-packages/unidecode/__init__.py:50: RuntimeWarning: Surrogate character u'\\ude0e' will be ignored. You might be using a narrow Python build.\n",
      "  return _unidecode(string)\n",
      "/Users/carlos/anaconda2/lib/python2.7/site-packages/unidecode/__init__.py:50: RuntimeWarning: Surrogate character u'\\udc4b' will be ignored. You might be using a narrow Python build.\n",
      "  return _unidecode(string)\n",
      "/Users/carlos/anaconda2/lib/python2.7/site-packages/unidecode/__init__.py:50: RuntimeWarning: Surrogate character u'\\ude45' will be ignored. You might be using a narrow Python build.\n",
      "  return _unidecode(string)\n",
      "/Users/carlos/anaconda2/lib/python2.7/site-packages/unidecode/__init__.py:50: RuntimeWarning: Surrogate character u'\\ude09' will be ignored. You might be using a narrow Python build.\n",
      "  return _unidecode(string)\n",
      "/Users/carlos/anaconda2/lib/python2.7/site-packages/unidecode/__init__.py:50: RuntimeWarning: Surrogate character u'\\ude4f' will be ignored. You might be using a narrow Python build.\n",
      "  return _unidecode(string)\n"
     ]
    },
    {
     "name": "stderr",
     "output_type": "stream",
     "text": [
      "/Users/carlos/anaconda2/lib/python2.7/site-packages/unidecode/__init__.py:50: RuntimeWarning: Surrogate character u'\\udc95' will be ignored. You might be using a narrow Python build.\n",
      "  return _unidecode(string)\n",
      "/Users/carlos/anaconda2/lib/python2.7/site-packages/unidecode/__init__.py:50: RuntimeWarning: Surrogate character u'\\udcba' will be ignored. You might be using a narrow Python build.\n",
      "  return _unidecode(string)\n",
      "/Users/carlos/anaconda2/lib/python2.7/site-packages/unidecode/__init__.py:50: RuntimeWarning: Surrogate character u'\\ude05' will be ignored. You might be using a narrow Python build.\n",
      "  return _unidecode(string)\n",
      "/Users/carlos/anaconda2/lib/python2.7/site-packages/unidecode/__init__.py:50: RuntimeWarning: Surrogate character u'\\ude08' will be ignored. You might be using a narrow Python build.\n",
      "  return _unidecode(string)\n",
      "/Users/carlos/anaconda2/lib/python2.7/site-packages/unidecode/__init__.py:50: RuntimeWarning: Surrogate character u'\\ude49' will be ignored. You might be using a narrow Python build.\n",
      "  return _unidecode(string)\n",
      "/Users/carlos/anaconda2/lib/python2.7/site-packages/unidecode/__init__.py:50: RuntimeWarning: Surrogate character u'\\udc9d' will be ignored. You might be using a narrow Python build.\n",
      "  return _unidecode(string)\n",
      "/Users/carlos/anaconda2/lib/python2.7/site-packages/unidecode/__init__.py:50: RuntimeWarning: Surrogate character u'\\udc4c' will be ignored. You might be using a narrow Python build.\n",
      "  return _unidecode(string)\n",
      "/Users/carlos/anaconda2/lib/python2.7/site-packages/unidecode/__init__.py:50: RuntimeWarning: Surrogate character u'\\udc98' will be ignored. You might be using a narrow Python build.\n",
      "  return _unidecode(string)\n",
      "/Users/carlos/anaconda2/lib/python2.7/site-packages/unidecode/__init__.py:50: RuntimeWarning: Surrogate character u'\\udc40' will be ignored. You might be using a narrow Python build.\n",
      "  return _unidecode(string)\n",
      "/Users/carlos/anaconda2/lib/python2.7/site-packages/unidecode/__init__.py:50: RuntimeWarning: Surrogate character u'\\ude1c' will be ignored. You might be using a narrow Python build.\n",
      "  return _unidecode(string)\n",
      "/Users/carlos/anaconda2/lib/python2.7/site-packages/unidecode/__init__.py:50: RuntimeWarning: Surrogate character u'\\udc99' will be ignored. You might be using a narrow Python build.\n",
      "  return _unidecode(string)\n",
      "/Users/carlos/anaconda2/lib/python2.7/site-packages/unidecode/__init__.py:50: RuntimeWarning: Surrogate character u'\\udc4e' will be ignored. You might be using a narrow Python build.\n",
      "  return _unidecode(string)\n",
      "/Users/carlos/anaconda2/lib/python2.7/site-packages/unidecode/__init__.py:50: RuntimeWarning: Surrogate character u'\\udf77' will be ignored. You might be using a narrow Python build.\n",
      "  return _unidecode(string)\n",
      "/Users/carlos/anaconda2/lib/python2.7/site-packages/unidecode/__init__.py:50: RuntimeWarning: Surrogate character u'\\udc94' will be ignored. You might be using a narrow Python build.\n",
      "  return _unidecode(string)\n",
      "/Users/carlos/anaconda2/lib/python2.7/site-packages/unidecode/__init__.py:50: RuntimeWarning: Surrogate character u'\\ude2c' will be ignored. You might be using a narrow Python build.\n",
      "  return _unidecode(string)\n",
      "/Users/carlos/anaconda2/lib/python2.7/site-packages/unidecode/__init__.py:50: RuntimeWarning: Surrogate character u'\\udca9' will be ignored. You might be using a narrow Python build.\n",
      "  return _unidecode(string)\n",
      "/Users/carlos/anaconda2/lib/python2.7/site-packages/unidecode/__init__.py:50: RuntimeWarning: Surrogate character u'\\udeb6' will be ignored. You might be using a narrow Python build.\n",
      "  return _unidecode(string)\n",
      "/Users/carlos/anaconda2/lib/python2.7/site-packages/unidecode/__init__.py:50: RuntimeWarning: Surrogate character u'\\udc33' will be ignored. You might be using a narrow Python build.\n",
      "  return _unidecode(string)\n",
      "/Users/carlos/anaconda2/lib/python2.7/site-packages/unidecode/__init__.py:50: RuntimeWarning: Surrogate character u'\\udc96' will be ignored. You might be using a narrow Python build.\n",
      "  return _unidecode(string)\n",
      "/Users/carlos/anaconda2/lib/python2.7/site-packages/unidecode/__init__.py:50: RuntimeWarning: Surrogate character u'\\ude18' will be ignored. You might be using a narrow Python build.\n",
      "  return _unidecode(string)\n",
      "/Users/carlos/anaconda2/lib/python2.7/site-packages/unidecode/__init__.py:50: RuntimeWarning: Surrogate character u'\\udcaf' will be ignored. You might be using a narrow Python build.\n",
      "  return _unidecode(string)\n",
      "/Users/carlos/anaconda2/lib/python2.7/site-packages/unidecode/__init__.py:50: RuntimeWarning: Surrogate character u'\\udf1e' will be ignored. You might be using a narrow Python build.\n",
      "  return _unidecode(string)\n",
      "/Users/carlos/anaconda2/lib/python2.7/site-packages/unidecode/__init__.py:50: RuntimeWarning: Surrogate character u'\\udc49' will be ignored. You might be using a narrow Python build.\n",
      "  return _unidecode(string)\n",
      "/Users/carlos/anaconda2/lib/python2.7/site-packages/unidecode/__init__.py:50: RuntimeWarning: Surrogate character u'\\udeaa' will be ignored. You might be using a narrow Python build.\n",
      "  return _unidecode(string)\n",
      "/Users/carlos/anaconda2/lib/python2.7/site-packages/unidecode/__init__.py:50: RuntimeWarning: Surrogate character u'\\udc7f' will be ignored. You might be using a narrow Python build.\n",
      "  return _unidecode(string)\n",
      "/Users/carlos/anaconda2/lib/python2.7/site-packages/unidecode/__init__.py:50: RuntimeWarning: Surrogate character u'\\ude00' will be ignored. You might be using a narrow Python build.\n",
      "  return _unidecode(string)\n",
      "/Users/carlos/anaconda2/lib/python2.7/site-packages/unidecode/__init__.py:50: RuntimeWarning: Surrogate character u'\\ude33' will be ignored. You might be using a narrow Python build.\n",
      "  return _unidecode(string)\n",
      "/Users/carlos/anaconda2/lib/python2.7/site-packages/unidecode/__init__.py:50: RuntimeWarning: Surrogate character u'\\ude4c' will be ignored. You might be using a narrow Python build.\n",
      "  return _unidecode(string)\n",
      "/Users/carlos/anaconda2/lib/python2.7/site-packages/unidecode/__init__.py:50: RuntimeWarning: Surrogate character u'\\udca4' will be ignored. You might be using a narrow Python build.\n",
      "  return _unidecode(string)\n",
      "/Users/carlos/anaconda2/lib/python2.7/site-packages/unidecode/__init__.py:50: RuntimeWarning: Surrogate character u'\\ude0b' will be ignored. You might be using a narrow Python build.\n",
      "  return _unidecode(string)\n",
      "/Users/carlos/anaconda2/lib/python2.7/site-packages/unidecode/__init__.py:50: RuntimeWarning: Surrogate character u'\\ude14' will be ignored. You might be using a narrow Python build.\n",
      "  return _unidecode(string)\n",
      "/Users/carlos/anaconda2/lib/python2.7/site-packages/unidecode/__init__.py:50: RuntimeWarning: Surrogate character u'\\udc9c' will be ignored. You might be using a narrow Python build.\n",
      "  return _unidecode(string)\n",
      "/Users/carlos/anaconda2/lib/python2.7/site-packages/unidecode/__init__.py:50: RuntimeWarning: Surrogate character u'\\ude13' will be ignored. You might be using a narrow Python build.\n",
      "  return _unidecode(string)\n",
      "/Users/carlos/anaconda2/lib/python2.7/site-packages/unidecode/__init__.py:50: RuntimeWarning: Surrogate character u'\\ude24' will be ignored. You might be using a narrow Python build.\n",
      "  return _unidecode(string)\n",
      "/Users/carlos/anaconda2/lib/python2.7/site-packages/unidecode/__init__.py:50: RuntimeWarning: Surrogate character u'\\ude16' will be ignored. You might be using a narrow Python build.\n",
      "  return _unidecode(string)\n",
      "/Users/carlos/anaconda2/lib/python2.7/site-packages/unidecode/__init__.py:50: RuntimeWarning: Surrogate character u'\\ude32' will be ignored. You might be using a narrow Python build.\n",
      "  return _unidecode(string)\n",
      "/Users/carlos/anaconda2/lib/python2.7/site-packages/unidecode/__init__.py:50: RuntimeWarning: Surrogate character u'\\udc60' will be ignored. You might be using a narrow Python build.\n",
      "  return _unidecode(string)\n",
      "/Users/carlos/anaconda2/lib/python2.7/site-packages/unidecode/__init__.py:50: RuntimeWarning: Surrogate character u'\\ude25' will be ignored. You might be using a narrow Python build.\n",
      "  return _unidecode(string)\n",
      "/Users/carlos/anaconda2/lib/python2.7/site-packages/unidecode/__init__.py:50: RuntimeWarning: Surrogate character u'\\ude31' will be ignored. You might be using a narrow Python build.\n",
      "  return _unidecode(string)\n"
     ]
    },
    {
     "name": "stderr",
     "output_type": "stream",
     "text": [
      "/Users/carlos/anaconda2/lib/python2.7/site-packages/unidecode/__init__.py:50: RuntimeWarning: Surrogate character u'\\ude20' will be ignored. You might be using a narrow Python build.\n",
      "  return _unidecode(string)\n",
      "/Users/carlos/anaconda2/lib/python2.7/site-packages/unidecode/__init__.py:50: RuntimeWarning: Surrogate character u'\\udd96' will be ignored. You might be using a narrow Python build.\n",
      "  return _unidecode(string)\n",
      "/Users/carlos/anaconda2/lib/python2.7/site-packages/unidecode/__init__.py:50: RuntimeWarning: Surrogate character u'\\udf7b' will be ignored. You might be using a narrow Python build.\n",
      "  return _unidecode(string)\n",
      "/Users/carlos/anaconda2/lib/python2.7/site-packages/unidecode/__init__.py:50: RuntimeWarning: Surrogate character u'\\udc81' will be ignored. You might be using a narrow Python build.\n",
      "  return _unidecode(string)\n",
      "/Users/carlos/anaconda2/lib/python2.7/site-packages/unidecode/__init__.py:50: RuntimeWarning: Surrogate character u'\\udf1f' will be ignored. You might be using a narrow Python build.\n",
      "  return _unidecode(string)\n",
      "/Users/carlos/anaconda2/lib/python2.7/site-packages/unidecode/__init__.py:50: RuntimeWarning: Surrogate character u'\\udd98' will be ignored. You might be using a narrow Python build.\n",
      "  return _unidecode(string)\n",
      "/Users/carlos/anaconda2/lib/python2.7/site-packages/unidecode/__init__.py:50: RuntimeWarning: Surrogate character u'\\ude37' will be ignored. You might be using a narrow Python build.\n",
      "  return _unidecode(string)\n",
      "/Users/carlos/anaconda2/lib/python2.7/site-packages/unidecode/__init__.py:50: RuntimeWarning: Surrogate character u'\\ude35' will be ignored. You might be using a narrow Python build.\n",
      "  return _unidecode(string)\n"
     ]
    }
   ],
   "source": [
    "df['words_parsed'] = df.apply(lambda row: p.parseNLP(row.text, 'EN'), axis = 1)"
   ]
  },
  {
   "cell_type": "code",
   "execution_count": 12,
   "metadata": {},
   "outputs": [
    {
     "name": "stdout",
     "output_type": "stream",
     "text": [
      "('Words for the model are: ', [u'agent', u'airline', u'airport', u'answer', u'appreciate', u'arrive', u'attendant', u'bad', u'baggage', u'best', u'better', u'board', u'book', u'cancel', u'cancelled', u'care', u'change', u'check', u'come', u'connection', u'crew', u'customer', u'delay', u'delayed', u'email', u'experience', u'fleek', u'fleet', u'flightle', u'flightled', u'follow', u'gate', u'good', u'great', u'hang', u'happen', u'help', u'hold', u'home', u'hope', u'hotel', u'hour', u'info', u'issue', u'just', u'know', u'late', u'leave', u'left', u'long', u'look', u'lose', u'love', u'luggage', u'mile', u'minute', u'miss', u'nice', u'night', u'number', u'online', u'passenger', u'person', u'phone', u'plane', u'problem', u'really', u'rebook', u'refund', u'reservation', u'response', u'seat', u'send', u'service', u'staff', u'stick', u'sure', u'tell', u'thank', u'ticket', u'time', u'today', u'tomorrow', u'tonight', u'try', u'united', u'update', u'wait', u'want', u'weather', u'week', u'work', u'worst'])\n",
      "       airline_sentiment_confidence  retweet_count\n",
      "count                   8784.000000    8784.000000\n",
      "mean                       0.899320       0.076617\n",
      "std                        0.162976       0.699493\n",
      "min                        0.335000       0.000000\n",
      "25%                        0.691900       0.000000\n",
      "50%                        1.000000       0.000000\n",
      "75%                        1.000000       0.000000\n",
      "max                        1.000000      44.000000\n",
      "       airline_sentiment_confidence  retweet_count\n",
      "count                   6250.000000    6250.000000\n",
      "mean                       0.999843       0.085280\n",
      "std                        0.004717       0.767347\n",
      "min                        0.772300       0.000000\n",
      "25%                        1.000000       0.000000\n",
      "50%                        1.000000       0.000000\n",
      "75%                        1.000000       0.000000\n",
      "max                        1.000000      44.000000\n"
     ]
    }
   ],
   "source": [
    "dataset_wp = obtain_data_representation2(df, show_modelwords=True)\n",
    "print (df.describe())\n",
    "print (dfaux.describe())"
   ]
  },
  {
   "cell_type": "markdown",
   "metadata": {},
   "source": [
    "## Machine Learning Model: Training and Predicting data"
   ]
  },
  {
   "cell_type": "markdown",
   "metadata": {},
   "source": [
    "The **input (training) data** has been already pre-process, by keeping only the columns that are interesting for us. The **TF-IDF** algorithm has been used in order to transform the *text of the tweet* text column into a vector of numeric features. These columns have been combined in order to generate a **sparse matrix**, containing as many rows as the number of records (tweets) provided, and a maximum of 150 columns (numerical features created by TF-IDF transformation. This is set in the obtain_data_representation() function, when the algorithm is initialized).\n",
    "\n",
    "This data is being stored under a dictionary. We actually have 3 dictionarys:\n",
    "1. **main_dataset**: Contains the pre-process data without removing any records (outliers in the data, based on the airline sentiment confidence)\n",
    "2. **aux_dataset**: Contains the  pre-process data removing outliers when looking at the airline sentiment confident. It could take us to overfitting our model, that's why the other dictionary is being kept as well.\n",
    "3. **dataset_wp**: Instead of parsing the full text field, we will use a predefined function in order to standarized the words used in the tweets and will use this standarized words as the new text field."
   ]
  },
  {
   "cell_type": "code",
   "execution_count": 20,
   "metadata": {},
   "outputs": [
    {
     "name": "stdout",
     "output_type": "stream",
     "text": [
      "Full pre-processed training data results size is: \n",
      "(6588, 103) \n",
      "\n",
      "---------------------------------------- \n",
      "\n",
      "Partial pre-processed training data results size is: \n",
      "(4687, 108) \n",
      "\n",
      "---------------------------------------- \n",
      "\n",
      "Words parsed preprocessing training data size is: \n",
      "(6588, 93) \n",
      "\n",
      "---------------------------------------- \n",
      "\n",
      "---------------------------------------- \n",
      "\n",
      "Full pre-processed testing data results size is: \n",
      "(2196, 103) \n",
      "\n",
      "---------------------------------------- \n",
      "\n",
      "Partial pre-processed testing data results size is: \n",
      "(1563, 108) \n",
      "\n",
      "---------------------------------------- \n",
      "\n",
      "Words parsed preprocessing testing data size is: \n",
      "(2196, 93) \n",
      "\n"
     ]
    }
   ],
   "source": [
    "print 'Full pre-processed training data results size is: \\n', main_dataset['train']['x'].shape, '\\n'\n",
    "print '---------------------------------------- \\n'\n",
    "print 'Partial pre-processed training data results size is: \\n', aux_dataset['train']['x'].shape, '\\n'\n",
    "print '---------------------------------------- \\n'\n",
    "print 'Words parsed preprocessing training data size is: \\n' , dataset_wp['train']['x'].shape, '\\n'\n",
    "\n",
    "print '---------------------------------------- \\n'\n",
    "print '---------------------------------------- \\n'\n",
    "\n",
    "print 'Full pre-processed testing data results size is: \\n', main_dataset['test']['x'].shape, '\\n'\n",
    "print '---------------------------------------- \\n'\n",
    "print 'Partial pre-processed testing data results size is: \\n', aux_dataset['test']['x'].shape, '\\n'\n",
    "print '---------------------------------------- \\n'\n",
    "print 'Words parsed preprocessing testing data size is: \\n' , dataset_wp['test']['x'].shape, '\\n'"
   ]
  },
  {
   "cell_type": "markdown",
   "metadata": {},
   "source": [
    "##### Machine Learning. We'll try a Bernouilli and a Linear Regression Model"
   ]
  },
  {
   "cell_type": "markdown",
   "metadata": {},
   "source": [
    "First, let's try a standard **Bernouilli NB** model:"
   ]
  },
  {
   "cell_type": "code",
   "execution_count": 21,
   "metadata": {},
   "outputs": [
    {
     "name": "stdout",
     "output_type": "stream",
     "text": [
      "The score achieved by the model trained with the full training data is: 0.714481\n",
      "---------------------------------------------- \n",
      "\n",
      "The score achieved by the model trained with the filtered training data is: 0.792067 \n",
      "\n",
      "---------------------------------------------- \n",
      "\n",
      "The score achieved by the model trained using the parsed text from the tweet is: 0.692623 \n",
      "\n"
     ]
    }
   ],
   "source": [
    "from sklearn.naive_bayes import BernoulliNB\n",
    "\n",
    "clf = BernoulliNB()\n",
    "clf.fit(main_dataset['train']['x'], main_dataset['train']['y'])\n",
    "clf2 = BernoulliNB()\n",
    "clf2.fit(aux_dataset['train']['x'], aux_dataset['train']['y'])\n",
    "clf_parsed = BernoulliNB()\n",
    "clf_parsed.fit(dataset_wp['train']['x'], dataset_wp['train']['y'])\n",
    "\n",
    "pred1 = clf.predict(main_dataset['test']['x'])\n",
    "pred2 = clf2.predict(aux_dataset['test']['x'])\n",
    "pred_parse = clf_parsed.predict(dataset_wp['test']['x'])\n",
    "print 'The score achieved by the model trained with the full training data is: %2.6f' % (accuracy_score(main_dataset['test']['y'], pred1))\n",
    "print '---------------------------------------------- \\n'\n",
    "print 'The score achieved by the model trained with the filtered training data is: %2.6f' % (accuracy_score(aux_dataset['test']['y'], pred2)), '\\n'\n",
    "print '---------------------------------------------- \\n'\n",
    "print 'The score achieved by the model trained using the parsed text from the tweet is: %2.6f' % (accuracy_score(dataset_wp['test']['y'], pred_parse)), '\\n'\n"
   ]
  },
  {
   "cell_type": "code",
   "execution_count": 22,
   "metadata": {},
   "outputs": [
    {
     "name": "stdout",
     "output_type": "stream",
     "text": [
      "Confusion Matrix for the first Model \n",
      "\n",
      "[[1206  250  100]\n",
      " [ 136  172   63]\n",
      " [  43   35  191]]\n"
     ]
    },
    {
     "data": {
      "image/png": "[encoded data removed]",
      "text/plain": [
       "<matplotlib.figure.Figure at 0x1a0feae7d0>"
      ]
     },
     "metadata": {},
     "output_type": "display_data"
    },
    {
     "name": "stdout",
     "output_type": "stream",
     "text": [
      "Confusion Matrix for the second model, without outliers \n",
      "\n",
      "[[1000  134   49]\n",
      " [  70  105   27]\n",
      " [  33   12  133]]\n"
     ]
    },
    {
     "data": {
      "image/png": "[encoded data removed]",
      "text/plain": [
       "<matplotlib.figure.Figure at 0x1a186b3350>"
      ]
     },
     "metadata": {},
     "output_type": "display_data"
    }
   ],
   "source": [
    "print 'Confusion Matrix for the first Model \\n'\n",
    "cnf_matrix1 = confusion_matrix(pred1, main_dataset['test']['y'])\n",
    "np.set_printoptions(precision=2)\n",
    "\n",
    "# Plot non-normalized confusion matrix\n",
    "plt.figure()\n",
    "plot_confusion_matrix(cnf_matrix1, classes=['Negative','Positive','Neutral'],\n",
    "                      title='Confusion matrix, without normalization')\n",
    "plt.show()\n",
    "\n",
    "print 'Confusion Matrix for the second model, without outliers \\n'\n",
    "\n",
    "cnf_matrix2 = confusion_matrix(pred2, aux_dataset['test']['y'])\n",
    "plt.figure()\n",
    "plot_confusion_matrix(cnf_matrix2, classes=['Negative','Positive','Neutral'],\n",
    "                      title='Confusion matrix, without normalization')\n",
    "plt.show()\n"
   ]
  },
  {
   "cell_type": "code",
   "execution_count": 23,
   "metadata": {},
   "outputs": [
    {
     "name": "stdout",
     "output_type": "stream",
     "text": [
      "Confusion Matrix for the third model, parsing the text of the tweet: \n",
      "\n",
      "[[1099  180   82]\n",
      " [ 252  238   74]\n",
      " [  50   37  184]]\n"
     ]
    },
    {
     "data": {
      "image/png": "[encoded data removed]",
      "text/plain": [
       "<matplotlib.figure.Figure at 0x1a18627590>"
      ]
     },
     "metadata": {},
     "output_type": "display_data"
    }
   ],
   "source": [
    "print 'Confusion Matrix for the third model, parsing the text of the tweet: \\n'\n",
    "\n",
    "cnf_matrix_wp = confusion_matrix(pred_parse, dataset_wp['test']['y'])\n",
    "plt.figure()\n",
    "plot_confusion_matrix(cnf_matrix_wp, classes=['Negative','Positive','Neutral'],\n",
    "                      title='Confusion matrix, without normalization')\n",
    "plt.show()\n"
   ]
  },
  {
   "cell_type": "markdown",
   "metadata": {},
   "source": [
    "## Sentiment Analyisis"
   ]
  },
  {
   "cell_type": "markdown",
   "metadata": {},
   "source": [
    "Let's try now a bit of **sentiment analysis**. We can get a lot of useful information about the sentiment of a tweet by analyzing the emojis that can be found in them. Let's try to create a model with the ability to capture emojis. We will define 2 functions in order to prepocess data:\n",
    "1. **Function1 - Capture Emojis**: A function to capture the emojis in the text, that will remove from the text everthing that isn't an emoji.\n",
    "2. **Function2 - Capture userwriten emojis**. We will try to capture with these function emojis like: \":)\", \":(\"..."
   ]
  },
  {
   "cell_type": "code",
   "execution_count": 24,
   "metadata": {
    "collapsed": true
   },
   "outputs": [],
   "source": [
    "em = re.compile(r'(\\xf0\\S*)')\n",
    "rep = re.compile(\"[\\uD800-\\uDFFF]\", re.UNICODE)\n",
    "def prep_func(s):\n",
    "    aux = []\n",
    "    emojis = em.findall(s)\n",
    "    for elem in emojis:\n",
    "        elem = rep.sub('', elem)\n",
    "        while len(elem) > 4:\n",
    "            aux.append(elem[0:4])\n",
    "            elem = elem[4:]\n",
    "        aux.append(elem)\n",
    "    return ','.join(aux)\n",
    "df['emojis'] = df.apply(lambda x: prep_func(x.text), axis = 1)"
   ]
  },
  {
   "cell_type": "code",
   "execution_count": 25,
   "metadata": {},
   "outputs": [
    {
     "name": "stdout",
     "output_type": "stream",
     "text": [
      "('Words for the model are: ', [u'agent', u'airline', u'airlines', u'airport', u'americanair', u'bad', u'bag', u'baggage', u'bags', u'best', u'better', u'book', u'booked', u'cancelled', u'care', u'change', u'check', u'connection', u'crew', u'customer', u'customers', u'day', u'days', u'delay', u'delayed', u'delays', u'didn', u'doesn', u'don', u'email', u'experience', u'flightled', u'flying', u'follow', u'gate', u'going', u'good', u'great', u'guys', u'help', u'hold', u'home', u'hope', u'hotel', u'hour', u'hours', u'hrs', u'info', u'issue', u'jetblue', u'just', u'know', u'late', u'left', u'like', u'long', u'lost', u'love', u'luggage', u'miles', u'min', u'minutes', u'miss', u'nice', u'night', u'number', u'online', u'passengers', u'people', u'phone', u'plane', u'problems', u'really', u'reservation', u'response', u'seat', u'seats', u'service', u'sitting', u'southwestair', u'staff', u'stuck', u'sure', u'thank', u'thanks', u'ticket', u'time', u'times', u'today', u'told', u'tomorrow', u'tonight', u'trying', u'united', u'usairways', u'use', u'virginamerica', u'wait', u'waiting', u'want', u'weather', u'website', u'work', u'worst'])\n",
      "('Emojis foung are: ', {'': 0, '\\xe2\\x9c\\x8c\\xef': 20, '\\xf0\\x9f\\x8c\\xb4': 32, '\\xa4\\xb4': 13, '\\xe2\\x9c\\x88': 18, '\\xf0\\x9f\\x8c\\x8f': 29, '\\x98\\x89)': 10, '\\xb8\\x8f\\xe2\\x9c': 15, '\\xf0\\x9f\\x8c\\x9f': 31, '\\xf0\\x9f\\x8c\\x9e': 30, '\\xf0\\x9f\\x87\\xba': 28, '...': 4, '\\xf0\\x9f\\x87\\xb8': 27, '\\xf0\\x9f\\x87\\xac': 26, '\\xf0\\x9f\\x94\\xb5': 60, '\\xf0\\x9f\\x87\\xa7': 25, '\\xe2\\xa4\\xb4\\xe2': 22, '\\x8e\\xb2': 8, '#': 2, '\\xb8\\x8f': 14, '\\xf0\\x9f\\x92\\xba': 59, '\\xf0\\x9f\\x9a\\xaa': 100, '\\xf0\\x9f\\x92\\xa9': 57, '\\xf0\\x9f\\x8d\\xb7': 33, '\\xe2\\x9d\\xa4\\xef': 21, '\\xf0\\x9f\\x92\\xaf': 58, '\\xf0\\x9f\\x92\\xa4': 56, '\\xf0\\x9f\\x92\\x99': 53, '\\xf0\\x9f\\x92\\x98': 52, '\\xf0\\x9f\\x92\\x9d': 55, '\\xf0\\x9f\\x92\\x9c': 54, '\\xf0\\x9f\\x92\\x95': 49, '\\xf0\\x9f\\x92\\x94': 48, '\\xf0\\x9f\\x92\\x97': 51, '\\xf0\\x9f\\x92\\x96': 50, '\\xf0\\x9f\\x92\\x81': 47, '\\x8c\\xef\\xb8\\x8f': 6, '\\x99\\x8f': 11, '\\xf0\\x9f\\x91\\xba': 45, '\\xf0\\x9f\\x91\\xbf': 46, '\\xf0\\x9f\\x99\\x8c': 98, '\\xf0\\x9f\\x99\\x8f': 99, '\\xe2\\x9c\\x88\\xef': 19, '\\xf0\\x9f\\x99\\x85': 97, '.': 3, '\\xf0\\x9f\\x91\\x80': 37, '\\xf0\\x9f\\x91\\x89': 38, '\\xf0\\x9f\\x91\\x8a': 39, '\\xf0\\x9f\\x91\\x8b': 40, '\\xf0\\x9f\\x91\\x8c': 41, '\\xf0\\x9f\\x91\\x8d': 42, '\\xf0\\x9f\\x91\\x8e': 43, '\\xf0\\x9f\\x91\\x8f': 44, '\\xf0\\x9f\\x90\\xb3': 36, '\\xf0\\x9f\\x98\\x98': 81, '\\xf0\\x9f\\x98\\x9e': 83, '\\xf0\\x9f\\x98\\x9c': 82, '\\xf0\\x9f\\x98\\x93': 77, '\\xf0\\x9f\\x98\\x92': 76, '\\xf0\\x9f\\x98\\x91': 75, '\\xf0\\x9f\\x98\\x90': 74, '\\xf0\\x9f\\x98\\x96': 80, '\\xf0\\x9f\\x98\\x95': 79, '\\xf0\\x9f\\x98\\x94': 78, '\\xf0\\x9f\\x98\\x8b': 71, '\\xf0\\x9f\\x98\\x8a': 70, '\\xf0\\x9f\\x98\\x89': 69, '\\xf0\\x9f\\x98\\x88': 68, '\\xf0\\x9f\\x98\\x8e': 73, '\\xf0\\x9f\\x98\\x8d': 72, '\\xf0\\x9f\\x98\\x83': 64, '\\xf0\\x9f\\x98\\x82': 63, '\\xf0\\x9f\\x98\\x81': 62, '\\xf0\\x9f\\x98\\x80': 61, '\\xf0\\x9f\\x98\\x86': 67, '\\xf0\\x9f\\x98\\x85': 66, '\\xf0\\x9f\\x98\\x84': 65, '\\xf0\\x9f\\x98\\xb3': 94, '\\xf0\\x9f\\x98\\xb2': 93, '\\xf0\\x9f\\x98\\xb1': 92, '\\xf0\\x9f\\x98\\xb7': 96, '\\xf0\\x9f\\x98\\xb5': 95, '\\x99\\x8f\\xf0\\x9f': 12, '\\xf0\\x9f\\x98\\xa9': 89, '\\xf0\\x9f\\x98\\xad': 91, '\\xf0\\x9f\\x98\\xac': 90, '\\xf0\\x9f\\x98\\xa2': 86, '\\xf0\\x9f\\x98\\xa1': 85, '\\xf0\\x9f\\x98\\xa0': 84, '\\xf0\\x9f\\x98\\xa5': 88, '\\xf0\\x9f\\x98\\xa4': 87, '\\x92\\xba': 9, '\\xb8\\x8f\\xf0\\x9f': 16, '\\x88\\xef\\xb8\\x8f': 5, '!': 1, '\\xf0\\x9f\\x8e\\x89': 35, '\\xf0\\x9f\\x8e\\x80': 34, '\\xf0\\x9f\\x86\\x96': 23, '\\x8d\\xb8\\xf0\\x9f': 7, '\\xf0\\x9f\\x86\\x98': 24, '\\xe2\\x80\\x9c': 17})\n"
     ]
    }
   ],
   "source": [
    "dataset_em = obtain_data_representation_emojis(df, show_modelwords=True)"
   ]
  },
  {
   "cell_type": "code",
   "execution_count": 28,
   "metadata": {},
   "outputs": [
    {
     "name": "stdout",
     "output_type": "stream",
     "text": [
      "The score achieved by the model trained with the full training data including emojis is: 0.675774\n",
      "Confusion Matrix for the fourth model, including emojis in the text of the tweet: \n",
      "\n",
      "[[983 114  51]\n",
      " [286 284  72]\n",
      " [129  60 217]]\n"
     ]
    },
    {
     "data": {
      "image/png": "[encoded data removed]",
      "text/plain": [
       "<matplotlib.figure.Figure at 0x1a0fe2fe90>"
      ]
     },
     "metadata": {},
     "output_type": "display_data"
    }
   ],
   "source": [
    "clf_em = BernoulliNB()\n",
    "clf_em.fit(dataset_em['train']['x'], dataset_em['train']['y'])\n",
    "\n",
    "pred_em = clf_em.predict(dataset_em['test']['x'])\n",
    "print 'The score achieved by the model trained with the full training data including emojis is: %2.6f' % (accuracy_score(dataset_em['test']['y'], pred_em))\n",
    "\n",
    "print 'Confusion Matrix for the fourth model, including emojis in the text of the tweet: \\n'\n",
    "\n",
    "cnf_matrix_em = confusion_matrix(pred_em, dataset_em['test']['y'])\n",
    "plt.figure()\n",
    "plot_confusion_matrix(cnf_matrix_em, classes=['Negative','Positive','Neutral'],\n",
    "                      title='Confusion matrix, without normalization')\n",
    "plt.show()\n"
   ]
  },
  {
   "cell_type": "code",
   "execution_count": 29,
   "metadata": {},
   "outputs": [],
   "source": [
    "# Para el DictVectorizer\n",
    "#[Counter(s.split()) for s in samples]"
   ]
  },
  {
   "cell_type": "markdown",
   "metadata": {},
   "source": [
    "## Adding numerical features to predict with other classifiers."
   ]
  },
  {
   "cell_type": "markdown",
   "metadata": {},
   "source": [
    "Now, we'll create two separate models to see if our predictions are improved in some way. The first model will predict values based on the text of the tweet and the second one, on the airline, the retweet count and the date. But as we cannot feed the pure dates into our ML model, we'll do some feature engineering first:\n",
    "- Create some useful such us day_of_week, day_of_month, day_of_year\n",
    "- We have seen that something weird happenned on the 23rd of February of 2015 there was a great amount of people that tweeted with a negative sentiment, so we'll create a bool variable that will indicate wether the tweet has been issued on this day.\n",
    "\n",
    "Al the things mentioned above will be done in the function: **dealwith_dates**"
   ]
  },
  {
   "cell_type": "code",
   "execution_count": 30,
   "metadata": {
    "collapsed": true
   },
   "outputs": [],
   "source": [
    "# df = dealwith_dates(df)\n",
    "# dfaux = dealwith_dates(dfaux)\n",
    "# main_df = obtain_data_representation2(df)\n",
    "# aux_df = obtain_data_representation2(dfaux)"
   ]
  },
  {
   "cell_type": "markdown",
   "metadata": {},
   "source": [
    "Now, let's try the linear **regression model**:"
   ]
  },
  {
   "cell_type": "code",
   "execution_count": 31,
   "metadata": {},
   "outputs": [
    {
     "data": {
      "text/plain": [
       "\"from sklearn.ensemble import RandomForestClassifier\\nfrom sklearn.preprocessing import MinMaxScaler\\nscaler1 = MinMaxScaler()\\nscaler2 = MinMaxScaler()\\nmain_df['num']['train']['x'] = scaler1.fit_transform(main_df['num']['train']['x'])\\nmain_df['num']['test']['x'] = scaler1.transform(main_df['num']['test']['x'])\\n\\naux_df['num']['train']['x'] = scaler2.fit_transform(aux_df['num']['train']['x'])\\naux_df['num']['test']['x'] = scaler2.transform(aux_df['num']['test']['x'])\\n\\nclf_num1 = RandomForestClassifier()\\nclf_num1.fit(main_df['num']['train']['x'], main_df['num']['train']['y'])\\nclf_num2 = RandomForestClassifier()\\nclf_num2.fit(aux_df['num']['train']['x'], aux_df['num']['train']['y'])\\n\\npred_num1 = clf_num1.predict(main_df['num']['test']['x'])\\npred_num2 = clf_num2.predict(aux_df['num']['test']['x'])\\nprint 'The score achieved by the model trained with the full training data is: %2.6f' % (accuracy_score(main_df['num']['test']['y'], pred_num1))\\nprint '---------------------------------------------- \\n'\\nprint 'The score achieved by the model trained with the filtered training data is: %2.6f' % (accuracy_score(aux_df['num']['test']['y'], pred_num2)), '\\n'\\n\\n\\nprint 'Confusion Matrix for the first Model \\n'\\ncnf_matrix_num1 = confusion_matrix(pred_num1, main_df['num']['test']['y'])\\nnp.set_printoptions(precision=2)\\n\\n# Plot non-normalized confusion matrix\\nplt.figure()\\nplot_confusion_matrix(cnf_matrix_num1, classes=['Negative','Positive','Neutral'],\\n                      title='Confusion matrix, without normalization')\\nplt.show()\\n\\nprint 'Confusion Matrix for the second model, without outliers \\n'\\n\\ncnf_matrix_num2 = confusion_matrix(pred_num2, aux_df['num']['test']['y'])\\nplt.figure()\\nplot_confusion_matrix(cnf_matrix_num2, classes=['Negative','Positive','Neutral'],\\n                      title='Confusion matrix, without normalization')\\nplt.show()\""
      ]
     },
     "execution_count": 31,
     "metadata": {},
     "output_type": "execute_result"
    }
   ],
   "source": [
    "'''from sklearn.ensemble import RandomForestClassifier\n",
    "from sklearn.preprocessing import MinMaxScaler\n",
    "scaler1 = MinMaxScaler()\n",
    "scaler2 = MinMaxScaler()\n",
    "main_df['num']['train']['x'] = scaler1.fit_transform(main_df['num']['train']['x'])\n",
    "main_df['num']['test']['x'] = scaler1.transform(main_df['num']['test']['x'])\n",
    "\n",
    "aux_df['num']['train']['x'] = scaler2.fit_transform(aux_df['num']['train']['x'])\n",
    "aux_df['num']['test']['x'] = scaler2.transform(aux_df['num']['test']['x'])\n",
    "\n",
    "clf_num1 = RandomForestClassifier()\n",
    "clf_num1.fit(main_df['num']['train']['x'], main_df['num']['train']['y'])\n",
    "clf_num2 = RandomForestClassifier()\n",
    "clf_num2.fit(aux_df['num']['train']['x'], aux_df['num']['train']['y'])\n",
    "\n",
    "pred_num1 = clf_num1.predict(main_df['num']['test']['x'])\n",
    "pred_num2 = clf_num2.predict(aux_df['num']['test']['x'])\n",
    "print 'The score achieved by the model trained with the full training data is: %2.6f' % (accuracy_score(main_df['num']['test']['y'], pred_num1))\n",
    "print '---------------------------------------------- \\n'\n",
    "print 'The score achieved by the model trained with the filtered training data is: %2.6f' % (accuracy_score(aux_df['num']['test']['y'], pred_num2)), '\\n'\n",
    "\n",
    "\n",
    "print 'Confusion Matrix for the first Model \\n'\n",
    "cnf_matrix_num1 = confusion_matrix(pred_num1, main_df['num']['test']['y'])\n",
    "np.set_printoptions(precision=2)\n",
    "\n",
    "# Plot non-normalized confusion matrix\n",
    "plt.figure()\n",
    "plot_confusion_matrix(cnf_matrix_num1, classes=['Negative','Positive','Neutral'],\n",
    "                      title='Confusion matrix, without normalization')\n",
    "plt.show()\n",
    "\n",
    "print 'Confusion Matrix for the second model, without outliers \\n'\n",
    "\n",
    "cnf_matrix_num2 = confusion_matrix(pred_num2, aux_df['num']['test']['y'])\n",
    "plt.figure()\n",
    "plot_confusion_matrix(cnf_matrix_num2, classes=['Negative','Positive','Neutral'],\n",
    "                      title='Confusion matrix, without normalization')\n",
    "plt.show()'''\n"
   ]
  },
  {
   "cell_type": "code",
   "execution_count": 32,
   "metadata": {},
   "outputs": [],
   "source": [
    "# main_df['num']['train']['x']"
   ]
  },
  {
   "cell_type": "markdown",
   "metadata": {},
   "source": [
    "##### XGBOOST"
   ]
  },
  {
   "cell_type": "markdown",
   "metadata": {},
   "source": [
    "The xgboost model will be used in the first place to create a first prediction. Two models will be created that will use (in the first place) the same parameters, to see whether it is better to train the model with the corrected data, or with the full dataset"
   ]
  },
  {
   "cell_type": "code",
   "execution_count": 36,
   "metadata": {},
   "outputs": [
    {
     "ename": "ImportError",
     "evalue": "No module named xgboost",
     "output_type": "error",
     "traceback": [
      "\u001b[0;31m---------------------------------------------------------------------------\u001b[0m",
      "\u001b[0;31mImportError\u001b[0m                               Traceback (most recent call last)",
      "\u001b[0;32m<ipython-input-36-f80ee1419719>\u001b[0m in \u001b[0;36m<module>\u001b[0;34m()\u001b[0m\n\u001b[0;32m----> 1\u001b[0;31m \u001b[0;32mimport\u001b[0m \u001b[0mxgboost\u001b[0m \u001b[0;32mas\u001b[0m \u001b[0mxgb\u001b[0m\u001b[0;34m\u001b[0m\u001b[0m\n\u001b[0m\u001b[1;32m      2\u001b[0m xgb_params = {\n\u001b[1;32m      3\u001b[0m     \u001b[0;34m'max_depth'\u001b[0m\u001b[0;34m:\u001b[0m \u001b[0;36m5\u001b[0m\u001b[0;34m,\u001b[0m\u001b[0;34m\u001b[0m\u001b[0m\n\u001b[1;32m      4\u001b[0m     \u001b[0;34m'subsample'\u001b[0m\u001b[0;34m:\u001b[0m \u001b[0;36m0.7\u001b[0m\u001b[0;34m,\u001b[0m\u001b[0;34m\u001b[0m\u001b[0m\n\u001b[1;32m      5\u001b[0m     \u001b[0;34m'colsample_bytree'\u001b[0m\u001b[0;34m:\u001b[0m \u001b[0;36m0.7\u001b[0m\u001b[0;34m,\u001b[0m\u001b[0;34m\u001b[0m\u001b[0m\n",
      "\u001b[0;31mImportError\u001b[0m: No module named xgboost"
     ]
    }
   ],
   "source": [
    "import xgboost as xgb\n",
    "xgb_params = {\n",
    "    'max_depth': 5,\n",
    "    'subsample': 0.7,\n",
    "    'colsample_bytree': 0.7,\n",
    "    'objective': 'binary:logistic',\n",
    "    'silent': 1\n",
    "}"
   ]
  },
  {
   "cell_type": "code",
   "execution_count": 34,
   "metadata": {},
   "outputs": [
    {
     "ename": "NameError",
     "evalue": "name 'xgb' is not defined",
     "output_type": "error",
     "traceback": [
      "\u001b[0;31m---------------------------------------------------------------------------\u001b[0m",
      "\u001b[0;31mNameError\u001b[0m                                 Traceback (most recent call last)",
      "\u001b[0;32m<ipython-input-34-26a98ab64bce>\u001b[0m in \u001b[0;36m<module>\u001b[0;34m()\u001b[0m\n\u001b[0;32m----> 1\u001b[0;31m \u001b[0mgbm1\u001b[0m \u001b[0;34m=\u001b[0m \u001b[0mxgb\u001b[0m\u001b[0;34m.\u001b[0m\u001b[0mXGBClassifier\u001b[0m\u001b[0;34m(\u001b[0m\u001b[0;34m)\u001b[0m\u001b[0;34m\u001b[0m\u001b[0m\n\u001b[0m\u001b[1;32m      2\u001b[0m \u001b[0mgbm2\u001b[0m \u001b[0;34m=\u001b[0m \u001b[0mxgb\u001b[0m\u001b[0;34m.\u001b[0m\u001b[0mXGBClassifier\u001b[0m\u001b[0;34m(\u001b[0m\u001b[0;34m)\u001b[0m\u001b[0;34m\u001b[0m\u001b[0m\n\u001b[1;32m      3\u001b[0m \u001b[0;31m# gbm.fit(dataset['train']['x'], dataset['train']['y'],eval_set=[(dataset['train']['x'], dataset['train']['y']), (dataset['test']['x'], dataset['test']['y'])], eval_metric='logloss', verbose=True)\u001b[0m\u001b[0;34m\u001b[0m\u001b[0;34m\u001b[0m\u001b[0m\n\u001b[1;32m      4\u001b[0m \u001b[0;34m\u001b[0m\u001b[0m\n\u001b[1;32m      5\u001b[0m \u001b[0mgbm1\u001b[0m\u001b[0;34m.\u001b[0m\u001b[0mfit\u001b[0m\u001b[0;34m(\u001b[0m\u001b[0mmain_dataset\u001b[0m\u001b[0;34m[\u001b[0m\u001b[0;34m'train'\u001b[0m\u001b[0;34m]\u001b[0m\u001b[0;34m[\u001b[0m\u001b[0;34m'x'\u001b[0m\u001b[0;34m]\u001b[0m\u001b[0;34m,\u001b[0m \u001b[0mmain_dataset\u001b[0m\u001b[0;34m[\u001b[0m\u001b[0;34m'train'\u001b[0m\u001b[0;34m]\u001b[0m\u001b[0;34m[\u001b[0m\u001b[0;34m'y'\u001b[0m\u001b[0;34m]\u001b[0m\u001b[0;34m)\u001b[0m\u001b[0;34m\u001b[0m\u001b[0m\n",
      "\u001b[0;31mNameError\u001b[0m: name 'xgb' is not defined"
     ]
    }
   ],
   "source": [
    "gbm1 = xgb.XGBClassifier()\n",
    "gbm2 = xgb.XGBClassifier()\n",
    "# gbm.fit(dataset['train']['x'], dataset['train']['y'],eval_set=[(dataset['train']['x'], dataset['train']['y']), (dataset['test']['x'], dataset['test']['y'])], eval_metric='logloss', verbose=True)\n",
    "\n",
    "gbm1.fit(main_dataset['train']['x'], main_dataset['train']['y'])\n",
    "gbm2.fit(aux_dataset['train']['x'], aux_dataset['train']['y'])\n",
    "gbm3.fit(dataset_em['train']['x'], dataset_em['train']['y'])\n",
    "\n",
    "pred1 = gbm1.predict(main_dataset['test']['x'])\n",
    "pred2 = gbm2.predict(aux_dataset['test']['x'])\n",
    "pred3 = gbm3.predict(dataset_em['test']['x'])"
   ]
  },
  {
   "cell_type": "code",
   "execution_count": 27,
   "metadata": {},
   "outputs": [
    {
     "name": "stdout",
     "output_type": "stream",
     "text": [
      "The score achieved by the model trained with the full training data is: 0.739071 \n",
      "\n",
      "---------------------------------------------- \n",
      "\n",
      "The score achieved by the model trained with the filtered training data is: 0.808061 \n",
      "\n"
     ]
    }
   ],
   "source": [
    "print 'The score achieved by the model trained with the full training data is: %2.6f' % (accuracy_score(main_dataset['test']['y'], pred1)), '\\n'\n",
    "print '---------------------------------------------- \\n'\n",
    "print 'The score achieved by the model trained with the filtered training data is: %2.6f' % (accuracy_score(aux_dataset['test']['y'], pred2)), '\\n'\n"
   ]
  },
  {
   "cell_type": "markdown",
   "metadata": {},
   "source": [
    "### Tuning the parameters"
   ]
  },
  {
   "cell_type": "code",
   "execution_count": 8,
   "metadata": {},
   "outputs": [
    {
     "data": {
      "text/plain": [
       "\"from xgboost.sklearn import XGBClassifier\\nfrom sklearn.grid_search import GridSearchCV \\n\\nxgb_model = XGBClassifier(other_params)\\n\\ntest_params = {\\n 'max_depth':[4,8,12]\\n}\\n\\nmodel = GridSearchCV(estimator = xgb_model,param_grid = test_params)\\nmodel.fit(train,target)\\nprint model.best_params_\""
      ]
     },
     "execution_count": 8,
     "metadata": {},
     "output_type": "execute_result"
    }
   ],
   "source": [
    "'''from xgboost.sklearn import XGBClassifier\n",
    "from sklearn.grid_search import GridSearchCV \n",
    "\n",
    "xgb_model = XGBClassifier(other_params)\n",
    "\n",
    "test_params = {\n",
    " 'max_depth':[4,8,12]\n",
    "}\n",
    "\n",
    "model = GridSearchCV(estimator = xgb_model,param_grid = test_params)\n",
    "model.fit(train,target)\n",
    "print model.best_params_'''"
   ]
  },
  {
   "cell_type": "markdown",
   "metadata": {},
   "source": [
    "## Get output"
   ]
  },
  {
   "cell_type": "code",
   "execution_count": 22,
   "metadata": {},
   "outputs": [
    {
     "data": {
      "text/plain": [
       "'import datetime\\n\\ndef create_submit_file(df_submission, ypred):\\n    date = datetime.datetime.now().strftime(\"%m_%d_%Y\")\\n    filename = \\'submission_\\' + date + \\'.csv\\'\\n    \\n    df_submission[\\'airline_sentiment\\'] = ypred\\n    df_submission[[\\'airline_sentiment\\']].to_csv(filename)\\n    \\n    print(\\'Submission file created: {}\\'.format(filename))\\n    print(\\'Upload it to Kaggle InClass\\')\\n\\n    \\n# Read submission and retrain with whole data\\ndf_submission = pd.read_csv(\\'tweets_submission.csv\\', index_col=\\'tweet_id\\')\\n# We use df_submision as test, otherwise it would split df in train/test\\nsubmission_dataset = obtain_data_representation(df, df_submission)\\n\\nprint \\'The shape of the testing dataset is: (%i, %i)\\' % (df_submission.shape), \\'\\n\\'\\n\\nprint submission_dataset\\npredictions = clf.predict(submission_dataset[\\'test\\'][\\'x\\'])\\n# Create submission file with obtained y_pred\\ncreate_submit_file(df_submission, predictions)'"
      ]
     },
     "execution_count": 22,
     "metadata": {},
     "output_type": "execute_result"
    }
   ],
   "source": [
    "'''import datetime\n",
    "\n",
    "def create_submit_file(df_submission, ypred):\n",
    "    date = datetime.datetime.now().strftime(\"%m_%d_%Y\")\n",
    "    filename = 'submission_' + date + '.csv'\n",
    "    \n",
    "    df_submission['airline_sentiment'] = ypred\n",
    "    df_submission[['airline_sentiment']].to_csv(filename)\n",
    "    \n",
    "    print('Submission file created: {}'.format(filename))\n",
    "    print('Upload it to Kaggle InClass')\n",
    "\n",
    "    \n",
    "# Read submission and retrain with whole data\n",
    "df_submission = pd.read_csv('tweets_submission.csv', index_col='tweet_id')\n",
    "# We use df_submision as test, otherwise it would split df in train/test\n",
    "submission_dataset = obtain_data_representation(df, df_submission)\n",
    "\n",
    "print 'The shape of the testing dataset is: (%i, %i)' % (df_submission.shape), '\\n'\n",
    "\n",
    "print submission_dataset\n",
    "predictions = clf.predict(submission_dataset['test']['x'])\n",
    "# Create submission file with obtained y_pred\n",
    "create_submit_file(df_submission, predictions)'''"
   ]
  },
  {
   "cell_type": "code",
   "execution_count": 23,
   "metadata": {
    "collapsed": true
   },
   "outputs": [],
   "source": [
    "# df_submission"
   ]
  },
  {
   "cell_type": "code",
   "execution_count": null,
   "metadata": {
    "collapsed": true
   },
   "outputs": [],
   "source": []
  }
 ],
 "metadata": {
  "kernelspec": {
   "display_name": "Python 2",
   "language": "python",
   "name": "python2"
  },
  "language_info": {
   "codemirror_mode": {
    "name": "ipython",
    "version": 2
   },
   "file_extension": ".py",
   "mimetype": "text/x-python",
   "name": "python",
   "nbconvert_exporter": "python",
   "pygments_lexer": "ipython2",
   "version": "2.7.14"
  }
 },
 "nbformat": 4,
 "nbformat_minor": 2
}
