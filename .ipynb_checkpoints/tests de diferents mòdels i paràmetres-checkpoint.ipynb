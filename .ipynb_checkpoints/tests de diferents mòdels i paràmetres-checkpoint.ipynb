{
 "cells": [
  {
   "cell_type": "markdown",
   "metadata": {},
   "source": [
    "# cosetes meves\n"
   ]
  },
  {
   "cell_type": "markdown",
   "metadata": {},
   "source": [
    "provar diferents models i provar dins de un model diferents paràmetres."
   ]
  },
  {
   "cell_type": "code",
   "execution_count": 1,
   "metadata": {},
   "outputs": [
    {
     "name": "stdout",
     "output_type": "stream",
     "text": [
      "importada matriu de piulades en brut:  (8784, 14)\n"
     ]
    }
   ],
   "source": [
    "#importem tota la col.lecció de piulades\n",
    "\n",
    "import pandas as pd\n",
    "\n",
    "df = pd.read_csv('tweets_public.csv', index_col='tweet_id')\n",
    "\n",
    "#print(\"df en brut: \",df.shape) #dimensió de la matriu pandas\n",
    "print(\"importada matriu de piulades en brut: \",df.shape) #dimensió de la matriu pandas\n"
   ]
  },
  {
   "cell_type": "code",
   "execution_count": 2,
   "metadata": {},
   "outputs": [
    {
     "name": "stdout",
     "output_type": "stream",
     "text": [
      "matriu de piulades netejades:  (8784, 14)\n"
     ]
    }
   ],
   "source": [
    "#netejar dades\n",
    "#df = df.loc[df.airline_sentiment_confidence > .99] #buidem aquells que tenen confidence < 0.95 \n",
    "#print(\"df amb confidència: \",df.shape) #dimensió matriu. \n",
    "print(\"matriu de piulades netejades: \",df.shape) #dimensió matriu. "
   ]
  },
  {
   "cell_type": "code",
   "execution_count": 3,
   "metadata": {
    "collapsed": true
   },
   "outputs": [],
   "source": [
    "from sklearn.feature_extraction.text import CountVectorizer\n",
    "from sklearn.model_selection import train_test_split\n",
    "\n",
    "\n",
    "def obtain_data_representation(df, test=None):\n",
    "    # If there is no test data, split the input\n",
    "    if test is None:\n",
    "        # Divide data in train and test\n",
    "        train, test = train_test_split(df, test_size=0.25) #dividim el df en 2, 75% i 25%. \n",
    "        #print(\"train shape: \",train.shape) #==> dataframe de test\n",
    "        #print(train.head())\n",
    "        df_train = train.loc\n",
    "        #print(\"test shape: \",test.shape)\n",
    "        #df.airline_sentiment = pd.Categorical(df.airline_sentiment) # mikel: que està fent aqui? \n",
    "        #print(df.shape)\n",
    "    else:\n",
    "        # Otherwise, all is train\n",
    "        train = df\n",
    "        \n",
    "    # Create a Bag of Words (BoW), by using train data only\n",
    "    #cv = CountVectorizer(max_features=2000,stop_words='english', token_pattern=r'[A-Za-z@#]{3,}|no|yes|wtf|hrs|jfk', min_df = 5)\n",
    "    cv = CountVectorizer(max_features=2000,stop_words='english', token_pattern=r'[A-Za-z@#]{2,}', min_df = 5)\n",
    "\n",
    "    vectonizer = cv.fit(train['text'])\n",
    "    #print(\"BoW: \",cv.vocabulary_) \n",
    "    #print(\"bloquejats : \",cv.stop_words_) \n",
    "        \n",
    "    x_train = vectonizer.transform(train['text']) #==> matriu piuladesXparaules, i les dades son el nombre de cops que apareix una paraula\n",
    "    y_train = train['airline_sentiment'].values #==> matriu amb resultat per cada piulada: piulada-resultat. (Px1)\n",
    "    \n",
    "    #print(\"x_train shape: \",x_train.shape)\n",
    "    #print(\"y_train shape: \",y_train.shape)\n",
    "        \n",
    "    #print(\"y_train: \",y_train)\n",
    "    #print(\"x_train[0]: \")\n",
    "    #print(\"x_train[0]: \")\n",
    "    #print(x_train[0])\n",
    "    #print(\"el primer de test['train']\")\n",
    "    #print(train['text'].head(1))\n",
    "           \n",
    "    # Obtain BoW for the test data, using the previously fitted one\n",
    "    x_test = vectonizer.transform(test['text'])\n",
    "    #print(\"x_test shape: \",x_test.shape)\n",
    "    #print(\"x_test[0]: \")\n",
    "    #print(x_test.head())\n",
    "    \n",
    "    y_test = test['airline_sentiment'].values\n",
    "    #print(\"el primer de test['text']\")\n",
    "    #print(test['text'].head(1))\n",
    "    #print(y_test)\n",
    "\n",
    "        \n",
    "    return {\n",
    "        'train': {\n",
    "            'x': x_train,\n",
    "            'y': y_train\n",
    "        },\n",
    "        'test': {\n",
    "            'x': x_test,\n",
    "            'y': y_test\n",
    "        }\n",
    "    }"
   ]
  },
  {
   "cell_type": "code",
   "execution_count": 4,
   "metadata": {
    "collapsed": true
   },
   "outputs": [],
   "source": [
    "#provar els models. #aquesta part és la de la classe. això no cal llençar-ho. a sorta hi ha la meva rutina. :P \n",
    "from sklearn.metrics import accuracy_score\n",
    "\n",
    "def train_model(dataset, dmodel, nom_model, *model_args, **model_kwargs):\n",
    "    # Create a Naive Bayes model\n",
    "    model = dmodel(*model_args, **model_kwargs)\n",
    "    \n",
    "    # Train it\n",
    "    model.fit(dataset['train']['x'], dataset['train']['y'])\n",
    "    \n",
    "    # Predict new values for test\n",
    "    y_pred = model.predict(dataset['test']['x'])\n",
    "    \n",
    "    # Print accuracy score unless its the submission dataset\n",
    "    if dataset['test']['y'] is not None:\n",
    "        score = accuracy_score(dataset['test']['y'], y_pred)\n",
    "        print(\"Model\", nom_model, \"score is: {}\".format(score))\n",
    "\n",
    "    # Done\n",
    "    return model, y_pred"
   ]
  },
  {
   "cell_type": "code",
   "execution_count": 5,
   "metadata": {},
   "outputs": [
    {
     "data": {
      "text/plain": [
       "[<matplotlib.text.Text at 0xbb3b730>,\n",
       " <matplotlib.text.Text at 0xc3ff830>,\n",
       " <matplotlib.text.Text at 0x8440dd0>,\n",
       " <matplotlib.text.Text at 0x8418470>,\n",
       " <matplotlib.text.Text at 0x8418af0>,\n",
       " <matplotlib.text.Text at 0x840d190>,\n",
       " <matplotlib.text.Text at 0x840d810>,\n",
       " <matplotlib.text.Text at 0x840de90>]"
      ]
     },
     "execution_count": 5,
     "metadata": {},
     "output_type": "execute_result"
    },
    {
     "data": {
      "image/png": "[encoded data removed]",
      "text/plain": [
       "<matplotlib.figure.Figure at 0xc3d3c10>"
      ]
     },
     "metadata": {},
     "output_type": "display_data"
    }
   ],
   "source": [
    "#intento provar els models de un altre forma, que jo pugui entrendre. :P \n",
    "\n",
    "%matplotlib inline \n",
    "#això es elque faltava per a pintar la gràfica!!!\n",
    "\n",
    "import pandas as pd\n",
    "import numpy as np\n",
    "import matplotlib.pyplot as plt\n",
    "from sklearn.naive_bayes import BernoulliNB\n",
    "from sklearn.naive_bayes import GaussianNB\n",
    "from sklearn.naive_bayes import MultinomialNB\n",
    "from sklearn.neighbors import KNeighborsClassifier\n",
    "from sklearn import neighbors\n",
    "from sklearn import metrics\n",
    "from sklearn import model_selection\n",
    "from sklearn import tree\n",
    "from sklearn import svm\n",
    "from sklearn import ensemble\n",
    "\n",
    "\n",
    "df = pd.read_csv('tweets_public.csv', index_col='tweet_id')\n",
    "df = df.loc[df.airline_sentiment_confidence > .99]\n",
    "#dataset = obtain_data_representation(df)\n",
    "\n",
    "tests = 8\n",
    "valor_per_defecte = 0.85\n",
    "\n",
    "acc_r=np.zeros((10,tests))\n",
    "\n",
    "for i in range(10):\n",
    "    dataset = obtain_data_representation(df) #això és una mcia marrano, però crec que funciona. \n",
    "    \n",
    "    bern = BernoulliNB(alpha=.20,binarize=0.0,fit_prior=True)\n",
    "    bern.fit(dataset['train']['x'], dataset['train']['y'])\n",
    "    yhat_bern=bern.predict(dataset['test']['x'])\n",
    "    acc_r[i][0] = metrics.accuracy_score(yhat_bern, dataset['test']['y'])\n",
    "    \n",
    "    if 0 is 1:\n",
    "        nn1 = neighbors.KNeighborsClassifier(n_neighbors=1)\n",
    "        nn1.fit(dataset['train']['x'], dataset['train']['y'])\n",
    "        yhat_nn1=nn1.predict(dataset['test']['x'])\n",
    "        acc_r[i][1] = metrics.accuracy_score(yhat_nn1, dataset['test']['y'])\n",
    "    else:\n",
    "        acc_r[i][1] = valor_per_defecte #per no escaxarrar la grfica. \n",
    "        \n",
    "    if 0 is 1:\n",
    "        nn1 = ensemble.GradientBoostingClassifier()\n",
    "        nn1.fit(dataset['train']['x'], dataset['train']['y'])\n",
    "        yhat_nn1=nn1.predict(dataset['test']['x'])\n",
    "        acc_r[i][1] = metrics.accuracy_score(yhat_nn1, dataset['test']['y'])\n",
    "    else:\n",
    "        acc_r[i][1] = valor_per_defecte #per no escaxarrar la grfica.        \n",
    "    \n",
    "    if 0 is 1:\n",
    "        nn3 = neighbors.KNeighborsClassifier(n_neighbors=3)\n",
    "        nn3.fit(dataset['train']['x'], dataset['train']['y'])\n",
    "        yhat_nn3=nn3.predict(dataset['test']['x'])\n",
    "        acc_r[i][2] = metrics.accuracy_score(yhat_nn3, dataset['test']['y'])\n",
    "    else:\n",
    "        acc_r[i][2] = valor_per_defecte #per no escaxarrar la grfica. \n",
    "    \n",
    "    if 0 is 1:\n",
    "        svc = svm.SVC()\n",
    "        svc.fit(dataset['train']['x'], dataset['train']['y'])\n",
    "        yhat_svc=svc.predict(dataset['test']['x'])\n",
    "        acc_r[i][3] = metrics.accuracy_score(yhat_svc, dataset['test']['y'])\n",
    "    else:\n",
    "        acc_r[i][3] = valor_per_defecte #per no escaxarrar la grfica. \n",
    "    \n",
    "    if 0 is 1:\n",
    "        dt = tree.DecisionTreeClassifier()\n",
    "        dt.fit(dataset['train']['x'], dataset['train']['y'])\n",
    "        yhat_dt=dt.predict(dataset['test']['x'])\n",
    "        acc_r[i][4] = metrics.accuracy_score(yhat_dt, dataset['test']['y'])\n",
    "    else:\n",
    "        acc_r[i][4] = valor_per_defecte #per no escaxarrar la grfica. \n",
    "        \n",
    "    if 0 is 1:\n",
    "        Gaussian = GaussianNB()\n",
    "        Gaussian.partial_fit(dataset['train']['x'], dataset['train']['y'].toarray(),np.unique(dataset['train']['y']))\n",
    "        yhat_Gaussian=Gaussian.predict(dataset['test']['x'])\n",
    "        acc_r[i][5] = metrics.accuracy_score(yhat_Gaussian, dataset['test']['y'])\n",
    "    else:\n",
    "        acc_r[i][5] = valor_per_defecte #joder, per no escaxarrar la gràfica\n",
    "        \n",
    "    Multinomial = MultinomialNB(alpha=.10,fit_prior=True)\n",
    "    Multinomial.fit(dataset['train']['x'], dataset['train']['y'])\n",
    "    yhat_Multinomial=Multinomial.predict(dataset['test']['x'])\n",
    "    acc_r[i][6] = metrics.accuracy_score(yhat_Multinomial, dataset['test']['y'])\n",
    "    \n",
    "    svcLinear = svm.LinearSVC()\n",
    "    svcLinear.fit(dataset['train']['x'], dataset['train']['y'])\n",
    "    yhat_svcLinear=svcLinear.predict(dataset['test']['x'])\n",
    "    acc_r[i][7] = metrics.accuracy_score(yhat_svcLinear, dataset['test']['y']) \n",
    "    \n",
    "plt.boxplot(acc_r);\n",
    "for i in range(tests):\n",
    "    xderiv = (i+1)*np.ones(acc_r[:,i].shape)+(np.random.rand(10,)-0.5)*0.1\n",
    "    plt.plot(xderiv,acc_r[:,i],'ro',alpha=0.3)\n",
    "    \n",
    "ax = plt.gca()\n",
    "ax.set_xticklabels(['bern','1-NN','3-NN','svc','tree','Gaussian','Multinomial','svcLinear'])\n"
   ]
  },
  {
   "cell_type": "code",
   "execution_count": 8,
   "metadata": {},
   "outputs": [
    {
     "data": {
      "text/plain": [
       "[<matplotlib.text.Text at 0xefa3170>,\n",
       " <matplotlib.text.Text at 0xc1e8750>,\n",
       " <matplotlib.text.Text at 0xd88adb0>,\n",
       " <matplotlib.text.Text at 0xd866450>]"
      ]
     },
     "execution_count": 8,
     "metadata": {},
     "output_type": "execute_result"
    },
    {
     "data": {
      "image/png": "[encoded data removed]",
      "text/plain": [
       "<matplotlib.figure.Figure at 0xc1beeb0>"
      ]
     },
     "metadata": {},
     "output_type": "display_data"
    }
   ],
   "source": [
    "#test de un model en concret, per a tocar els parametres. \n",
    "\n",
    "\n",
    "%matplotlib inline \n",
    "#això es elque faltava per a pintar la gràfica!!!\n",
    "\n",
    "import pandas as pd\n",
    "import numpy as np\n",
    "import matplotlib.pyplot as plt\n",
    "from sklearn.naive_bayes import BernoulliNB\n",
    "from sklearn.naive_bayes import GaussianNB\n",
    "from sklearn.naive_bayes import MultinomialNB\n",
    "from sklearn.neighbors import KNeighborsClassifier\n",
    "from sklearn import neighbors\n",
    "from sklearn import metrics\n",
    "from sklearn import model_selection\n",
    "from sklearn import tree\n",
    "from sklearn import svm\n",
    "from sklearn.linear_model import LogisticRegression\n",
    "\n",
    "\n",
    "df = pd.read_csv('tweets_public.csv', index_col='tweet_id')\n",
    "df = df.loc[df.airline_sentiment_confidence > .99]\n",
    "#dataset = obtain_data_representation(df)\n",
    "\n",
    "tests = 4\n",
    "valor_per_defecte = 0.85\n",
    "\n",
    "acc_r=np.zeros((10,tests))\n",
    "\n",
    "for i in range(10):\n",
    "    dataset = obtain_data_representation(df) #això és una mcia marrano, però crec que funciona. \n",
    "    \n",
    "    bern = LogisticRegression(class_weight=None)\n",
    "    bern.fit(dataset['train']['x'], dataset['train']['y'])\n",
    "    yhat_bern=bern.predict(dataset['test']['x'])\n",
    "    acc_r[i][0] = metrics.accuracy_score(yhat_bern, dataset['test']['y'])\n",
    "    \n",
    "    bern = LogisticRegression(class_weight=None)\n",
    "    bern.fit(dataset['train']['x'], dataset['train']['y'])\n",
    "    yhat_bern=bern.predict(dataset['test']['x'])\n",
    "    acc_r[i][1] = metrics.accuracy_score(yhat_bern, dataset['test']['y'])\n",
    "\n",
    "    bern = LogisticRegression(class_weight='balanced')\n",
    "    bern.fit(dataset['train']['x'], dataset['train']['y'])\n",
    "    yhat_bern=bern.predict(dataset['test']['x'])\n",
    "    acc_r[i][2] = metrics.accuracy_score(yhat_bern, dataset['test']['y'])\n",
    "    \n",
    "    bern = LogisticRegression()\n",
    "    bern.fit(dataset['train']['x'], dataset['train']['y'])\n",
    "    yhat_bern=bern.predict(dataset['test']['x'])\n",
    "    acc_r[i][3] = metrics.accuracy_score(yhat_bern, dataset['test']['y'])\n",
    "    \n",
    "plt.boxplot(acc_r);\n",
    "for i in range(tests):\n",
    "    xderiv = (i+1)*np.ones(acc_r[:,i].shape)+(np.random.rand(10,)-0.5)*0.1\n",
    "    plt.plot(xderiv,acc_r[:,i],'ro',alpha=0.3)\n",
    "    \n",
    "ax = plt.gca()\n",
    "ax.set_xticklabels(['1','2','3','4','5','6','7','8'])\n",
    "\n"
   ]
  },
  {
   "cell_type": "code",
   "execution_count": 7,
   "metadata": {},
   "outputs": [
    {
     "data": {
      "text/plain": [
       "[<matplotlib.text.Text at 0xda0c190>,\n",
       " <matplotlib.text.Text at 0xbfe11b0>,\n",
       " <matplotlib.text.Text at 0xc178e30>,\n",
       " <matplotlib.text.Text at 0xc17e4d0>,\n",
       " <matplotlib.text.Text at 0xc17eb50>,\n",
       " <matplotlib.text.Text at 0xc1821f0>,\n",
       " <matplotlib.text.Text at 0xc182870>,\n",
       " <matplotlib.text.Text at 0xc182ef0>]"
      ]
     },
     "execution_count": 7,
     "metadata": {},
     "output_type": "execute_result"
    },
    {
     "data": {
      "image/png": "[encoded data removed]",
      "text/plain": [
       "<matplotlib.figure.Figure at 0xd9ea0f0>"
      ]
     },
     "metadata": {},
     "output_type": "display_data"
    }
   ],
   "source": [
    "#intento provar els models de un altre forma, que jo pugui entrendre. :P \n",
    "# SEGON INTENT\n",
    "\n",
    "%matplotlib inline \n",
    "#això es elque faltava per a pintar la gràfica!!!\n",
    "\n",
    "import pandas as pd\n",
    "import numpy as np\n",
    "import matplotlib.pyplot as plt\n",
    "from sklearn.svm import LinearSVC\n",
    "from sklearn.ensemble import AdaBoostClassifier\n",
    "from sklearn.naive_bayes import MultinomialNB, BernoulliNB\n",
    "from sklearn.linear_model import RidgeClassifier\n",
    "from sklearn.linear_model import PassiveAggressiveClassifier\n",
    "from sklearn.linear_model import Perceptron\n",
    "from sklearn.neighbors import NearestCentroid\n",
    "from sklearn.feature_selection import SelectFromModel\n",
    "from sklearn.linear_model import LogisticRegression\n",
    "\n",
    "\n",
    "df = pd.read_csv('tweets_public.csv', index_col='tweet_id')\n",
    "df = df.loc[df.airline_sentiment_confidence > .99]\n",
    "#dataset = obtain_data_representation(df)\n",
    "\n",
    "tests = 8\n",
    "valor_per_defecte = 0.85\n",
    "\n",
    "acc_r=np.zeros((10,tests))\n",
    "\n",
    "for i in range(10):\n",
    "    dataset = obtain_data_representation(df) #això és una mcia marrano, però crec que funciona. \n",
    "    \n",
    "    bern = BernoulliNB(alpha=.20,binarize=0.0,fit_prior=True)\n",
    "    bern.fit(dataset['train']['x'], dataset['train']['y'])\n",
    "    yhat_bern=bern.predict(dataset['test']['x'])\n",
    "    acc_r[i][0] = metrics.accuracy_score(yhat_bern, dataset['test']['y'])\n",
    "    \n",
    "    if 0 is 0:\n",
    "        xx1 = LogisticRegression()\n",
    "        xx1.fit(dataset['train']['x'], dataset['train']['y'])\n",
    "        yhat_xx1=xx1.predict(dataset['test']['x'])\n",
    "        acc_r[i][1] = metrics.accuracy_score(yhat_xx1, dataset['test']['y'])\n",
    "    else:\n",
    "        acc_r[i][1] = valor_per_defecte #per no escaxarrar la grfica. \n",
    "    \n",
    "    if 0 is 0:\n",
    "        xx2 = LinearSVC()\n",
    "        xx2.fit(dataset['train']['x'], dataset['train']['y'])\n",
    "        yhat_xx2=xx2.predict(dataset['test']['x'])\n",
    "        acc_r[i][2] = metrics.accuracy_score(yhat_xx2, dataset['test']['y'])\n",
    "    else:\n",
    "        acc_r[i][2] = valor_per_defecte #per no escaxarrar la grfica. \n",
    "    \n",
    "    if 0 is 0:\n",
    "        xx3 = MultinomialNB()\n",
    "        xx3.fit(dataset['train']['x'], dataset['train']['y'])\n",
    "        yhat_xx3=xx3.predict(dataset['test']['x'])\n",
    "        acc_r[i][3] = metrics.accuracy_score(yhat_xx3, dataset['test']['y'])\n",
    "    else:\n",
    "        acc_r[i][3] = valor_per_defecte #per no escaxarrar la grfica. \n",
    "    \n",
    "    if 0 is 0:\n",
    "        xx4 = RidgeClassifier()\n",
    "        xx4.fit(dataset['train']['x'], dataset['train']['y'])\n",
    "        yhat_xx4=xx4.predict(dataset['test']['x'])\n",
    "        acc_r[i][4] = metrics.accuracy_score(yhat_xx4, dataset['test']['y'])\n",
    "    else:\n",
    "        acc_r[i][4] = valor_per_defecte #per no escaxarrar la grfica. \n",
    "    \n",
    "    acc_r[i][5] = valor_per_defecte #per no escaxarrar la grfica. \n",
    "    acc_r[i][6] = valor_per_defecte #per no escaxarrar la grfica. \n",
    "    acc_r[i][7] = valor_per_defecte #per no escaxarrar la grfica. \n",
    "        \n",
    "    \n",
    "plt.boxplot(acc_r);\n",
    "for i in range(tests):\n",
    "    xderiv = (i+1)*np.ones(acc_r[:,i].shape)+(np.random.rand(10,)-0.5)*0.1\n",
    "    plt.plot(xderiv,acc_r[:,i],'ro',alpha=0.3)\n",
    "    \n",
    "ax = plt.gca()\n",
    "ax.set_xticklabels(['bern','1-NN','3-NN','svc','tree','Gaussian','Multinomial','svcLinear'])\n"
   ]
  },
  {
   "cell_type": "code",
   "execution_count": 5,
   "metadata": {},
   "outputs": [
    {
     "name": "stdout",
     "output_type": "stream",
     "text": [
      "Model BernoulliNB score is: 0.8391025641025641\n",
      "Model KNeighborsClassifier score is: 0.5647435897435897\n"
     ]
    }
   ],
   "source": [
    "import pandas as pd\n",
    "import numpy as np\n",
    "from sklearn.naive_bayes import BernoulliNB\n",
    "from sklearn.neighbors import KNeighborsClassifier\n",
    "\n",
    "\n",
    "\n",
    "df = pd.read_csv('tweets_public.csv', index_col='tweet_id')\n",
    "df = df.loc[df.airline_sentiment_confidence > .99]\n",
    "dataset = obtain_data_representation(df)\n",
    "\n",
    "# Train a Bernoulli Naive Bayes\n",
    "modelNB, _ = train_model(dataset, BernoulliNB, \"BernoulliNB\")\n",
    "\n",
    "# Train a K Nearest Neighbors Classifier\n",
    "modelKN, _ = train_model(dataset, KNeighborsClassifier, \"KNeighborsClassifier\")"
   ]
  },
  {
   "cell_type": "markdown",
   "metadata": {},
   "source": [
    "## a partir d'aqui son merdes meves. "
   ]
  },
  {
   "cell_type": "code",
   "execution_count": 141,
   "metadata": {},
   "outputs": [
    {
     "name": "stdout",
     "output_type": "stream",
     "text": [
      "(4680, 10)\n",
      "(4680,)\n",
      "------------------------------\n",
      "  (0, 4)\t1\n",
      "------------------------------\n",
      "  (0, 2)\t1\n",
      "  (0, 6)\t1\n",
      "  (0, 9)\t1\n",
      "------------------------------\n",
      "mikel\n",
      "0\n"
     ]
    },
    {
     "ename": "TypeError",
     "evalue": "unsupported operand type(s) for +: 'int' and 'str'",
     "output_type": "error",
     "traceback": [
      "\u001b[1;31m---------------------------------------------------------------------------\u001b[0m",
      "\u001b[1;31mTypeError\u001b[0m                                 Traceback (most recent call last)",
      "\u001b[1;32m<ipython-input-141-584737c7637a>\u001b[0m in \u001b[0;36m<module>\u001b[1;34m()\u001b[0m\n\u001b[0;32m     15\u001b[0m \u001b[0mprint\u001b[0m\u001b[1;33m(\u001b[0m\u001b[0mmikel\u001b[0m\u001b[1;33m)\u001b[0m\u001b[1;33m\u001b[0m\u001b[0m\n\u001b[0;32m     16\u001b[0m \u001b[1;33m\u001b[0m\u001b[0m\n\u001b[1;32m---> 17\u001b[1;33m \u001b[0mmikel\u001b[0m\u001b[1;33m=\u001b[0m\u001b[0msum\u001b[0m\u001b[1;33m(\u001b[0m\u001b[0mdataset\u001b[0m\u001b[1;33m[\u001b[0m\u001b[1;34m'train'\u001b[0m\u001b[1;33m]\u001b[0m\u001b[1;33m[\u001b[0m\u001b[1;34m'y'\u001b[0m\u001b[1;33m]\u001b[0m\u001b[1;33m)\u001b[0m\u001b[1;33m\u001b[0m\u001b[0m\n\u001b[0m\u001b[0;32m     18\u001b[0m \u001b[0mprint\u001b[0m\u001b[1;33m(\u001b[0m\u001b[0mmikel\u001b[0m\u001b[1;33m)\u001b[0m\u001b[1;33m\u001b[0m\u001b[0m\n\u001b[0;32m     19\u001b[0m \u001b[1;33m\u001b[0m\u001b[0m\n",
      "\u001b[1;31mTypeError\u001b[0m: unsupported operand type(s) for +: 'int' and 'str'"
     ]
    }
   ],
   "source": [
    "#df.head(1)\n",
    "print(dataset['train']['x'].shape)\n",
    "print(dataset['train']['y'].shape)\n",
    "print(\"------------------------------\")\n",
    "#print(dataset['train']['x'][2][0,8])\n",
    "print(dataset['train']['x'][2][0,])\n",
    "print(\"------------------------------\")\n",
    "print(dataset['train']['x'][0])\n",
    "print(\"------------------------------\")\n",
    "\n",
    "#print(dataset['train']['x'][2].groupby('x'))\n",
    "print(\"mikel\")\n",
    "mikel=dataset['train']['x'][2,0]\n",
    "\n",
    "print(mikel)\n",
    "\n",
    "mikel=sum(dataset['train']['y']) \n",
    "print(mikel)\n",
    "\n",
    "\n",
    "#print(dataset['train']['x'][].colsum())\n",
    "#print(dataset['train']['x'])"
   ]
  },
  {
   "cell_type": "code",
   "execution_count": 33,
   "metadata": {},
   "outputs": [
    {
     "name": "stdout",
     "output_type": "stream",
     "text": [
      "train shape:  (4680, 14)\n",
      "BoW:  {'@southwestair': 2, 'flight': 6, 'and': 5, 'you': 9, '@united': 3, 'the': 8, 'for': 7, '@usairways': 4, '@americanair': 0, '@jetblue': 1}\n",
      "x_train shape:  (4680, 10)\n",
      "y_train shape:  (4680,)\n",
      "x_train[0]: \n",
      "  (0, 2)\t1\n",
      "  (0, 5)\t1\n",
      "  (0, 6)\t1\n",
      "el primer de test['train']\n",
      "tweet_id\n",
      "568998681715695618    @southwestair Landed an hour Late Flight from ...\n",
      "Name: text, dtype: object\n",
      "mikel:    \n",
      "  (0, 2)\t1\n",
      "  (0, 5)\t1\n",
      "  (0, 6)\t1\n",
      "negative\n",
      "{'train': {'x': <4680x10 sparse matrix of type '<class 'numpy.int64'>'\n",
      "\twith 10922 stored elements in Compressed Sparse Row format>, 'y': array(['negative', 'positive', 'negative', ..., 'negative', 'negative',\n",
      "       'negative'], dtype=object)}, 'test': {'x': <1560x10 sparse matrix of type '<class 'numpy.int64'>'\n",
      "\twith 3693 stored elements in Compressed Sparse Row format>, 'y': array(['negative', 'negative', 'negative', ..., 'negative', 'negative',\n",
      "       'negative'], dtype=object)}}\n"
     ]
    }
   ],
   "source": [
    "dataset = obtain_data_representation(df) #obtenim el nostre dataset. \n",
    "print(\"mikel:    \")\n",
    "#print(dataset['train']['x'])\n",
    "print(dataset['train']['x'][0])\n",
    "print(dataset['train']['y'][0])\n",
    "print(dataset)"
   ]
  },
  {
   "cell_type": "code",
   "execution_count": 6,
   "metadata": {},
   "outputs": [
    {
     "data": {
      "text/html": [
       "<div>\n",
       "<style>\n",
       "    .dataframe thead tr:only-child th {\n",
       "        text-align: right;\n",
       "    }\n",
       "\n",
       "    .dataframe thead th {\n",
       "        text-align: left;\n",
       "    }\n",
       "\n",
       "    .dataframe tbody tr th {\n",
       "        vertical-align: top;\n",
       "    }\n",
       "</style>\n",
       "<table border=\"1\" class=\"dataframe\">\n",
       "  <thead>\n",
       "    <tr style=\"text-align: right;\">\n",
       "      <th></th>\n",
       "      <th>airline_sentiment</th>\n",
       "      <th>airline_sentiment_confidence</th>\n",
       "      <th>negativereason</th>\n",
       "      <th>negativereason_confidence</th>\n",
       "      <th>airline</th>\n",
       "      <th>airline_sentiment_gold</th>\n",
       "      <th>name</th>\n",
       "      <th>negativereason_gold</th>\n",
       "      <th>retweet_count</th>\n",
       "      <th>text</th>\n",
       "      <th>tweet_coord</th>\n",
       "      <th>tweet_created</th>\n",
       "      <th>tweet_location</th>\n",
       "      <th>user_timezone</th>\n",
       "    </tr>\n",
       "    <tr>\n",
       "      <th>tweet_id</th>\n",
       "      <th></th>\n",
       "      <th></th>\n",
       "      <th></th>\n",
       "      <th></th>\n",
       "      <th></th>\n",
       "      <th></th>\n",
       "      <th></th>\n",
       "      <th></th>\n",
       "      <th></th>\n",
       "      <th></th>\n",
       "      <th></th>\n",
       "      <th></th>\n",
       "      <th></th>\n",
       "      <th></th>\n",
       "    </tr>\n",
       "  </thead>\n",
       "  <tbody>\n",
       "    <tr>\n",
       "      <th>569237160886276096</th>\n",
       "      <td>negative</td>\n",
       "      <td>1.0</td>\n",
       "      <td>Can't Tell</td>\n",
       "      <td>0.6543</td>\n",
       "      <td>Delta</td>\n",
       "      <td>NaN</td>\n",
       "      <td>venkatesh_cr</td>\n",
       "      <td>NaN</td>\n",
       "      <td>0</td>\n",
       "      <td>@JetBlue I've been in pricing for 8 years to k...</td>\n",
       "      <td>NaN</td>\n",
       "      <td>2015-02-21 12:48:09 -0800</td>\n",
       "      <td>Austin Texas</td>\n",
       "      <td>Central Time (US &amp; Canada)</td>\n",
       "    </tr>\n",
       "  </tbody>\n",
       "</table>\n",
       "</div>"
      ],
      "text/plain": [
       "                   airline_sentiment  airline_sentiment_confidence  \\\n",
       "tweet_id                                                             \n",
       "569237160886276096          negative                           1.0   \n",
       "\n",
       "                   negativereason  negativereason_confidence airline  \\\n",
       "tweet_id                                                               \n",
       "569237160886276096     Can't Tell                     0.6543   Delta   \n",
       "\n",
       "                   airline_sentiment_gold          name negativereason_gold  \\\n",
       "tweet_id                                                                      \n",
       "569237160886276096                    NaN  venkatesh_cr                 NaN   \n",
       "\n",
       "                    retweet_count  \\\n",
       "tweet_id                            \n",
       "569237160886276096              0   \n",
       "\n",
       "                                                                 text  \\\n",
       "tweet_id                                                                \n",
       "569237160886276096  @JetBlue I've been in pricing for 8 years to k...   \n",
       "\n",
       "                   tweet_coord              tweet_created tweet_location  \\\n",
       "tweet_id                                                                   \n",
       "569237160886276096         NaN  2015-02-21 12:48:09 -0800   Austin Texas   \n",
       "\n",
       "                                 user_timezone  \n",
       "tweet_id                                        \n",
       "569237160886276096  Central Time (US & Canada)  "
      ]
     },
     "execution_count": 6,
     "metadata": {},
     "output_type": "execute_result"
    }
   ],
   "source": [
    "df.head(1)\n",
    "#df[0:1]\n",
    "#df.loc[0:1,['text']]\n"
   ]
  },
  {
   "cell_type": "code",
   "execution_count": null,
   "metadata": {
    "collapsed": true
   },
   "outputs": [],
   "source": []
  }
 ],
 "metadata": {
  "kernelspec": {
   "display_name": "Python 2",
   "language": "python",
   "name": "python2"
  },
  "language_info": {
   "codemirror_mode": {
    "name": "ipython",
    "version": 2
   },
   "file_extension": ".py",
   "mimetype": "text/x-python",
   "name": "python",
   "nbconvert_exporter": "python",
   "pygments_lexer": "ipython2",
   "version": "2.7.14"
  }
 },
 "nbformat": 4,
 "nbformat_minor": 2
}
