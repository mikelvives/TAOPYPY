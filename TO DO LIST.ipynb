{
 "cells": [
  {
   "cell_type": "markdown",
   "metadata": {},
   "source": [
    "<img src=https://pre00.deviantart.net/4547/th/pre/f/2017/180/1/0/tao_pai_pai_by_wandertof-d9xtmm9.jpg height=\"500\" width=\"500\">\n",
    "\n",
    "# Roadbook del grup taopypy\n",
    "\n",
    "aquest notebook ens pot servir com a agenda de tasques a fer i recopilatori de coses que hem fet. \n",
    "\n",
    "\n",
    "## links\n",
    "app per a etiquetar twitts : http://34.207.47.25:5000/  \n",
    "\n",
    "url github: https://github.com/mikelvives/TAOPYPY.git \n",
    "\n",
    "\n",
    "## directori:\n",
    "tweets_public.csv - the training set\n",
    "\n",
    "tweets_submission.csv - the test set\n",
    "\n",
    "sampleSubmission.csv - a sample submission file in the correct format\n",
    "\n",
    "baseline.ipynb - example of a classification model\n",
    "\n",
    "\n",
    "\n"
   ]
  },
  {
   "cell_type": "markdown",
   "metadata": {},
   "source": [
    "\n",
    "## coses fetes\n",
    "\n",
    "1. Github creat :) \n",
    "2. pujar a GITHUB tot el que ja tenim de python. sigui quin sigui el resultat a kaggle. això ens servirà com a base per a propers evolutius. "
   ]
  },
  {
   "cell_type": "markdown",
   "metadata": {},
   "source": [
    "## coses a fer\n",
    "\n",
    "*3 visualitzar les dades. i aplicar sentit comú per a buscar el model. \n",
    "3.1 fer un histograma de les paraules:  divideixi paraula / frequencia / etiqueta (si/no/neutral) \n",
    "\n",
    "\n",
    "*4 fer codi per a provar altres models, dels que em vist a clase. \n",
    "\n",
    "4.1. codi per a netejar dades. \n",
    "4.2 codi per a preparar dades per al model\n",
    "4.3 codi del model\n",
    "4.4 cross validation .\n"
   ]
  },
  {
   "cell_type": "markdown",
   "metadata": {},
   "source": [
    "## next steps\n",
    "\n",
    "-- 2 o 3 setmanes per a estudiar repasar el codi del l'Oriol."
   ]
  },
  {
   "cell_type": "code",
   "execution_count": null,
   "metadata": {
    "collapsed": true
   },
   "outputs": [],
   "source": []
  }
 ],
 "metadata": {
  "kernelspec": {
   "display_name": "Python 3",
   "language": "python",
   "name": "python3"
  },
  "language_info": {
   "codemirror_mode": {
    "name": "ipython",
    "version": 3
   },
   "file_extension": ".py",
   "mimetype": "text/x-python",
   "name": "python",
   "nbconvert_exporter": "python",
   "pygments_lexer": "ipython3",
   "version": "3.6.1"
  }
 },
 "nbformat": 4,
 "nbformat_minor": 2
}
