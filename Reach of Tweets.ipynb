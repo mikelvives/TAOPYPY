{
 "cells": [
  {
   "cell_type": "code",
   "execution_count": 1,
   "metadata": {},
   "outputs": [],
   "source": [
    "import pandas as pd, numpy as np"
   ]
  },
  {
   "cell_type": "code",
   "execution_count": 2,
   "metadata": {},
   "outputs": [],
   "source": [
    "df = pd.read_csv('tweets_public.csv', encoding='utf-16', index_col='tweet_id', sep=',')"
   ]
  },
  {
   "cell_type": "code",
   "execution_count": 42,
   "metadata": {},
   "outputs": [],
   "source": [
    "tweet_IDs=df.index.tolist()"
   ]
  },
  {
   "cell_type": "code",
   "execution_count": null,
   "metadata": {},
   "outputs": [],
   "source": [
    "import json\n",
    "import tweepy\n",
    "\n",
    "consumer_key = \"Ny2u44H4ZnbaCNV92qfmf2jz4\"\n",
    "consumer_secret = \"YM24kgefh8HiRWulfDBzRtJeL9cSWIO6ulT1G7XSlRNYwe72kg\"\n",
    "\n",
    "access_key = \"231486130-zsIkfy81khKRZeKK9Bkjji1Ft8zXoE0Pm0IkXbfV\"\n",
    "access_secret = \"UNquWC3iAKUpjn8UZk0i0Z2U9gmi0KRrZC1VGbqMLRyn7\"\n",
    "\n",
    "#Authentication\n",
    "auth = tweepy.OAuthHandler(consumer_key, consumer_secret)\n",
    "auth.set_access_token(access_key, access_secret)\n",
    "#api = tweepy.API(auth)\n",
    "api = tweepy.API(auth, wait_on_rate_limit=True, wait_on_rate_limit_notify=True)"
   ]
  },
  {
   "cell_type": "code",
   "execution_count": 66,
   "metadata": {},
   "outputs": [
    {
     "data": {
      "text/plain": [
       "7867"
      ]
     },
     "execution_count": 66,
     "metadata": {},
     "output_type": "execute_result"
    }
   ],
   "source": [
    "len(tweet_IDs)"
   ]
  },
  {
   "cell_type": "code",
   "execution_count": 70,
   "metadata": {},
   "outputs": [
    {
     "name": "stderr",
     "output_type": "stream",
     "text": [
      "Rate limit reached. Sleeping for: 535\n",
      "Rate limit reached. Sleeping for: 532\n",
      "Rate limit reached. Sleeping for: 533\n",
      "Rate limit reached. Sleeping for: 527\n",
      "Rate limit reached. Sleeping for: 533\n",
      "Rate limit reached. Sleeping for: 528\n",
      "Rate limit reached. Sleeping for: 535\n",
      "Rate limit reached. Sleeping for: 535\n"
     ]
    }
   ],
   "source": [
    "user_followers = []\n",
    "for i in tweet_IDs:\n",
    "    #print(api.get_status(i).author.followers_count)\n",
    "    try:\n",
    "        user_followers.append(api.get_status(i).author.followers_count)\n",
    "    except:\n",
    "        user_followers.append(0)"
   ]
  },
  {
   "cell_type": "code",
   "execution_count": 71,
   "metadata": {},
   "outputs": [
    {
     "data": {
      "text/plain": [
       "7867"
      ]
     },
     "execution_count": 71,
     "metadata": {},
     "output_type": "execute_result"
    }
   ],
   "source": [
    "len(user_followers)"
   ]
  },
  {
   "cell_type": "code",
   "execution_count": 73,
   "metadata": {},
   "outputs": [],
   "source": [
    "reach_tweets = pd.DataFrame(\n",
    "    {'tweet_IDs':tweet_IDs,\n",
    "     'user_followers':user_followers})"
   ]
  },
  {
   "cell_type": "code",
   "execution_count": 79,
   "metadata": {},
   "outputs": [
    {
     "data": {
      "text/plain": [
       "58525886"
      ]
     },
     "execution_count": 79,
     "metadata": {},
     "output_type": "execute_result"
    }
   ],
   "source": [
    "reach_tweets['user_followers'].sum()"
   ]
  },
  {
   "cell_type": "code",
   "execution_count": 78,
   "metadata": {},
   "outputs": [],
   "source": [
    "reach_tweets.to_csv('reach_tweets.csv')"
   ]
  }
 ],
 "metadata": {
  "kernelspec": {
   "display_name": "Python 3",
   "language": "python",
   "name": "python3"
  },
  "language_info": {
   "codemirror_mode": {
    "name": "ipython",
    "version": 3
   },
   "file_extension": ".py",
   "mimetype": "text/x-python",
   "name": "python",
   "nbconvert_exporter": "python",
   "pygments_lexer": "ipython3",
   "version": "3.6.4"
  }
 },
 "nbformat": 4,
 "nbformat_minor": 2
}
